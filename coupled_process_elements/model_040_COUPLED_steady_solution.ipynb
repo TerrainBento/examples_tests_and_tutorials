{
 "cells": [
  {
   "cell_type": "markdown",
   "metadata": {},
   "source": [
    "![terrainbento logo](../images/terrainbento_logo.png)\n",
    "\n",
    "# Model 040 BasicCh: Coupled Steady-State Solution"
   ]
  },
  {
   "cell_type": "markdown",
   "metadata": {},
   "source": [
    "This model shows example usage of the Basic model from the TerrainBento package.\n",
    "\n",
    "Instead of the linear flux law for hillslope erosion and transport, BasicCh uses a nonlinear (cubic) law:\n",
    "\n",
    "$\\frac{\\partial \\eta}{\\partial t} = - KA^{1/2}S - \\nabla q_h$ \n",
    "\n",
    "$q_h = -D \\left( \\nabla \\eta + \\frac{1}{S_c^2} \\left[ \\nabla \\eta \\right]^3 \\right)$\n",
    "\n",
    "where $S_c$ is a critical slope gradient. \n",
    "\n",
    "Refer to [REF MANUSCRIPT] for the definition of all symbols. \n",
    "\n",
    "This notebook (a) shows the initialization and running of this model, (b) saves a NetCDF file of the topography, which we will use to make an oblique Paraview image of the landscape, and (c) creates a slope-area plot at steady state."
   ]
  },
  {
   "cell_type": "code",
   "execution_count": null,
   "metadata": {
    "collapsed": true
   },
   "outputs": [],
   "source": [
    "# import required modules\n",
    "import os\n",
    "import numpy as np\n",
    "\n",
    "import matplotlib.pyplot as plt\n",
    "import matplotlib\n",
    "matplotlib.rcParams.update({'font.size': 20})\n",
    "%matplotlib inline\n",
    "\n",
    "from landlab import imshow_grid\n",
    "from landlab.io.netcdf import write_netcdf\n",
    "\n",
    "from terrainbento import BasicCh"
   ]
  },
  {
   "cell_type": "code",
   "execution_count": null,
   "metadata": {
    "collapsed": true
   },
   "outputs": [],
   "source": [
    "# create the parameter dictionary needed to instantiate the model \n",
    "# all parameters used are specified in this notebook block\n",
    "\n",
    "params = {# these three parameters are required by all models\n",
    "          'dt' : 100, # years\n",
    "          'output_interval': 1e4, # years\n",
    "          'run_duration': 1e6, # years\n",
    "          # these parameters are needed to specify the details of the model grid\n",
    "          'number_of_node_rows' : 100,\n",
    "          'number_of_node_columns' : 160,\n",
    "          'node_spacing' : 10.0, # meters\n",
    "          \"add_random_noise\": True, \n",
    "          \"initial_noise_std\": 1.,\n",
    "          'random_seed': 4897, # set to initialize the topography with reproducible random noise\n",
    "          # these parameter control geomorphic processes\n",
    "         'water_erodability' : 0.001, # years^-1\n",
    "         'm_sp' : 0.5, # unitless\n",
    "         'n_sp' : 1.0, # unitless\n",
    "         'regolith_transport_parameter' : 0.1, # meters^2/year\n",
    "         'critical_slope' : 0.3, # unitless\n",
    "         # these parameters control model boundary conditions\n",
    "          \"BoundaryHandlers\": \"NotCoreNodeBaselevelHandler\",\n",
    "          \"NotCoreNodeBaselevelHandler\": {\"modify_core_nodes\": True, \"lowering_rate\": -0.0005} , # meters/year\n",
    "          # these parameter control how model output is written\n",
    "          'save_first_timestep': True,\n",
    "          'output_filename': 'output_netcdfs/basicCh.',\n",
    "         }"
   ]
  },
  {
   "cell_type": "code",
   "execution_count": null,
   "metadata": {
    "collapsed": true
   },
   "outputs": [],
   "source": [
    "# initialize the model by passing the parameter dictionary\n",
    "model = BasicCh(params=params)\n",
    "\n",
    "# to run the model as specified by the parameters we execute the following line:\n",
    "model.run(output_fields='topographic__elevation')"
   ]
  },
  {
   "cell_type": "code",
   "execution_count": null,
   "metadata": {
    "collapsed": true
   },
   "outputs": [],
   "source": [
    "# MAKE SLOPE-AREA PLOT\n",
    "\n",
    "# plot nodes that are not on the boundary or adjacent to it\n",
    "plotting_nodes = ((model.grid.node_x > params['node_spacing'])&\n",
    "                  (model.grid.node_x < params['node_spacing']*(params['number_of_node_columns']-2))&\n",
    "                  (model.grid.node_y > params['node_spacing'])&\n",
    "                  (model.grid.node_y < params['node_spacing']*(params['number_of_node_rows']-2)))\n",
    "\n",
    "# assign area_array and slope_array\n",
    "area_array = model.grid.at_node['drainage_area'][plotting_nodes]\n",
    "slope_array = model.grid.at_node['topographic__steepest_slope'][plotting_nodes]\n",
    "\n",
    "# instantiate figure and plot\n",
    "fig = plt.figure(figsize=(6, 3.75))\n",
    "slope_area = plt.subplot()\n",
    "\n",
    "# plot the data\n",
    "slope_area.scatter(area_array, slope_array, marker='o', c='k', \n",
    "                   label = 'Model BasicCh') \n",
    "                   \n",
    "# make axes log and set limits\n",
    "slope_area.set_xscale('log')\n",
    "slope_area.set_yscale('log')\n",
    "\n",
    "slope_area.set_xlim(9*10**1, 3*10**5)\n",
    "slope_area.set_ylim(1e-3, 1e-1)\n",
    "\n",
    "# set x and y labels\n",
    "slope_area.set_xlabel(r'Drainage area [m$^2$]')\n",
    "slope_area.set_ylabel('Channel slope [-]')\n",
    "slope_area.legend(scatterpoints=1,prop={'size':12})\n",
    "slope_area.tick_params(axis='x', which='major', pad=7)\n",
    "\n",
    "# save out an output figure\n",
    "output_figure = os.path.join('output_figures/maintext_taylor_hillslopes_slope_area.eps')\n",
    "fig.savefig(output_figure, bbox_inches='tight', dpi=1000) # save figure"
   ]
  },
  {
   "cell_type": "code",
   "execution_count": null,
   "metadata": {
    "collapsed": true
   },
   "outputs": [],
   "source": [
    "# Save stack of all netcdfs for Paraview to use.\n",
    "model.save_to_xarray_dataset(filename=\"output_netcdfs/basicCh.nc\", \n",
    "                             time_unit='years', \n",
    "                             reference_time='model start', \n",
    "                             space_unit='meters')\n",
    "        \n",
    "# remove temporary netcdfs\n",
    "model.remove_output_netcdfs()"
   ]
  },
  {
   "cell_type": "code",
   "execution_count": null,
   "metadata": {
    "collapsed": true
   },
   "outputs": [],
   "source": [
    "# make a plot of the final steady state topography\n",
    "imshow_grid(model.grid, 'topographic__elevation')"
   ]
  },
  {
   "cell_type": "markdown",
   "metadata": {},
   "source": [
    "## Next Steps\n",
    "\n",
    "- We recommend you review the [terrainbento manuscript](). **Link not yet active**\n",
    "\n",
    "- There are three additional introductory tutorials: \n",
    "\n",
    "    1) [Introduction terrainbento](http://localhost:8888/notebooks/example_usage/Introduction_to_terrainbento.ipynb) \n",
    "    \n",
    "    2) [Introduction to boundary conditions in terrainbento](http://localhost:8888/notebooks/example_usage/introduction_to_boundary_conditions.ipynb)\n",
    "    \n",
    "    3) **This Notebook**: [Introduction to OutputWriters in terrainbento](http://localhost:8888/notebooks/example_usage/introduction_to_output_writers.ipynb). \n",
    "    \n",
    "    \n",
    "- Five examples of steady state behavior in coupled process models can be found in the following notebooks:\n",
    "\n",
    "    1) [Basic](http://localhost:8888/notebooks/coupled_process_elements/model_000_COUPLED_steady_solution.ipynb) the simplest landscape evolution model in the terrainbento package.\n",
    "\n",
    "    2) [BasicVm](http://localhost:8888/notebooks/coupled_process_elements/model_001_COUPLED_steady_solution.ipynb) which permits the drainage area exponent to change.\n",
    "\n",
    "    3) [BasicCh](http://localhost:8888/notebooks/coupled_process_elements/model_040_COUPLED_steady_solution.ipynb) which uses a non-linear hillslope erosion and transport law.\n",
    "\n",
    "    4) [BasicVs](http://localhost:8888/notebooks/coupled_process_elements/model_200_COUPLED_steady_solution.ipynb) which uses variable source area hydrology.\n",
    "\n",
    "    5) [BasisRt](http://localhost:8888/notebooks/coupled_process_elements/model_800_COUPLED_steady_solution.ipynb) which allows for two lithologies with different K values."
   ]
  }
 ],
 "metadata": {
  "kernelspec": {
   "display_name": "Python 3",
   "language": "python",
   "name": "python3"
  },
  "language_info": {
   "codemirror_mode": {
    "name": "ipython",
    "version": 3
   },
   "file_extension": ".py",
   "mimetype": "text/x-python",
   "name": "python",
   "nbconvert_exporter": "python",
   "pygments_lexer": "ipython3",
   "version": "3.6.2"
  }
 },
 "nbformat": 4,
 "nbformat_minor": 2
}
