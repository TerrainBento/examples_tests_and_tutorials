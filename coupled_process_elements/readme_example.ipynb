{
 "cells": [
  {
   "cell_type": "code",
   "execution_count": 1,
   "metadata": {},
   "outputs": [],
   "source": [
    "from terrainbento import Basic\n",
    "\n",
    "params = {\n",
    "    # create the Clock.\n",
    "    \"clock\": {\"start\": 0, \n",
    "              \"step\": 10,\n",
    "              \"stop\": 1e5},\n",
    "    \n",
    "    # Create the Grid.\n",
    "    \"grid\": {\"grid\": {\"RasterModelGrid\":[(200, 320), {\"xy_spacing\": 10}]},\n",
    "             \"fields\": {\"at_node\": {\"topographic__elevation\":{\"random\":[{\"where\":\"CORE_NODE\"}]}}}},\n",
    "    \n",
    "    # Set up Boundary Handlers\n",
    "    \"boundary_handlers\":{\"NotCoreNodeBaselevelHandler\": {\"modify_core_nodes\": True, \n",
    "                                                         \"lowering_rate\": -0.001}},\n",
    "    # Parameters that control output.\n",
    "    \"output_interval\": 1e3, \n",
    "    \"save_first_timestep\": True,\n",
    "    \"fields\":[\"topographic__elevation\"],\n",
    "             \n",
    "    # Parameters that control process and rates.\n",
    "    \"water_erodibility\" : 0.001,\n",
    "    \"m_sp\" : 0.5,\n",
    "    \"n_sp\" : 1.0, \n",
    "    \"regolith_transport_parameter\" : 0.2,           \n",
    "         }\n",
    "\n",
    "model = Basic.from_dict(params)"
   ]
  },
  {
   "cell_type": "code",
   "execution_count": 2,
   "metadata": {},
   "outputs": [],
   "source": [
    "model.run()"
   ]
  },
  {
   "cell_type": "code",
   "execution_count": 3,
   "metadata": {},
   "outputs": [
    {
     "data": {
      "text/plain": [
       "<Figure size 432x288 with 0 Axes>"
      ]
     },
     "metadata": {},
     "output_type": "display_data"
    }
   ],
   "source": [
    "from landlab import imshow_grid\n",
    "\n",
    "filenames = []\n",
    "ds = model.to_xarray_dataset()\n",
    "for i in range(ds.topographic__elevation.shape[0]):\n",
    "    filename = \"temp_output.\"+str(i)+\".png\"\n",
    "    imshow_grid(model.grid, \n",
    "                ds.topographic__elevation.values[i, :, :], \n",
    "                cmap=\"viridis\", \n",
    "                limits=(0, 12), \n",
    "                output=filename)\n",
    "    filenames.append(filename)"
   ]
  },
  {
   "cell_type": "code",
   "execution_count": 4,
   "metadata": {},
   "outputs": [],
   "source": [
    "import os\n",
    "import imageio\n",
    "with imageio.get_writer(\"terrainbento_example.gif\", mode=\"I\") as writer:\n",
    "    for filename in filenames:\n",
    "        image = imageio.imread(filename)\n",
    "        writer.append_data(image)\n",
    "        os.remove(filename)"
   ]
  },
  {
   "cell_type": "code",
   "execution_count": 5,
   "metadata": {},
   "outputs": [],
   "source": [
    "model.remove_output_netcdfs()"
   ]
  }
 ],
 "metadata": {
  "kernelspec": {
   "display_name": "Python 3",
   "language": "python",
   "name": "python3"
  },
  "language_info": {
   "codemirror_mode": {
    "name": "ipython",
    "version": 3
   },
   "file_extension": ".py",
   "mimetype": "text/x-python",
   "name": "python",
   "nbconvert_exporter": "python",
   "pygments_lexer": "ipython3",
   "version": "3.6.8"
  }
 },
 "nbformat": 4,
 "nbformat_minor": 2
}
