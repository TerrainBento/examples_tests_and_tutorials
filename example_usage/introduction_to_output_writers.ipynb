{
 "cells": [
  {
   "cell_type": "markdown",
   "metadata": {},
   "source": [
    "![terrainbento logo](../images/terrainbento_logo.png)\n",
    "\n",
    "\n",
    "# Introduction to the terrainbento `OutputWriters`.\n",
    "\n",
    "\n",
    "## Overview\n",
    "This tutorials shows example usage of the terrainbento boundary handlers. For comprehensive information about all options and defaults, refer to the [documentation](http://terrainbento.readthedocs.io/en/latest/). \n",
    "\n",
    "## Prerequisites\n",
    "This tutorial assumes you have at least skimmed the [terrainbento manuscript]() and worked through the [Introduction to terrainbento]() tutorial. \n",
    "\n",
    "\n",
    "### terrainbento `OutputWriters`\n",
    "\n",
    "\n",
    "\n",
    "### Example Usage\n",
    "\n",
    "To begin, we will import the required python modules. "
   ]
  },
  {
   "cell_type": "code",
   "execution_count": 1,
   "metadata": {
    "collapsed": true
   },
   "outputs": [],
   "source": [
    "import os\n",
    "import glob\n",
    "\n",
    "import numpy as np\n",
    "import pandas as pd\n",
    "\n",
    "import matplotlib\n",
    "import matplotlib.pyplot as plt\n",
    "%matplotlib inline\n",
    "\n",
    "from landlab.components import DrainageDensity\n",
    "from landlab import imshow_grid\n",
    "\n",
    "from terrainbento import Basic"
   ]
  },
  {
   "cell_type": "markdown",
   "metadata": {},
   "source": []
  },
  {
   "cell_type": "code",
   "execution_count": 2,
   "metadata": {
    "collapsed": true
   },
   "outputs": [],
   "source": [
    "def write_drainage_density(model):\n",
    "    channels = model.grid.at_node['drainage_area'] > 2000\n",
    "    dd = DrainageDensity(model.grid, channel__mask=channels)\n",
    "    mean_drainage_density = dd.calc_drainage_density()    \n",
    "    with open('drainage_density.' + str(int(model.model_time)) + '.txt', 'w') as f:\n",
    "        f.write(str(mean_drainage_density))\n",
    "    del dd\n"
   ]
  },
  {
   "cell_type": "markdown",
   "metadata": {},
   "source": []
  },
  {
   "cell_type": "code",
   "execution_count": 3,
   "metadata": {
    "collapsed": true
   },
   "outputs": [],
   "source": [
    "basic_params = {# these three parameters are required by all models\n",
    "          'dt' : 500, # years\n",
    "          'output_interval': 1e3, # years\n",
    "          'run_duration': 2e5, # years\n",
    "          # these parameters are needed to specify the details of the model \n",
    "          # grid, by default a raster model grid is created\n",
    "          'number_of_node_rows' : 100,\n",
    "          'number_of_node_columns' : 160,\n",
    "          'node_spacing' : 10.0, # meters  \n",
    "          \"add_random_noise\": True, \n",
    "          \"initial_noise_std\": 1.,\n",
    "          \"initial_elevation\": 5.,\n",
    "          'random_seed': 4897, # set to initialize the topography with reproducible random noise\n",
    "          # these parameter control geomorphic processes\n",
    "          'water_erodability' : 0.001, # years^-1\n",
    "          'm_sp' : 0.5, # unitless\n",
    "          'n_sp' : 1.0, # unitless\n",
    "          'regolith_transport_parameter' : 0.1, # meters^2/year\n",
    "          # these parameters control model boundary conditions\n",
    "          \"BoundaryHandlers\": \"NotCoreNodeBaselevelHandler\",\n",
    "          \"NotCoreNodeBaselevelHandler\": {\"modify_core_nodes\": True, \"lowering_rate\": -0.0005} , # meters/year\n",
    "          # these parameter control how model output is written\n",
    "          'save_first_timestep': True,\n",
    "          'output_filename': 'example_output_writer',\n",
    "         }"
   ]
  },
  {
   "cell_type": "markdown",
   "metadata": {},
   "source": []
  },
  {
   "cell_type": "code",
   "execution_count": 4,
   "metadata": {},
   "outputs": [
    {
     "name": "stderr",
     "output_type": "stream",
     "text": [
      "/Users/barnhark/projects/landlab/landlab/landlab/components/drainage_density/drainage_density.py:180: UserWarning: Existing channel__mask grid field was overwritten.\n",
      "  warn(\"Existing channel__mask grid field was overwritten.\")\n"
     ]
    }
   ],
   "source": [
    "basic = Basic(params=basic_params, OutputWriters=write_drainage_density)\n",
    "basic.run(output_fields='topographic__elevation')"
   ]
  },
  {
   "cell_type": "markdown",
   "metadata": {},
   "source": []
  },
  {
   "cell_type": "code",
   "execution_count": 5,
   "metadata": {},
   "outputs": [
    {
     "data": {
      "image/png": "[encoded data removed]",
      "text/plain": [
       "<matplotlib.figure.Figure at 0x10eeccba8>"
      ]
     },
     "metadata": {},
     "output_type": "display_data"
    }
   ],
   "source": [
    "channels = basic.grid.at_node['drainage_area'] > 2000\n",
    "imshow_grid(basic.grid, channels)"
   ]
  },
  {
   "cell_type": "markdown",
   "metadata": {},
   "source": []
  },
  {
   "cell_type": "code",
   "execution_count": 6,
   "metadata": {
    "collapsed": true
   },
   "outputs": [],
   "source": [
    "output_files = glob.glob('drainage_density.*.txt')\n",
    "temp = {}\n",
    "for of in output_files:\n",
    "    with open(of, 'r') as f:\n",
    "        model_time = int(of.split('.')[-2])\n",
    "        drainage_density = float(f.readline())\n",
    "        temp[model_time] = {'drainage_density': drainage_density}\n",
    "    os.remove(of)\n",
    "df = pd.DataFrame(temp).T\n",
    "\n",
    "basic.remove_output_netcdfs()"
   ]
  },
  {
   "cell_type": "markdown",
   "metadata": {},
   "source": []
  },
  {
   "cell_type": "code",
   "execution_count": 7,
   "metadata": {},
   "outputs": [
    {
     "data": {
      "image/png": "[encoded data removed]",
      "text/plain": [
       "<matplotlib.figure.Figure at 0x10f5b6b70>"
      ]
     },
     "metadata": {},
     "output_type": "display_data"
    }
   ],
   "source": [
    "plt.figure()\n",
    "plt.plot(df.index, df.drainage_density)\n",
    "plt.xlabel('Model Time [years]')\n",
    "plt.ylabel('Drainage Density')\n",
    "plt.show()"
   ]
  },
  {
   "cell_type": "markdown",
   "metadata": {},
   "source": []
  },
  {
   "cell_type": "markdown",
   "metadata": {},
   "source": [
    "\n"
   ]
  },
  {
   "cell_type": "code",
   "execution_count": 8,
   "metadata": {
    "collapsed": true
   },
   "outputs": [],
   "source": [
    "class my_ouput_writer_class(object):\n",
    "    def __init__(self, model):\n",
    "        # save the model to the output writer class\n",
    "        self.model = model\n",
    "        # do whatever else you want to do here:\n",
    "    def run_one_step(self):\n",
    "        # make calculations\n",
    "        \n",
    "        # write something out based on the calculations. \n",
    "        # we recommend including the model time as a part of\n",
    "        # the filename so that it is possible to identify\n",
    "        # what time each file is associated with\n",
    "        \n",
    "        pass # remove this line when you modify this example. \n",
    "        "
   ]
  },
  {
   "cell_type": "markdown",
   "metadata": {},
   "source": []
  },
  {
   "cell_type": "code",
   "execution_count": 9,
   "metadata": {
    "collapsed": true
   },
   "outputs": [],
   "source": [
    "class time_averaged_elevation(object):\n",
    "    def __init__(self, model):\n",
    "        self.model = model\n",
    "        self.model_time = []\n",
    "        self.model_mean_elevation = []\n",
    "        self.model_max_elevation = []\n",
    "    def run_one_step(self):\n",
    "        self.model_time.append(self.model.model_time)\n",
    "        self.model_mean_elevation.append(self.model.z[self.model.grid.core_nodes].mean())\n",
    "        self.model_max_elevation.append(self.model.z[self.model.grid.core_nodes].max())\n",
    "        if len(self.model_time)>=5:\n",
    "            with open('time_averaged_elevation.' + str(int(self.model.model_time)) + '.txt', 'w') as f:\n",
    "                f.write(str(np.mean(self.model_mean_elevation[-5:])) + '\\n')\n",
    "                f.write(str(np.mean(self.model_max_elevation[-5:])) + '\\n')"
   ]
  },
  {
   "cell_type": "markdown",
   "metadata": {},
   "source": []
  },
  {
   "cell_type": "code",
   "execution_count": 10,
   "metadata": {},
   "outputs": [
    {
     "name": "stderr",
     "output_type": "stream",
     "text": [
      "/Users/barnhark/projects/landlab/landlab/landlab/components/drainage_density/drainage_density.py:180: UserWarning: Existing channel__mask grid field was overwritten.\n",
      "  warn(\"Existing channel__mask grid field was overwritten.\")\n"
     ]
    }
   ],
   "source": [
    "basic = Basic(params=basic_params, OutputWriters=[time_averaged_elevation, write_drainage_density])\n",
    "basic.run(output_fields='topographic__elevation')\n"
   ]
  },
  {
   "cell_type": "markdown",
   "metadata": {},
   "source": []
  },
  {
   "cell_type": "code",
   "execution_count": 11,
   "metadata": {},
   "outputs": [
    {
     "data": {
      "image/png": "[encoded data removed]",
      "text/plain": [
       "<matplotlib.figure.Figure at 0x109888908>"
      ]
     },
     "metadata": {},
     "output_type": "display_data"
    }
   ],
   "source": [
    "output_files = glob.glob('time_averaged_elevation.*.txt')\n",
    "temp = {}\n",
    "for of in output_files:\n",
    "    with open(of, 'r') as f:\n",
    "        model_time = int(of.split('.')[-2])\n",
    "        mean_elev = float(f.readline())\n",
    "        max_elev = float(f.readline())\n",
    "        temp[model_time] = {'mean_elevation': mean_elev, \n",
    "                            \"max_elevation\": max_elev}\n",
    "    os.remove(of)\n",
    "df = pd.DataFrame(temp).T\n",
    "\n",
    "basic.remove_output_netcdfs()\n",
    "output_files = glob.glob('drainage_density.*.txt')\n",
    "for of in output_files:\n",
    "    os.remove(of)\n",
    "    \n",
    "plt.figure()\n",
    "plt.plot(df.index, df.mean_elevation, label='Mean')\n",
    "plt.plot(df.index, df.max_elevation, label='Max')\n",
    "plt.legend()\n",
    "plt.xlabel('Model Time [years]')\n",
    "plt.ylabel('Elevation [meters]')\n",
    "plt.show()"
   ]
  },
  {
   "cell_type": "markdown",
   "metadata": {},
   "source": [
    "## Next Steps\n",
    "\n",
    "- We recommend you review the [terrainbento manuscript](). \n",
    "- There are two additional introductory tutorials: [Introduction to terrainbento]() and [Introduction to boundary conditions in terrainbento]().\n",
    "- Five examples of steady state behavior in coupled process models can be found in the following notebooks:\n",
    "    - [**Basic**]()\n",
    "    - [**BasicVm**]()\n",
    "    - [**BasicCh**]()\n",
    "    - [**BasicVs**]()\n",
    "    - [**BasicRT**]()"
   ]
  }
 ],
 "metadata": {
  "kernelspec": {
   "display_name": "Python 3",
   "language": "python",
   "name": "python3"
  },
  "language_info": {
   "codemirror_mode": {
    "name": "ipython",
    "version": 3
   },
   "file_extension": ".py",
   "mimetype": "text/x-python",
   "name": "python",
   "nbconvert_exporter": "python",
   "pygments_lexer": "ipython3",
   "version": "3.6.2"
  }
 },
 "nbformat": 4,
 "nbformat_minor": 2
}
