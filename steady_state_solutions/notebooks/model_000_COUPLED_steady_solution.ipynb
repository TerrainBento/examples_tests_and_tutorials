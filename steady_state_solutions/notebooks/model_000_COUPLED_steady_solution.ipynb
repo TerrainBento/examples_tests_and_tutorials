{
 "cells": [
  {
   "cell_type": "markdown",
   "metadata": {},
   "source": [
    "# Model 000 basic coupled steady state solution"
   ]
  },
  {
   "cell_type": "markdown",
   "metadata": {},
   "source": [
    "This notebook is for the EMS paper. It will have a model000 landscape at steady state. There will be two outputs from this notebook: 1) a NetCDF file of the topography, which we will use to make an oblique Paraview image of the landscape, and 2) a slope-area plot at steady state.\n",
    "\n",
    "Importantly, this will be one of the \"user-friendly\" notebooks that get submitted along with the EMS paper."
   ]
  },
  {
   "cell_type": "markdown",
   "metadata": {},
   "source": [
    "#### Charlie working on"
   ]
  },
  {
   "cell_type": "code",
   "execution_count": 1,
   "metadata": {},
   "outputs": [],
   "source": [
    "from terrainbento import Basic\n",
    "import numpy as np\n",
    "import matplotlib.pyplot as plt\n",
    "from landlab import imshow_grid"
   ]
  },
  {
   "cell_type": "code",
   "execution_count": 2,
   "metadata": {
    "collapsed": true
   },
   "outputs": [],
   "source": [
    "#parameter dictionary\n",
    "params = { 'number_of_node_rows' : 100,\n",
    "          'number_of_node_columns' : 160,\n",
    "          'node_spacing' : 10.0,\n",
    "          'east_boundary_closed' : False,\n",
    "          'north_boundary_closed' : False,\n",
    "          'west_boundary_closed' : False,\n",
    "          'south_boundary_closed' : False,\n",
    "          'dt' : 10.0,\n",
    "          'K_sp' : 0.001,\n",
    "          'm_sp' : 0.5,\n",
    "          'n_sp' : 1.0,\n",
    "          'linear_diffusivity' : 0.2,\n",
    "          'outlet_lowering_rate' : 0.0005,\n",
    "          'output_filename': 'model_000_output'\n",
    "}"
   ]
  },
  {
   "cell_type": "code",
   "execution_count": null,
   "metadata": {
    "collapsed": true
   },
   "outputs": [],
   "source": [
    "basic = Basic(params=params)\n",
    "tolerance = 0.0001 #for determining steady state"
   ]
  },
  {
   "cell_type": "code",
   "execution_count": null,
   "metadata": {},
   "outputs": [
    {
     "name": "stdout",
     "output_type": "stream",
     "text": [
      "0\n",
      "MAX:  0.0929166901073\n",
      "MEAN:  0.01788189295\n"
     ]
    }
   ],
   "source": [
    "dt = 10\n",
    "elapsed_time = 0 #years\n",
    "keep_running = True\n",
    "while keep_running == True:\n",
    "    pre_topo = basic.grid.at_node['topographic__elevation'][basic.grid.core_nodes]\n",
    "    basic.run_one_step(dt)\n",
    "    post_topo = basic.grid.at_node['topographic__elevation'][basic.grid.core_nodes]\n",
    "    if elapsed_time % 1000 == 0:\n",
    "        print(elapsed_time)\n",
    "        print('MAX: ', max(abs(pre_topo - post_topo)))\n",
    "        print('MEAN: ', np.average(abs(pre_topo - post_topo)))\n",
    "    elapsed_time += dt\n",
    "    if max(abs(pre_topo - post_topo)) <= tolerance: #1mm\n",
    "        keep_running = False"
   ]
  },
  {
   "cell_type": "code",
   "execution_count": null,
   "metadata": {},
   "outputs": [],
   "source": [
    "###MAKE SLOPE-AREA PLOT\n",
    "\n",
    "import matplotlib\n",
    "\n",
    "#assign area_array and slope_array\n",
    "area_array = basic.grid.at_node['drainage_area'][(basic.grid.node_x > 10)&(basic.grid.node_x < 1580)&(basic.grid.node_y >10)&(basic.grid.node_y<980)]\n",
    "slope_array = basic.grid.at_node['topographic__steepest_slope'][(basic.grid.node_x > 10)&(basic.grid.node_x < 1580)&(basic.grid.node_y >10)&(basic.grid.node_y<980)]\n",
    "\n",
    "#plotting param\n",
    "matplotlib.rcParams.update({'font.size': 20})\n",
    "\n",
    "##instantiate figure and plot\n",
    "fig = plt.figure(figsize=(6, 3.75))\n",
    "slope_area = plt.subplot()\n",
    "\n",
    "#create an array for the detachment-limited analytical solution\n",
    "u = 0.0005 #m/yr, uplift or baselevel lowering rate\n",
    "k = 0.001 #fluvial erodibility\n",
    "m = 0.5 #discharge exponent\n",
    "n = 1.0 #slope exponent\n",
    "\n",
    "#calculate analytical slope from area field\n",
    "analytical_slope_array = np.power((u / k), 1 / n) * np.power(area_array, -m/n)\n",
    "\n",
    "#plot the analytical solution\n",
    "#slope_area.plot(area_array, analytical_slope_array, linestyle='-',\n",
    "#                color='grey', linewidth = 1, label = 'Analytical solution')\n",
    "\n",
    "#plot the data\n",
    "slope_area.scatter(area_array, slope_array, marker='o', c='k', \n",
    "                   label = 'Numerical solution') #plot HA data\n",
    "                   \n",
    "#make axes log and set limits\n",
    "slope_area.set_xscale('log')\n",
    "slope_area.set_yscale('log')\n",
    "\n",
    "slope_area.set_xlim(9*10**1, 3*10**5)\n",
    "slope_area.set_ylim(1e-3, 1e-1)\n",
    "\n",
    "#set x and y labels\n",
    "slope_area.set_xlabel(r'Drainage area [m$^2$]')\n",
    "slope_area.set_ylabel('Channel slope [-]')\n",
    "#slope_area.legend(scatterpoints=1,prop={'size':12})\n",
    "slope_area.tick_params(axis='x', which='major', pad=7)\n",
    "\n",
    "fig.savefig('maintext_basic_streampower_slope_area_rev1.eps',bbox_inches='tight', dpi=1000) #save figure"
   ]
  },
  {
   "cell_type": "code",
   "execution_count": null,
   "metadata": {
    "collapsed": true
   },
   "outputs": [],
   "source": [
    "#export NetCDF for Paraview image of topography\n",
    "from landlab.io.netcdf import write_netcdf\n",
    "write_netcdf('maintext_basic_stream_power_rev1.nc', basic.grid, format='NETCDF3_64BIT', names='topographic__elevation')"
   ]
  },
  {
   "cell_type": "code",
   "execution_count": null,
   "metadata": {},
   "outputs": [],
   "source": [
    "%matplotlib inline\n",
    "imshow_grid(basic.grid, 'topographic__elevation')"
   ]
  },
  {
   "cell_type": "code",
   "execution_count": null,
   "metadata": {
    "collapsed": true
   },
   "outputs": [],
   "source": []
  }
 ],
 "metadata": {
  "kernelspec": {
   "display_name": "Python 3",
   "language": "python",
   "name": "python3"
  },
  "language_info": {
   "codemirror_mode": {
    "name": "ipython",
    "version": 3
   },
   "file_extension": ".py",
   "mimetype": "text/x-python",
   "name": "python",
   "nbconvert_exporter": "python",
   "pygments_lexer": "ipython3",
   "version": "3.6.2"
  }
 },
 "nbformat": 4,
 "nbformat_minor": 2
}
