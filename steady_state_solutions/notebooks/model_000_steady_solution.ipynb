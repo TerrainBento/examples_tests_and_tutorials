{
 "cells": [
  {
   "cell_type": "markdown",
   "metadata": {},
   "source": [
    "# Model 000 basic"
   ]
  },
  {
   "cell_type": "markdown",
   "metadata": {},
   "source": [
    "### Charlie working on"
   ]
  },
  {
   "cell_type": "markdown",
   "metadata": {
    "collapsed": true
   },
   "source": [
    "This model has stream power and linear diffusion of the forms:\n",
    "$$\\frac{d\\eta}{dt}=-KA^mS^n$$\n",
    "and\n",
    "$$\\frac{d\\eta}{dt} = -D\\nabla^2\\eta$$\n",
    "\n",
    "So, at steady state, the landscape will obey:\n",
    "$$S=\\left(\\frac{U}{KA^m}\\right)^{1/n}$$\n",
    "when only the fluvial rule is in place ($D=0$) and:\n",
    "$$\\eta = -\\frac{U}{D}\\frac{x^2}{2}+\\frac{U}{D}\\frac{L^2}{2}$$\n",
    "when only the hillslope rules are in place ($K=0$)."
   ]
  },
  {
   "cell_type": "code",
   "execution_count": 1,
   "metadata": {},
   "outputs": [],
   "source": [
    "from terrainbento import Basic\n",
    "import numpy as np\n",
    "import matplotlib.pyplot as plt\n",
    "#from landlab import RasterModelGrid\n",
    "#from landlab.components import DepressionFinderAndRouter\n",
    "#from landlab.components.flow_routing import FlowRouter\n",
    "#from landlab.components import FastscapeEroder\n",
    "#from landlab.components import LinearDiffuser\n",
    "from landlab import imshow_grid"
   ]
  },
  {
   "cell_type": "markdown",
   "metadata": {},
   "source": [
    "### There will be two parts: 1) turn off channels and just do hillslopes, and 2) turn off hillslopes and just do channels. Both will start as flat+noise"
   ]
  },
  {
   "cell_type": "markdown",
   "metadata": {},
   "source": [
    "### Part 1: turn off channels and just do hillslopes"
   ]
  },
  {
   "cell_type": "code",
   "execution_count": 2,
   "metadata": {
    "collapsed": true
   },
   "outputs": [],
   "source": [
    "#parameter dictionary\n",
    "params = { 'number_of_node_rows' : 10,\n",
    "          'number_of_node_columns' : 100,\n",
    "          'node_spacing' : 10.0,\n",
    "          'east_boundary_closed' : False,\n",
    "          'north_boundary_closed' : True,\n",
    "          'west_boundary_closed' : False,\n",
    "          'south_boundary_closed' : True,\n",
    "          'dt' : 10.0,\n",
    "          'K_sp' : 0,\n",
    "          'm_sp' : 0.5,\n",
    "          'n_sp' : 1.0,\n",
    "          'linear_diffusivity' : 1.0,\n",
    "          'outlet_lowering_rate' : 0.0005,\n",
    "          'output_filename': 'model_000_output'\n",
    "}"
   ]
  },
  {
   "cell_type": "code",
   "execution_count": 3,
   "metadata": {},
   "outputs": [
    {
     "ename": "AssertionError",
     "evalue": "",
     "output_type": "error",
     "traceback": [
      "\u001b[0;31m---------------------------------------------------------------------------\u001b[0m",
      "\u001b[0;31mAssertionError\u001b[0m                            Traceback (most recent call last)",
      "\u001b[0;32m<ipython-input-3-25424d674531>\u001b[0m in \u001b[0;36m<module>\u001b[0;34m()\u001b[0m\n\u001b[0;32m----> 1\u001b[0;31m \u001b[0mbasic\u001b[0m \u001b[0;34m=\u001b[0m \u001b[0mBasic\u001b[0m\u001b[0;34m(\u001b[0m\u001b[0mparams\u001b[0m\u001b[0;34m=\u001b[0m\u001b[0mparams\u001b[0m\u001b[0;34m)\u001b[0m\u001b[0;34m\u001b[0m\u001b[0m\n\u001b[0m\u001b[1;32m      2\u001b[0m \u001b[0;31m#channel_erodibility = 0 #m/yr\u001b[0m\u001b[0;34m\u001b[0m\u001b[0;34m\u001b[0m\u001b[0m\n\u001b[1;32m      3\u001b[0m \u001b[0;31m#hillslope_diffusivity = 1. #m^2/yr\u001b[0m\u001b[0;34m\u001b[0m\u001b[0;34m\u001b[0m\u001b[0m\n\u001b[1;32m      4\u001b[0m \u001b[0;31m#uplift_rate = 0.001 #m/yr\u001b[0m\u001b[0;34m\u001b[0m\u001b[0;34m\u001b[0m\u001b[0m\n\u001b[1;32m      5\u001b[0m \u001b[0mtolerance\u001b[0m \u001b[0;34m=\u001b[0m \u001b[0;36m0.0001\u001b[0m\u001b[0;34m\u001b[0m\u001b[0m\n",
      "\u001b[0;32m~/projects/TerrainBento/terrainbento/terrainbento/models/model_000_basic/model_000_basic.py\u001b[0m in \u001b[0;36m__init__\u001b[0;34m(self, input_file, params, BaselevelHandlerClass)\u001b[0m\n\u001b[1;32m     54\u001b[0m         \u001b[0;31m# run the sink filler, only on initiation.\u001b[0m\u001b[0;34m\u001b[0m\u001b[0;34m\u001b[0m\u001b[0m\n\u001b[1;32m     55\u001b[0m         \u001b[0msink_filler\u001b[0m \u001b[0;34m=\u001b[0m \u001b[0mSinkFiller\u001b[0m\u001b[0;34m(\u001b[0m\u001b[0mself\u001b[0m\u001b[0;34m.\u001b[0m\u001b[0mgrid\u001b[0m\u001b[0;34m,\u001b[0m \u001b[0mapply_slope\u001b[0m\u001b[0;34m=\u001b[0m\u001b[0;32mTrue\u001b[0m\u001b[0;34m,\u001b[0m \u001b[0mfill_slope\u001b[0m\u001b[0;34m=\u001b[0m\u001b[0;36m1e-3\u001b[0m\u001b[0;34m)\u001b[0m\u001b[0;34m\u001b[0m\u001b[0m\n\u001b[0;32m---> 56\u001b[0;31m         \u001b[0msink_filler\u001b[0m\u001b[0;34m.\u001b[0m\u001b[0mrun_one_step\u001b[0m\u001b[0;34m(\u001b[0m\u001b[0;34m)\u001b[0m\u001b[0;34m\u001b[0m\u001b[0m\n\u001b[0m\u001b[1;32m     57\u001b[0m \u001b[0;34m\u001b[0m\u001b[0m\n\u001b[1;32m     58\u001b[0m         \u001b[0;31m# Instantiate a FlowAccumulator with DepressionFinderAndRouter using D8 method\u001b[0m\u001b[0;34m\u001b[0m\u001b[0;34m\u001b[0m\u001b[0m\n",
      "\u001b[0;32m~/projects/landlab/landlab/components/sink_fill/fill_sinks.py\u001b[0m in \u001b[0;36mrun_one_step\u001b[0;34m(self, **kwds)\u001b[0m\n\u001b[1;32m    254\u001b[0m                 elev_increment = ((lowest_elev_perim-self._elev[outlet_node]) /\n\u001b[1;32m    255\u001b[0m                                   (lake_nodes.size + 2.))\n\u001b[0;32m--> 256\u001b[0;31m                 \u001b[0;32massert\u001b[0m \u001b[0melev_increment\u001b[0m \u001b[0;34m>\u001b[0m \u001b[0;36m0.\u001b[0m\u001b[0;34m\u001b[0m\u001b[0m\n\u001b[0m\u001b[1;32m    257\u001b[0m                 \u001b[0mall_ordering\u001b[0m \u001b[0;34m=\u001b[0m \u001b[0mself\u001b[0m\u001b[0;34m.\u001b[0m\u001b[0m_grid\u001b[0m\u001b[0;34m.\u001b[0m\u001b[0mat_node\u001b[0m\u001b[0;34m[\u001b[0m\u001b[0;34m'flow__upstream_node_order'\u001b[0m\u001b[0;34m]\u001b[0m\u001b[0;34m\u001b[0m\u001b[0m\n\u001b[1;32m    258\u001b[0m                 upstream_order_bool = np.in1d(all_ordering, lake_nodes,\n",
      "\u001b[0;31mAssertionError\u001b[0m: "
     ]
    }
   ],
   "source": [
    "basic = Basic(params=params)\n",
    "#channel_erodibility = 0 #m/yr\n",
    "#hillslope_diffusivity = 1. #m^2/yr\n",
    "#uplift_rate = 0.001 #m/yr\n",
    "tolerance = 0.0001\n",
    "\n",
    "#run_time = 100000 #years\n",
    "#dx = 1.0\n",
    "#dt = 10. #year\n",
    "#nr = 10\n",
    "#nc = 100\n",
    "#mg = RasterModelGrid((nr, nc), dx)\n",
    "#np.random.seed(seed = 5000)\n",
    "#mg.add_zeros('node', 'topographic__elevation')\n",
    "\n",
    "#mg['node']['topographic__elevation'] += np.random.rand(len(mg.node_y)) / 10000\n",
    "#ld = LinearDiffuser(mg, linear_diffusivity = hillslope_diffusivity)\n",
    "\n",
    "#%matplotlib inline\n",
    "#imshow_grid(mg, 'topographic__elevation')"
   ]
  },
  {
   "cell_type": "code",
   "execution_count": null,
   "metadata": {
    "collapsed": true
   },
   "outputs": [],
   "source": []
  },
  {
   "cell_type": "code",
   "execution_count": null,
   "metadata": {},
   "outputs": [],
   "source": [
    "#basic.grid.set_closed_boundaries_at_grid_edges(bottom_is_closed=True,left_is_closed=False,right_is_closed=False,top_is_closed=True)\n",
    "dt = 10\n",
    "#basic.run_for(1, 100000)\n",
    "#K_ss = None\n",
    "#print(K_ss)\n",
    "elapsed_time = 0 #years\n",
    "keep_running = True\n",
    "while keep_running == True:\n",
    "    pre_topo = basic.grid.at_node['topographic__elevation'][basic.grid.core_nodes]\n",
    "    basic.run_one_step(dt)\n",
    "    #    ld.run_one_step(dt = dt)\n",
    "    #basic.grid.at_node['topographic__elevation'][basic.grid.boundary_nodes] -= uplift_rate * dt\n",
    "    post_topo = basic.grid.at_node['topographic__elevation'][basic.grid.core_nodes]\n",
    "    if elapsed_time % 1000 == 0:\n",
    "        print(elapsed_time)\n",
    "        print(max(abs(pre_topo - post_topo)))\n",
    "    elapsed_time += dt\n",
    "    if max(abs(pre_topo - post_topo)) <= tolerance: #1mm\n",
    "        keep_running = False"
   ]
  },
  {
   "cell_type": "code",
   "execution_count": null,
   "metadata": {
    "collapsed": true
   },
   "outputs": [],
   "source": [
    "basic.grid.open_boundary_nodes\n",
    "max(abs(pre_topo - post_topo))\n",
    "#%matplotlib inline\n",
    "#imshow_grid(basic.grid, 'topographic__elevation')"
   ]
  },
  {
   "cell_type": "code",
   "execution_count": null,
   "metadata": {},
   "outputs": [],
   "source": [
    "%matplotlib inline\n",
    "imshow_grid(basic.grid, 'topographic__elevation')"
   ]
  },
  {
   "cell_type": "code",
   "execution_count": null,
   "metadata": {
    "collapsed": true
   },
   "outputs": [],
   "source": [
    "import matplotlib\n",
    "from matplotlib import ticker\n",
    "#\n",
    "topo = basic.grid.at_node['topographic__elevation']\n",
    "\n",
    "\n",
    "#plotting param\n",
    "matplotlib.rcParams.update({'font.size': 16})\n",
    "\n",
    "# #instantiate figure and plot\n",
    "topo_fig = plt.figure(figsize=(6, 1))\n",
    "t1 = plt.subplot()\n",
    "topo = topo.reshape(10,100)\n",
    "ts1_plot = t1.imshow(topo[::-1], cmap='terrain', vmin = 0, vmax = 60)\n",
    "\n",
    "#add colorbar\n",
    "cb = plt.colorbar(ts1_plot, label = 'Elevation [m]')\n",
    "tick_locator = ticker.MaxNLocator(nbins=3)\n",
    "cb.locator = tick_locator\n",
    "cb.update_ticks()\n",
    "\n",
    "#axis labels\n",
    "t1.tick_params(labelbottom='off', labelleft='off') \n",
    "t1.set_ylabel('100 m', labelpad = 15)\n",
    "t1.set_xlabel('1 km side length', labelpad = 15)\n",
    "\n",
    "#save figure\n",
    "topo_fig.savefig('linear_diffusion_topo.eps',bbox_inches='tight', dpi=300)\n"
   ]
  },
  {
   "cell_type": "code",
   "execution_count": null,
   "metadata": {},
   "outputs": [],
   "source": [
    "basic.grid.open_boundary_nodes\n",
    "basic.outlet_node\n",
    "print(basic.grid.at_node['topographic__elevation'][1])"
   ]
  },
  {
   "cell_type": "code",
   "execution_count": null,
   "metadata": {},
   "outputs": [],
   "source": [
    "uplift_rate = 0.0005\n",
    "hillslope_diffusivity = 1.0\n",
    "dx = 10.0\n",
    "topo_profile = basic.grid.at_node['topographic__elevation'][basic.grid.node_y == 50]\n",
    "domain = np.arange(0, max(basic.grid.node_x + dx), dx)\n",
    "plt.plot(domain, topo_profile)\n",
    "x = np.arange(-max(domain) / 2., max(domain) / 2. + dx, dx)\n",
    "theory_profile = (uplift_rate / hillslope_diffusivity) * ((max(x+max(x))/2.)**2 / 2.0) + ((-uplift_rate / hillslope_diffusivity) * (x**2 / 2.0))\n",
    "plt.plot(x + max(x), theory_profile , linestyle='--')\n",
    "#print(topo_profile)\n",
    "#print(theory_profile)\n",
    "#print(x)\n",
    "#print(domain)\n",
    "#print(max(x+max(x)))\n",
    "#print(uplift_rate)"
   ]
  },
  {
   "cell_type": "code",
   "execution_count": null,
   "metadata": {
    "collapsed": true
   },
   "outputs": [],
   "source": [
    "import matplotlib\n",
    "#define \"domain\" and \"topo\"\n",
    "topo = basic.grid.at_node['topographic__elevation'][basic.grid.node_y == 50]\n",
    "domain = np.arange(0, max(basic.grid.node_x + dx), dx)\n",
    "\n",
    "##instantiate figure and plot\n",
    "fig = plt.figure(figsize=(6, 3.75))\n",
    "hillslope = plt.subplot()\n",
    "\n",
    "#plotting param\n",
    "matplotlib.rcParams.update({'font.size': 20})\n",
    "\n",
    "#parameters\n",
    "uplift_rate = 0.0005\n",
    "hillslope_diffusivity = 1.0\n",
    "\n",
    "#plot the actual profile\n",
    "hillslope.plot(domain / 1000, topo, marker='o', c='k', linewidth = 0, markerfacecolor='None', label = 'Numerical Solution')\n",
    "\n",
    "#plot the theoretical profile\n",
    "x = np.arange(-max(domain) / 2., max(domain) / 2. + dx, dx)\n",
    "theory_profile = (uplift_rate / hillslope_diffusivity) * \\\n",
    "    ((max(x+max(x))/2.)**2 / 2.0) + ((-uplift_rate / hillslope_diffusivity) *\\\n",
    "    (x**2 / 2.0))\n",
    "plt.plot((x + max(x)) / 1000, theory_profile , linestyle='-', c='grey', linewidth = 2, label = 'Analytical Solution')\n",
    "\n",
    "#axis labels\n",
    "hillslope.set_xlabel('Distance [km]')\n",
    "hillslope.set_ylabel('Elevation [m]')\n",
    "\n",
    "#legend\n",
    "hillslope.legend(scatterpoints = 1, prop={'size':12})\n",
    "\n",
    "#save figure\n",
    "fig.savefig('basic_lin_diff_topo.eps',bbox_inches='tight', dpi=300)"
   ]
  },
  {
   "cell_type": "markdown",
   "metadata": {},
   "source": [
    "Linear hillslope diffusion: check!!"
   ]
  },
  {
   "cell_type": "markdown",
   "metadata": {
    "collapsed": true
   },
   "source": [
    "### Part 2: turn off hillslopes and just do channels"
   ]
  },
  {
   "cell_type": "code",
   "execution_count": null,
   "metadata": {
    "collapsed": true
   },
   "outputs": [],
   "source": [
    "#parameter dictionary (diffusivity will be 0, K_sp is nonzero)\n",
    "params = { 'number_of_node_rows' : 100,\n",
    "          'number_of_node_columns' : 160,\n",
    "          'node_spacing' : 10.0,\n",
    "          'east_boundary_closed' : False,\n",
    "          'north_boundary_closed' : False,\n",
    "          'west_boundary_closed' : False,\n",
    "          'south_boundary_closed' : False,\n",
    "          'dt' : 10.0,\n",
    "          'K_sp' : 0.001,\n",
    "          'm_sp' : 0.5,\n",
    "          'n_sp' : 1.0,\n",
    "          'linear_diffusivity' : 10e-20,\n",
    "          'outlet_lowering_rate' : 0.0005,\n",
    "          'output_filename': 'model_000_output'\n",
    "}"
   ]
  },
  {
   "cell_type": "code",
   "execution_count": null,
   "metadata": {
    "collapsed": true
   },
   "outputs": [],
   "source": [
    "#instantiate and establish topo error tolerance\n",
    "basic = Basic(params=params)\n",
    "tolerance = 0.0001"
   ]
  },
  {
   "cell_type": "code",
   "execution_count": null,
   "metadata": {},
   "outputs": [],
   "source": [
    "#time loop\n",
    "dt = 10\n",
    "elapsed_time = 0 #years\n",
    "keep_running = True\n",
    "while keep_running == True:\n",
    "    pre_topo = basic.grid.at_node['topographic__elevation'][basic.grid.core_nodes]\n",
    "    basic.run_one_step(dt)\n",
    "    #    ld.run_one_step(dt = dt)\n",
    "    #basic.grid.at_node['topographic__elevation'][basic.grid.boundary_nodes] -= uplift_rate * dt\n",
    "    post_topo = basic.grid.at_node['topographic__elevation'][basic.grid.core_nodes]\n",
    "    if elapsed_time % 1000 == 0:\n",
    "        print(elapsed_time)\n",
    "        print(max(abs(pre_topo - post_topo)))\n",
    "    elapsed_time += dt\n",
    "    if max(abs(pre_topo - post_topo)) <= tolerance: #1mm\n",
    "        keep_running = False"
   ]
  },
  {
   "cell_type": "code",
   "execution_count": null,
   "metadata": {},
   "outputs": [],
   "source": []
  },
  {
   "cell_type": "code",
   "execution_count": null,
   "metadata": {},
   "outputs": [],
   "source": [
    "%matplotlib inline\n",
    "imshow_grid(basic.grid, 'topographic__elevation')"
   ]
  },
  {
   "cell_type": "code",
   "execution_count": null,
   "metadata": {},
   "outputs": [],
   "source": [
    "print basic.grid['node']['topographic__elevation'][300:450]\n",
    "print keep_running\n",
    "#basic.grid.open_boundary_nodes"
   ]
  },
  {
   "cell_type": "code",
   "execution_count": null,
   "metadata": {},
   "outputs": [],
   "source": [
    "print basic.grid.at_node['topographic__steepest_slope'][235]\n",
    "#for some reason, the line of nodes adjacent to all the boundaries\n",
    "plt.scatter(basic.grid.at_node['drainage_area'][(basic.grid.node_x > 1)&(basic.grid.node_x < 158)&(basic.grid.node_y >1)&(basic.grid.node_y<98)], basic.grid.at_node['topographic__steepest_slope'][(basic.grid.node_x > 1)&(basic.grid.node_x < 158)&(basic.grid.node_y >1)&(basic.grid.node_y<98)])\n",
    "plt.plot(basic.grid.at_node['drainage_area'][(basic.grid.node_x > 1)&(basic.grid.node_x < 158)&(basic.grid.node_y >1)&(basic.grid.node_y<98)], (0.0005 / 0.01)*np.power(basic.grid.at_node['drainage_area'][(basic.grid.node_x > 1)&(basic.grid.node_x < 158)&(basic.grid.node_y >1)&(basic.grid.node_y<98)], -0.5))\n",
    "plt.xscale('log')\n",
    "plt.yscale('log')\n",
    "plt.ylim(0.0003, 0.01)"
   ]
  },
  {
   "cell_type": "code",
   "execution_count": null,
   "metadata": {},
   "outputs": [],
   "source": [
    "###MAKE SLOPE-AREA PLOT\n",
    "\n",
    "import matplotlib\n",
    "\n",
    "#assign area_array and slope_array\n",
    "area_array = basic.grid.at_node['drainage_area'][(basic.grid.node_x > 10)&(basic.grid.node_x < 1580)&(basic.grid.node_y >10)&(basic.grid.node_y<980)]\n",
    "slope_array = basic.grid.at_node['topographic__steepest_slope'][(basic.grid.node_x > 10)&(basic.grid.node_x < 1580)&(basic.grid.node_y >10)&(basic.grid.node_y<980)]\n",
    "\n",
    "##instantiate figure and plot\n",
    "fig = plt.figure(figsize=(6, 3.75))\n",
    "slope_area = plt.subplot()\n",
    "\n",
    "#plotting param\n",
    "matplotlib.rcParams.update({'font.size': 20})\n",
    "\n",
    "#create an array for the detachment-limited analytical solution\n",
    "u = 0.0005 #m/yr, uplift or baselevel lowering rate\n",
    "k = 0.001 #fluvial erodibility\n",
    "m = 0.5 #discharge exponent\n",
    "n = 1.0 #slope exponent\n",
    "\n",
    "#calculate analytical slope from area field\n",
    "analytical_slope_array = np.power((u / k), 1 / n) * np.power(area_array, -m/n)\n",
    "\n",
    "#plot the analytical solution\n",
    "slope_area.plot(area_array, analytical_slope_array, linestyle='-',\n",
    "                color='grey', linewidth = 1, label = 'Analytical solution')\n",
    "\n",
    "#plot the data\n",
    "slope_area.scatter(area_array, slope_array, marker='o', c='k', \n",
    "                   label = 'Numerical solution') #plot HA data\n",
    "                   \n",
    "#make axes log and set limits\n",
    "slope_area.set_xscale('log')\n",
    "slope_area.set_yscale('log')\n",
    "\n",
    "slope_area.set_xlim(9*10**1, 2*10**5)\n",
    "slope_area.set_ylim(1e-3, 1e-1)\n",
    "\n",
    "#set x and y labels\n",
    "slope_area.set_xlabel(r'Drainage area [m$^2$]')\n",
    "slope_area.set_ylabel('Channel slope [-]')\n",
    "slope_area.legend(scatterpoints=1,prop={'size':12})\n",
    "slope_area.tick_params(axis='x', which='major', pad=7)\n",
    "\n",
    "fig.savefig('basic_streampower_slope_area.eps',bbox_inches='tight', dpi=1000) #save figure"
   ]
  },
  {
   "cell_type": "code",
   "execution_count": null,
   "metadata": {},
   "outputs": [],
   "source": [
    "##MAKE TOPO FIGURE\n",
    "#define 'topo'\n",
    "topo = basic.grid.at_node['topographic__elevation']\n",
    "#plotting param\n",
    "matplotlib.rcParams.update({'font.size': 20})\n",
    "\n",
    "# #instantiate figure and plot\n",
    "topo_fig = plt.figure(figsize=(6, 3.75))\n",
    "t1 = plt.subplot()\n",
    "topo = topo.reshape(100,160)\n",
    "ts1_plot = t1.imshow(topo[::-1], cmap='terrain', vmin = 0, vmax = 3.5)\n",
    "\n",
    "#add colorbar\n",
    "cb = plt.colorbar(ts1_plot, label = 'Elevation [m]')\n",
    "\n",
    "#axis labels\n",
    "t1.tick_params(labelbottom='off', labelleft='off') \n",
    "t1.set_ylabel('1 km side length', labelpad = 15)\n",
    "t1.set_xlabel('1.6 km side length', labelpad = 15)\n",
    "\n",
    "#save figure\n",
    "topo_fig.savefig('basic_streampower_topo.eps',bbox_inches='tight', dpi=300)"
   ]
  },
  {
   "cell_type": "code",
   "execution_count": null,
   "metadata": {
    "collapsed": true
   },
   "outputs": [],
   "source": [
    "from landlab.io.netcdf import write_netcdf\n",
    "write_netcdf('basic_stream_power.nc', basic.grid, format='NETCDF3_64BIT', names='topographic__elevation')"
   ]
  },
  {
   "cell_type": "code",
   "execution_count": null,
   "metadata": {},
   "outputs": [],
   "source": [
    "area_array"
   ]
  },
  {
   "cell_type": "code",
   "execution_count": null,
   "metadata": {
    "collapsed": true
   },
   "outputs": [],
   "source": []
  }
 ],
 "metadata": {
  "kernelspec": {
   "display_name": "Python 3",
   "language": "python",
   "name": "python3"
  },
  "language_info": {
   "codemirror_mode": {
    "name": "ipython",
    "version": 3
   },
   "file_extension": ".py",
   "mimetype": "text/x-python",
   "name": "python",
   "nbconvert_exporter": "python",
   "pygments_lexer": "ipython3",
   "version": "3.6.2"
  }
 },
 "nbformat": 4,
 "nbformat_minor": 2
}
