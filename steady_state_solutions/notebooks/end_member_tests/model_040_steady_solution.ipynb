{
 "cells": [
  {
   "cell_type": "markdown",
   "metadata": {},
   "source": [
    "# Model 040 basicCh"
   ]
  },
  {
   "cell_type": "markdown",
   "metadata": {
    "collapsed": true
   },
   "source": [
    "This notebook tests the taylor diffuser component of landlab. At steady state, the taylor diffuser flux has the form of:\n",
    "$qs = Ux = KS(1+(\\frac{S}{Sc})^2 +...+ \\frac{S}{Sc}^{2(n-1)})$\n",
    "where E is the uplift rate, K is the diffusivity, S is the topographic slope, and Sc is a critical slope, and n is the number of terms. "
   ]
  },
  {
   "cell_type": "code",
   "execution_count": 30,
   "metadata": {
    "collapsed": true
   },
   "outputs": [],
   "source": [
    "import numpy as np\n",
    "from terrainbento import BasicCh\n",
    "import matplotlib.pyplot as plt\n",
    "from landlab import imshow_grid\n",
    "import matplotlib\n",
    "from matplotlib import ticker\n",
    "import matplotlib.pyplot as plt"
   ]
  },
  {
   "cell_type": "code",
   "execution_count": 2,
   "metadata": {
    "collapsed": true
   },
   "outputs": [],
   "source": [
    "linear_diffusivity = 1.0\n",
    "slope_crit = 0.3\n",
    "nterms = 11\n",
    "uplift_rate = 0.0005\n",
    "node_spacing = 10.0\n",
    "p = np.zeros(2*nterms-1)\n",
    "#elevation = np.zeros(1000)"
   ]
  },
  {
   "cell_type": "markdown",
   "metadata": {},
   "source": [
    "Let's say the nodes are numbered from 0 to 100, 50 being the top of the hillslope. That means the flux at node 90 needs to be able to transport all of the material from the crest to its own node (we use the second penultimate node to avoid boundary complications). Since node spacing is 10.0, this means that the flux at the last node should be: "
   ]
  },
  {
   "cell_type": "code",
   "execution_count": 3,
   "metadata": {
    "collapsed": true
   },
   "outputs": [],
   "source": [
    "#x = (99-50)*10 + 5\n",
    "x = 490\n",
    "qs = uplift_rate*x"
   ]
  },
  {
   "cell_type": "code",
   "execution_count": 4,
   "metadata": {},
   "outputs": [
    {
     "data": {
      "text/plain": [
       "0.245"
      ]
     },
     "execution_count": 4,
     "metadata": {},
     "output_type": "execute_result"
    }
   ],
   "source": [
    "qs"
   ]
  },
  {
   "cell_type": "markdown",
   "metadata": {},
   "source": [
    "Since $qs = KS(1+(\\frac{S}{Sc})^2 +...+ \\frac{S}{Sc}^{2(n-1)})$, we can bring qs to the right side of the equation and get $ 0 = -qs + KS(1+(\\frac{S}{Sc})^2 +...+ \\frac{S}{Sc}^{2(n-1)})$. We need to define the coefficients of the polynomial. First looking at the higher order terms:"
   ]
  },
  {
   "cell_type": "code",
   "execution_count": 5,
   "metadata": {
    "collapsed": true
   },
   "outputs": [],
   "source": [
    "for i in range(1,nterms+1):\n",
    "      p[2*i-2] = linear_diffusivity*(1/(slope_crit**(2*(i-1))))"
   ]
  },
  {
   "cell_type": "code",
   "execution_count": 6,
   "metadata": {},
   "outputs": [
    {
     "data": {
      "text/plain": [
       "array([  1.00000000e+00,   0.00000000e+00,   1.11111111e+01,\n",
       "         0.00000000e+00,   1.23456790e+02,   0.00000000e+00,\n",
       "         1.37174211e+03,   0.00000000e+00,   1.52415790e+04,\n",
       "         0.00000000e+00,   1.69350878e+05,   0.00000000e+00,\n",
       "         1.88167642e+06,   0.00000000e+00,   2.09075158e+07,\n",
       "         0.00000000e+00,   2.32305731e+08,   0.00000000e+00,\n",
       "         2.58117479e+09,   0.00000000e+00,   2.86797199e+10])"
      ]
     },
     "execution_count": 6,
     "metadata": {},
     "output_type": "execute_result"
    }
   ],
   "source": [
    "p"
   ]
  },
  {
   "cell_type": "code",
   "execution_count": 7,
   "metadata": {
    "collapsed": true
   },
   "outputs": [],
   "source": [
    "p = np.fliplr([p])[0]"
   ]
  },
  {
   "cell_type": "code",
   "execution_count": 8,
   "metadata": {},
   "outputs": [
    {
     "data": {
      "text/plain": [
       "array([  2.86797199e+10,   0.00000000e+00,   2.58117479e+09,\n",
       "         0.00000000e+00,   2.32305731e+08,   0.00000000e+00,\n",
       "         2.09075158e+07,   0.00000000e+00,   1.88167642e+06,\n",
       "         0.00000000e+00,   1.69350878e+05,   0.00000000e+00,\n",
       "         1.52415790e+04,   0.00000000e+00,   1.37174211e+03,\n",
       "         0.00000000e+00,   1.23456790e+02,   0.00000000e+00,\n",
       "         1.11111111e+01,   0.00000000e+00,   1.00000000e+00])"
      ]
     },
     "execution_count": 8,
     "metadata": {},
     "output_type": "execute_result"
    }
   ],
   "source": [
    "p"
   ]
  },
  {
   "cell_type": "code",
   "execution_count": 9,
   "metadata": {
    "collapsed": true
   },
   "outputs": [],
   "source": [
    "p = np.append(p,qs)"
   ]
  },
  {
   "cell_type": "code",
   "execution_count": 10,
   "metadata": {},
   "outputs": [
    {
     "data": {
      "text/plain": [
       "array([ 0.29042769+0.07944358j,  0.29042769-0.07944358j,\n",
       "        0.26047058+0.1558189j ,  0.26047058-0.1558189j ,\n",
       "        0.20947546+0.22299748j,  0.20947546-0.22299748j,\n",
       "        0.14015812+0.27399796j,  0.14015812-0.27399796j,\n",
       "        0.05802837+0.30327819j,  0.05802837-0.30327819j,\n",
       "       -0.02978485+0.30752865j, -0.02978485-0.30752865j,\n",
       "       -0.11546559+0.2858754j , -0.11546559-0.2858754j ,\n",
       "       -0.19130294+0.23984087j, -0.19130294-0.23984087j,\n",
       "       -0.25042138+0.17308573j, -0.25042138-0.17308573j,\n",
       "       -0.28754148+0.09092074j, -0.28754148-0.09092074j, -0.16808799+0.j        ])"
      ]
     },
     "execution_count": 10,
     "metadata": {},
     "output_type": "execute_result"
    }
   ],
   "source": [
    "p_roots = np.roots(p)\n",
    "p_roots"
   ]
  },
  {
   "cell_type": "code",
   "execution_count": 11,
   "metadata": {},
   "outputs": [
    {
     "name": "stdout",
     "output_type": "stream",
     "text": [
      "-0.168087988927\n"
     ]
    }
   ],
   "source": [
    "steady_S = np.real(p_roots[-1])\n",
    "print(steady_S)"
   ]
  },
  {
   "cell_type": "code",
   "execution_count": 12,
   "metadata": {},
   "outputs": [
    {
     "name": "stdout",
     "output_type": "stream",
     "text": [
      "0.168087988927\n"
     ]
    }
   ],
   "source": [
    "steady_S = abs(steady_S)\n",
    "print(steady_S)"
   ]
  },
  {
   "cell_type": "markdown",
   "metadata": {
    "collapsed": true
   },
   "source": [
    "Now run the erosion model and test against this steady state prediction. "
   ]
  },
  {
   "cell_type": "code",
   "execution_count": 13,
   "metadata": {
    "collapsed": true
   },
   "outputs": [],
   "source": [
    "#parameter dictionary\n",
    "params = {'number_of_node_rows' : 10,\n",
    "         'number_of_node_columns' : 100,\n",
    "         'node_spacing' : 10.0,\n",
    "         'east_boundary_closed' : False,\n",
    "         'north_boundary_closed' : True,\n",
    "         'west_boundary_closed' : False,\n",
    "         'south_boundary_closed' :True,\n",
    "         'dt' : 10,\n",
    "         'K_sp' : 0,\n",
    "         'm_sp' : 0.5,\n",
    "         'n_sp' : 1.0,\n",
    "         'linear_diffusivity' : linear_diffusivity,\n",
    "         'slope_crit' : slope_crit,\n",
    "         'outlet_lowering_rate' : uplift_rate,\n",
    "         'output_filename': 'model_040_output',}"
   ]
  },
  {
   "cell_type": "code",
   "execution_count": 14,
   "metadata": {
    "collapsed": true
   },
   "outputs": [],
   "source": [
    "basic = BasicCh(params=params)\n",
    "tolerance = 0.0001\n",
    "dt = 1"
   ]
  },
  {
   "cell_type": "code",
   "execution_count": 15,
   "metadata": {},
   "outputs": [
    {
     "name": "stdout",
     "output_type": "stream",
     "text": [
      "0\n",
      "10000\n",
      "20000\n",
      "30000\n",
      "40000\n",
      "50000\n",
      "60000\n",
      "70000\n",
      "80000\n",
      "90000\n",
      "100000\n",
      "110000\n",
      "120000\n",
      "130000\n",
      "140000\n",
      "150000\n",
      "160000\n",
      "170000\n",
      "180000\n",
      "190000\n",
      "200000\n",
      "210000\n",
      "220000\n",
      "230000\n",
      "240000\n",
      "250000\n",
      "260000\n",
      "270000\n",
      "280000\n",
      "290000\n",
      "300000\n",
      "310000\n",
      "320000\n",
      "330000\n",
      "340000\n",
      "350000\n",
      "360000\n",
      "370000\n",
      "380000\n",
      "390000\n"
     ]
    }
   ],
   "source": [
    "elapsed_time = 0\n",
    "keep_running = True\n",
    "while keep_running == True:\n",
    "   \n",
    "    basic.run_one_step(dt)\n",
    "    \n",
    "    slope1 = np.copy(basic.grid.at_node['topographic__steepest_slope'][101])\n",
    "    slope2 = np.copy(basic.grid.at_node['topographic__steepest_slope'][198])\n",
    "    \n",
    "    if elapsed_time % 10000 == 0:\n",
    "        print(elapsed_time)\n",
    "        \n",
    "    elapsed_time += dt\n",
    "    \n",
    "    if abs((slope1-steady_S)) <= tolerance and abs((slope2-steady_S)) <= tolerance:\n",
    "        keep_running = False"
   ]
  },
  {
   "cell_type": "code",
   "execution_count": 16,
   "metadata": {},
   "outputs": [
    {
     "data": {
      "image/png": "[encoded data removed]",
      "text/plain": [
       "<matplotlib.figure.Figure at 0x1c12be28d0>"
      ]
     },
     "metadata": {},
     "output_type": "display_data"
    }
   ],
   "source": [
    "%matplotlib inline\n",
    "imshow_grid(basic.grid, 'topographic__elevation')"
   ]
  },
  {
   "cell_type": "code",
   "execution_count": 24,
   "metadata": {},
   "outputs": [
    {
     "data": {
      "text/plain": [
       "0.16798799064147688"
      ]
     },
     "execution_count": 24,
     "metadata": {},
     "output_type": "execute_result"
    }
   ],
   "source": [
    "basic.grid.at_node['topographic__steepest_slope'][101]"
   ]
  },
  {
   "cell_type": "code",
   "execution_count": 25,
   "metadata": {},
   "outputs": [
    {
     "data": {
      "text/plain": [
       "0.16808798892669097"
      ]
     },
     "execution_count": 25,
     "metadata": {},
     "output_type": "execute_result"
    }
   ],
   "source": [
    "steady_S"
   ]
  },
  {
   "cell_type": "code",
   "execution_count": 26,
   "metadata": {},
   "outputs": [
    {
     "data": {
      "text/plain": [
       "9.999828521409238e-05"
      ]
     },
     "execution_count": 26,
     "metadata": {},
     "output_type": "execute_result"
    }
   ],
   "source": [
    "0.16808798892669097 - 0.16798799064147688"
   ]
  },
  {
   "cell_type": "code",
   "execution_count": 34,
   "metadata": {
    "collapsed": true
   },
   "outputs": [],
   "source": [
    "topo_profile = basic.grid.at_node['topographic__elevation'][basic.grid.node_y == 10] + uplift_rate*elapsed_time\n",
    "topo = basic.grid.at_node['topographic__elevation']\n",
    "domain = np.arange(0, max(basic.grid.node_x + 10.0), 10.0)\n",
    "#plt.plot(domain,topo)\n",
    "#len(topo_profile)"
   ]
  },
  {
   "cell_type": "code",
   "execution_count": 35,
   "metadata": {},
   "outputs": [
    {
     "data": {
      "text/plain": [
       "array([ 0.        ,  0.        ,  0.        ,  0.        ,  0.        ,\n",
       "        0.        ,  0.        ,  0.        ,  0.        ,  0.        ,\n",
       "        0.        ,  0.        ,  0.        ,  0.        ,  0.        ,\n",
       "        0.        ,  0.        ,  0.        ,  0.        ,  0.        ,\n",
       "        0.        ,  0.        ,  0.        ,  0.        ,  0.        ,\n",
       "        0.        ,  0.        ,  0.        ,  0.        ,  0.        ,\n",
       "        0.        ,  0.        ,  0.        ,  0.        ,  0.        ,\n",
       "        0.        ,  0.        ,  0.        ,  0.        ,  0.        ,\n",
       "        0.        ,  0.        ,  0.        ,  0.        ,  0.        ,\n",
       "        0.        ,  0.        ,  0.        ,  0.        ,  0.        ,\n",
       "        0.        ,  0.        ,  0.        ,  0.        ,  0.        ,\n",
       "        0.        ,  0.        ,  0.        ,  0.        ,  0.        ,\n",
       "        0.        ,  0.        ,  0.        ,  0.        ,  0.        ,\n",
       "        0.        ,  0.        ,  0.        ,  0.        ,  0.        ,\n",
       "        0.        ,  0.        ,  0.        ,  0.        ,  0.        ,\n",
       "        0.        ,  0.        ,  0.        ,  0.        ,  0.        ,\n",
       "        0.        ,  0.        ,  0.        ,  0.        ,  0.        ,\n",
       "        0.        ,  0.        ,  0.        ,  0.        ,  0.        ,\n",
       "        0.        ,  0.        ,  0.        ,  0.        ,  0.        ,\n",
       "        0.        ,  0.        ,  0.        ,  0.        ,  0.        ,\n",
       "        0.        ,  0.16798799,  0.16617207,  0.16431066,  0.16240231,\n",
       "        0.16044549,  0.15843866,  0.1563802 ,  0.15426848,  0.1521018 ,\n",
       "        0.14987844,  0.14759664,  0.14525458,  0.14285043,  0.14038233,\n",
       "        0.13784839,  0.13524671,  0.13257537,  0.12983246,  0.12701608,\n",
       "        0.12412435,  0.12115541,  0.11810747,  0.11497879,  0.11176773,\n",
       "        0.10847275,  0.10509244,  0.10162555,  0.09807101,  0.09442799,\n",
       "        0.09069588,  0.08687437,  0.08296346,  0.07896352,  0.07487529,\n",
       "        0.07069995,  0.06643916,  0.06209505,  0.05767029,  0.05316808,\n",
       "        0.0485922 ,  0.04394699,  0.03923736,  0.03446879,  0.02964727,\n",
       "        0.02477934,  0.01987196,  0.0149325 ,  0.00996867,  0.00498846,\n",
       "        0.00498846,  0.00996867,  0.0149325 ,  0.01987196,  0.02477934,\n",
       "        0.02964727,  0.03446879,  0.03923736,  0.04394699,  0.0485922 ,\n",
       "        0.05316808,  0.05767029,  0.06209505,  0.06643916,  0.07069995,\n",
       "        0.07487529,  0.07896352,  0.08296346,  0.08687437,  0.09069588,\n",
       "        0.09442799,  0.09807101,  0.10162555,  0.10509244,  0.10847275,\n",
       "        0.11176773,  0.11497879,  0.11810747,  0.12115541,  0.12412435,\n",
       "        0.12701608,  0.12983246,  0.13257537,  0.13524671,  0.13784839,\n",
       "        0.14038233,  0.14285043,  0.14525458,  0.14759664,  0.14987844,\n",
       "        0.1521018 ,  0.15426848,  0.1563802 ,  0.15843866,  0.16044549,\n",
       "        0.16240231,  0.16431066,  0.16617207,  0.16798799,  0.        ,\n",
       "        0.        ,  0.        ,  0.        ,  0.        ,  0.        ,\n",
       "        0.        ,  0.        ,  0.        ,  0.        ,  0.        ,\n",
       "        0.        ,  0.        ,  0.        ,  0.        ,  0.        ,\n",
       "        0.        ,  0.        ,  0.        ,  0.        ,  0.        ,\n",
       "        0.        ,  0.        ,  0.        ,  0.        ,  0.        ,\n",
       "        0.        ,  0.        ,  0.        ,  0.        ,  0.        ,\n",
       "        0.        ,  0.        ,  0.        ,  0.        ,  0.        ,\n",
       "        0.        ,  0.        ,  0.        ,  0.        ,  0.        ,\n",
       "        0.        ,  0.        ,  0.        ,  0.        ,  0.        ,\n",
       "        0.        ,  0.        ,  0.        ,  0.        ,  0.        ,\n",
       "        0.        ,  0.        ,  0.        ,  0.        ,  0.        ,\n",
       "        0.        ,  0.        ,  0.        ,  0.        ,  0.        ,\n",
       "        0.        ,  0.        ,  0.        ,  0.        ,  0.        ,\n",
       "        0.        ,  0.        ,  0.        ,  0.        ,  0.        ,\n",
       "        0.        ,  0.        ,  0.        ,  0.        ,  0.        ,\n",
       "        0.        ,  0.        ,  0.        ,  0.        ,  0.        ,\n",
       "        0.        ,  0.        ,  0.        ,  0.        ,  0.        ,\n",
       "        0.        ,  0.        ,  0.        ,  0.        ,  0.        ,\n",
       "        0.        ,  0.        ,  0.        ,  0.        ,  0.        ,\n",
       "        0.        ,  0.        ,  0.        ,  0.        ,  0.        ])"
      ]
     },
     "execution_count": 35,
     "metadata": {},
     "output_type": "execute_result"
    }
   ],
   "source": [
    "basic.grid.at_node['topographic__steepest_slope']"
   ]
  },
  {
   "cell_type": "code",
   "execution_count": 43,
   "metadata": {},
   "outputs": [
    {
     "data": {
      "image/png": "[encoded data removed]",
      "text/plain": [
       "<matplotlib.figure.Figure at 0x107a2b250>"
      ]
     },
     "metadata": {},
     "output_type": "display_data"
    }
   ],
   "source": [
    "#plotting param\n",
    "matplotlib.rcParams.update({'font.size': 20})\n",
    "\n",
    "# #instantiate figure and plot\n",
    "topo_fig = plt.figure(figsize=(6, 3.75))\n",
    "t1 = plt.subplot()\n",
    "topo = topo.reshape(3,100)\n",
    "ts1_plot = t1.imshow(topo[::-1], cmap='terrain', vmin = 0, vmax = 50)\n",
    "\n",
    "#add colorbar\n",
    "cb = plt.colorbar(ts1_plot, label = 'Elevation [m]')\n",
    "\n",
    "#axis labels\n",
    "t1.tick_params(labelbottom='off', labelleft='off') \n",
    "t1.set_ylabel('100 m side length', labelpad = 15)\n",
    "t1.set_xlabel('1 km side length', labelpad = 15)\n",
    "\n",
    "#save figure\n",
    "topo_fig.savefig('cubic_diffusion_topo.eps',bbox_inches='tight', dpi=300)\n"
   ]
  },
  {
   "cell_type": "code",
   "execution_count": 54,
   "metadata": {},
   "outputs": [
    {
     "data": {
      "image/png": "[encoded data removed]",
      "text/plain": [
       "<matplotlib.figure.Figure at 0x1c12c1ce90>"
      ]
     },
     "metadata": {},
     "output_type": "display_data"
    }
   ],
   "source": [
    "##instantiate figure and plot\n",
    "fig = plt.figure(figsize=(6, 3.75))\n",
    "hillslope = plt.subplot()\n",
    "\n",
    "#plotting param\n",
    "matplotlib.rcParams.update({'font.size': 20})\n",
    "\n",
    "#parameters\n",
    "uplift_rate = 0.0005\n",
    "hillslope_diffusivity = 1.0\n",
    "\n",
    "#plot the actual profile\n",
    "hillslope.plot(domain * node_spacing / 1000, topo_profile, marker='o', c='k', linewidth = 0, markerfacecolor='None', label = 'Numerical Solution')\n",
    "\n",
    "#plot the theoretical profile\n",
    "#x = np.arange(-max(domain) / 2., max(domain) / 2. + dx, dx)\n",
    "#theory_profile = (uplift_rate / hillslope_diffusivity) * \\\n",
    "#    ((max(x+max(x))/2.)**2 / 2.0) + ((-uplift_rate / hillslope_diffusivity) *\\\n",
    "#    (x**2 / 2.0))\n",
    "#plt.plot((x + max(x)) * dx / 1000, theory_profile , linestyle='-', c='grey', linewidth = 2, label = 'Analytical Solution')\n",
    "\n",
    "#axis labels\n",
    "hillslope.set_xlabel('Distance [km]')\n",
    "hillslope.set_ylabel('Elevation [m]')\n",
    "\n",
    "#legend\n",
    "#hillslope.legend(scatterpoints = 1, prop={'size':12})\n",
    "\n",
    "#save figure\n",
    "fig.savefig('cubic_diff_topo.eps',bbox_inches='tight', dpi=300)"
   ]
  },
  {
   "cell_type": "code",
   "execution_count": 39,
   "metadata": {},
   "outputs": [
    {
     "ename": "ValueError",
     "evalue": "total size of new array must be unchanged",
     "output_type": "error",
     "traceback": [
      "\u001b[0;31m---------------------------------------------------------------------------\u001b[0m",
      "\u001b[0;31mValueError\u001b[0m                                Traceback (most recent call last)",
      "\u001b[0;32m<ipython-input-39-e5d539205a66>\u001b[0m in \u001b[0;36m<module>\u001b[0;34m()\u001b[0m\n\u001b[0;32m----> 1\u001b[0;31m \u001b[0mtopo\u001b[0m\u001b[0;34m.\u001b[0m\u001b[0mreshape\u001b[0m\u001b[0;34m(\u001b[0m\u001b[0;36m10\u001b[0m\u001b[0;34m,\u001b[0m\u001b[0;36m100\u001b[0m\u001b[0;34m)\u001b[0m\u001b[0;34m\u001b[0m\u001b[0m\n\u001b[0m",
      "\u001b[0;31mValueError\u001b[0m: total size of new array must be unchanged"
     ]
    }
   ],
   "source": [
    "topo.reshape(10,100)"
   ]
  },
  {
   "cell_type": "code",
   "execution_count": null,
   "metadata": {
    "collapsed": true
   },
   "outputs": [],
   "source": []
  }
 ],
 "metadata": {
  "kernelspec": {
   "display_name": "Python 3",
   "language": "python",
   "name": "python3"
  },
  "language_info": {
   "codemirror_mode": {
    "name": "ipython",
    "version": 3
   },
   "file_extension": ".py",
   "mimetype": "text/x-python",
   "name": "python",
   "nbconvert_exporter": "python",
   "pygments_lexer": "ipython3",
   "version": "3.6.2"
  }
 },
 "nbformat": 4,
 "nbformat_minor": 2
}
