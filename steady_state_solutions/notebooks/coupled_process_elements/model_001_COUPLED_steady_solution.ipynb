{
 "cells": [
  {
   "cell_type": "markdown",
   "metadata": {},
   "source": [
    "# Model 001 BasicVm: Coupled Steady-State Solution"
   ]
  },
  {
   "cell_type": "markdown",
   "metadata": {},
   "source": [
    "This model shows example usage of the BasicVm model from the TerrainBento package.\n",
    "\n",
    "BasicVm modifies the Basic model by allowing a variable drainage-area exponent, $m$:\n",
    "\n",
    "$\\frac{\\partial \\eta}{\\partial t} = - KA^m S + D\\nabla^2 \\eta$\n",
    "\n",
    "Note that the units of $K$ depend on $m$, so that the value of $K$ used in BasicVm cannot be meaningfully compared to $K$ used in models with a fixed area exponent of 1/2, unless of course $m$ happens to equal 1/2.\n",
    "\n",
    "Refer to [REF MANUSCRIPT] for the definition of all symbols. \n",
    "\n",
    "This notebook (a) shows the initialization and running of this model, (b) saves a NetCDF file of the topography, which we will use to make an oblique Paraview image of the landscape, and (c) creates a slope-area plot at steady state."
   ]
  },
  {
   "cell_type": "code",
   "execution_count": null,
   "metadata": {},
   "outputs": [],
   "source": [
    "# import required modules\n",
    "import os\n",
    "import numpy as np\n",
    "\n",
    "import matplotlib.pyplot as plt\n",
    "import matplotlib\n",
    "matplotlib.rcParams.update({'font.size': 20})\n",
    "%matplotlib inline\n",
    "\n",
    "from landlab import imshow_grid\n",
    "from landlab.io.netcdf import write_netcdf\n",
    "\n",
    "from terrainbento import BasicVsm"
   ]
  },
  {
   "cell_type": "code",
   "execution_count": null,
   "metadata": {
    "collapsed": true
   },
   "outputs": [],
   "source": [
    "# create the parameter dictionary needed to instantiate the model \n",
    "# all parameters used are specified in this notebook block\n",
    "\n",
    "params = {'number_of_node_rows' : 100,\n",
    "          'number_of_node_columns' : 160,\n",
    "          'node_spacing' : 10.0,\n",
    "          'east_boundary_closed' : False,\n",
    "          'north_boundary_closed' : False,\n",
    "          'west_boundary_closed' : False,\n",
    "          'south_boundary_closed' : False,\n",
    "          'dt' : 10.0,\n",
    "          'K_sp' : 0.001,\n",
    "          'm_sp' : 0.25,\n",
    "          'n_sp' : 1.0,\n",
    "          'linear_diffusivity' : 0.01,\n",
    "          'outlet_lowering_rate' : 0.0005,\n",
    "          'output_filename': 'model_000_output'\n",
    "}"
   ]
  },
  {
   "cell_type": "code",
   "execution_count": null,
   "metadata": {
    "collapsed": true
   },
   "outputs": [],
   "source": [
    "# initialize the model by passing the parameter dictionary\n",
    "model = Basic(params=params)\n",
    "\n",
    "# set a tolerance for determining steady state\n",
    "tolerance = 0.0001"
   ]
  },
  {
   "cell_type": "code",
   "execution_count": null,
   "metadata": {},
   "outputs": [],
   "source": [
    "# run the model\n",
    "\n",
    "# set dt and initialize the elapsed_time variable\n",
    "dt = params['dt']\n",
    "elapsed_time = 0 \n",
    "\n",
    "# initialize a variable to identify if steady state has been reached\n",
    "keep_running = True\n",
    "\n",
    "# run the model until stead state has been reached. \n",
    "while keep_running == True:\n",
    "    \n",
    "    # save the pre-model-step topography of the core nodes to assess steady state. \n",
    "    pre_topo = model.grid.at_node['topographic__elevation'][model.grid.core_nodes]\n",
    "    \n",
    "    # run the model one step\n",
    "    model.run_one_step(dt)\n",
    "    \n",
    "    # save the post-model step topography of the core nodes to assess steady state. \n",
    "    post_topo = model.grid.at_node['topographic__elevation'][model.grid.core_nodes]\n",
    "    \n",
    "    # increment elapsed time\n",
    "    elapsed_time += dt\n",
    "    \n",
    "    # assess if steady state has been reached. \n",
    "    if max(abs(pre_topo - post_topo)) <= tolerance: # 1 mm\n",
    "        keep_running = False\n",
    "    \n",
    "    # if time rounds to 10,000 years, print out a log message. \n",
    "    if elapsed_time % 10000 == 0:\n",
    "        print('Elapsed time: ', elapsed_time)\n",
    "        print('Maximum Topographic Change/Tolerance: ', np.round(max(abs(pre_topo - post_topo))/tolerance, decimals=2))       "
   ]
  },
  {
   "cell_type": "code",
   "execution_count": null,
   "metadata": {
    "collapsed": true
   },
   "outputs": [],
   "source": [
    "#MAKE SLOPE-AREA PLOT\n",
    "\n",
    "# assign area_array and slope_array\n",
    "area_array = model.grid.at_node['drainage_area'][(model.grid.node_x > 10)&(model.grid.node_x < 1580)&(model.grid.node_y >10)&(model.grid.node_y<980)]\n",
    "slope_array = model.grid.at_node['topographic__steepest_slope'][(model.grid.node_x > 10)&(model.grid.node_x < 1580)&(model.grid.node_y >10)&(model.grid.node_y<980)]\n",
    "\n",
    "# instantiate figure and plot\n",
    "fig = plt.figure(figsize=(6, 3.75))\n",
    "slope_area = plt.subplot()\n",
    "\n",
    "# create an array for the detachment-limited analytical solution\n",
    "u = params['outlet_lowering_rate']# m/yr, uplift or baselevel lowering rate\n",
    "k = params['K_sp'] # fluvial erodibility\n",
    "m = params['m_sp'] # discharge exponent\n",
    "n = params['n_sp'] # slope exponent\n",
    "\n",
    "# calculate analytical slope from area field\n",
    "analytical_slope_array = np.power((u / k), 1 / n) * np.power(area_array, -m/n)\n",
    "\n",
    "# plot the analytical solution\n",
    "slope_area.plot(area_array, analytical_slope_array, linestyle='-',\n",
    "                color='grey', linewidth = 1, label = 'Analytical solution')\n",
    "\n",
    "# plot the data\n",
    "slope_area.scatter(area_array, slope_array, marker='o', c='k', \n",
    "                   label = 'Numerical solution') \n",
    "                   \n",
    "# make axes log and set limits\n",
    "slope_area.set_xscale('log')\n",
    "slope_area.set_yscale('log')\n",
    "\n",
    "slope_area.set_xlim(9*10**1, 3*10**5)\n",
    "slope_area.set_ylim(1e-2, 1e0)\n",
    "\n",
    "# set x and y labels\n",
    "slope_area.set_xlabel(r'Drainage area [m$^2$]')\n",
    "slope_area.set_ylabel('Channel slope [-]')\n",
    "slope_area.legend(scatterpoints=1,prop={'size':12})\n",
    "slope_area.tick_params(axis='x', which='major', pad=7)\n",
    "\n",
    "# save out an output figure\n",
    "output_figure = os.path.join('output_figures/maintext_variable_m_slope_area.eps')\n",
    "fig.savefig(output_figure, bbox_inches='tight', dpi=1000) # save figure"
   ]
  },
  {
   "cell_type": "code",
   "execution_count": null,
   "metadata": {
    "collapsed": true
   },
   "outputs": [],
   "source": [
    "#export NetCDF for Paraview image of topography\n",
    "output_file = os.path.join('output_netcdfs/maintext_variable_m.nc')\n",
    "write_netcdf(output_file, model.grid, format='NETCDF3_64BIT', names='topographic__elevation')"
   ]
  },
  {
   "cell_type": "code",
   "execution_count": null,
   "metadata": {
    "collapsed": true
   },
   "outputs": [],
   "source": [
    "# make a plot of the final steady state topography\n",
    "imshow_grid(model.grid, 'topographic__elevation')"
   ]
  }
 ],
 "metadata": {
  "kernelspec": {
   "display_name": "Python 3",
   "language": "python",
   "name": "python3"
  },
  "language_info": {
   "codemirror_mode": {
    "name": "ipython",
    "version": 3
   },
   "file_extension": ".py",
   "mimetype": "text/x-python",
   "name": "python",
   "nbconvert_exporter": "python",
   "pygments_lexer": "ipython3",
   "version": "3.6.2"
  }
 },
 "nbformat": 4,
 "nbformat_minor": 2
}
