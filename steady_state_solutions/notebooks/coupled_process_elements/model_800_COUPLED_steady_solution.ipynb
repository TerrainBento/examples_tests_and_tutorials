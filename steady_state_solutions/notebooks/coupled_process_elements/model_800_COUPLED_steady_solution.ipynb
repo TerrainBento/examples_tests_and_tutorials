{
 "cells": [
  {
   "cell_type": "markdown",
   "metadata": {},
   "source": [
    "# Model 800 basicRt coupled steady state solution"
   ]
  },
  {
   "cell_type": "markdown",
   "metadata": {},
   "source": [
    "This model shows example usage of the BasicRt model from the TerrainBento package.\n",
    "\n",
    "BasicRt modifies Basic by allowing for two lithologies:\n",
    "\n",
    "$\\frac{\\partial \\eta}{\\partial t} = - K(\\eta,\\eta_C) A^{1/2}S + D\\nabla^2 \\eta$\n",
    "\n",
    "$K(\\eta, \\eta_C ) = w K_1 + (1 - w) K_2$\n",
    "\n",
    "$w = \\frac{1}{1+\\exp \\left( -\\frac{(\\eta -\\eta_C )}{W_c}\\right)}$\n",
    "\n",
    "where $W_c$ is the contact-zone width.\n",
    "\n",
    "Refer to [REF MANUSCRIPT] for the definition of all symbols. \n",
    "\n",
    "This notebook (a) shows the initialization and running of this model, (b) saves a NetCDF file of the topography, which we will use to make an oblique Paraview image of the landscape, and (c) creates a slope-area plot at steady state."
   ]
  },
  {
   "cell_type": "code",
   "execution_count": null,
   "metadata": {
    "collapsed": true
   },
   "outputs": [],
   "source": [
    "# import required modules\n",
    "import os\n",
    "import numpy as np\n",
    "\n",
    "import matplotlib.pyplot as plt\n",
    "import matplotlib\n",
    "matplotlib.rcParams.update({'font.size': 20})\n",
    "%matplotlib inline\n",
    "\n",
    "from landlab import imshow_grid\n",
    "from landlab.io.netcdf import write_netcdf\n",
    "\n",
    "from terrainbento import BasicRt"
   ]
  },
  {
   "cell_type": "code",
   "execution_count": null,
   "metadata": {
    "collapsed": true
   },
   "outputs": [],
   "source": [
    "# create the parameter dictionary needed to instantiate the model \n",
    "# all parameters used are specified in this notebook block\n",
    "\n",
    "params = {'number_of_node_rows' : 100,\n",
    "          'number_of_node_columns' : 160,\n",
    "          'node_spacing' : 10.0,\n",
    "          'east_boundary_closed' : False,\n",
    "          'north_boundary_closed' : False,\n",
    "          'west_boundary_closed' : False,\n",
    "          'south_boundary_closed' : False,\n",
    "          'dt' : 10.0,\n",
    "          'K_rock_sp' : 0.001,\n",
    "          'K_till_sp' : 0.01,\n",
    "          'm_sp' : 0.5,\n",
    "          'n_sp' : 1.0,\n",
    "          'linear_diffusivity' : 0.1,\n",
    "          'outlet_lowering_rate' : 0.0005,\n",
    "          'output_filename' : 'model_000_output',\n",
    "          'rock_till_file__name' : os.path.join('..', 'input_data', 'ss_test_rock_till.txt'),\n",
    "          'contact_zone__width' : 1.0,\n",
    "          'random_seed': 4897\n",
    "         }"
   ]
  },
  {
   "cell_type": "code",
   "execution_count": null,
   "metadata": {
    "collapsed": true
   },
   "outputs": [],
   "source": [
    "# initialize the model by passing the parameter dictionary\n",
    "model = BasicRt(params=params)\n",
    "\n",
    "# set a tolerance for determining steady state\n",
    "tolerance = 0.0001"
   ]
  },
  {
   "cell_type": "code",
   "execution_count": null,
   "metadata": {},
   "outputs": [],
   "source": [
    "# run the model, it will take 110,000 years with the original (160x100) grid\n",
    "\n",
    "# set dt and initialize the elapsed_time variable\n",
    "dt = params['dt']\n",
    "elapsed_time = 0 \n",
    "\n",
    "# initialize a variable to identify if steady state has been reached\n",
    "keep_running = True\n",
    "\n",
    "# run the model until stead state has been reached. \n",
    "while keep_running == True:\n",
    "    \n",
    "    # save the pre-model-step topography of the core nodes to assess steady state. \n",
    "    pre_topo = model.grid.at_node['topographic__elevation'][model.grid.core_nodes]\n",
    "    \n",
    "    # run the model one step\n",
    "    model.run_one_step(dt)\n",
    "    \n",
    "    # save the post-model step topography of the core nodes to assess steady state. \n",
    "    post_topo = model.grid.at_node['topographic__elevation'][model.grid.core_nodes]\n",
    "    \n",
    "    # increment elapsed time\n",
    "    elapsed_time += dt\n",
    "    \n",
    "    # assess if steady state has been reached. \n",
    "    if max(abs(pre_topo - post_topo)) <= tolerance: # 1 mm\n",
    "        keep_running = False\n",
    "    \n",
    "    # if time rounds to 10,000 years, print out a log message. \n",
    "    if elapsed_time % 10000 == 0:\n",
    "        print('Elapsed time: ', elapsed_time)\n",
    "        print('Maximum Topographic Change/Tolerance: ', np.round(max(abs(pre_topo - post_topo))/tolerance, decimals=2))       "
   ]
  },
  {
   "cell_type": "code",
   "execution_count": null,
   "metadata": {},
   "outputs": [],
   "source": [
    "# MAKE SLOPE-AREA PLOT\n",
    "\n",
    "# plot nodes that are not on the boundary or adjacent to it\n",
    "plotting_nodes = ((model.grid.node_x > params['node_spacing'])&\n",
    "                  (model.grid.node_x < params['node_spacing']*(params['number_of_node_columns']-2))&\n",
    "                  (model.grid.node_y > params['node_spacing'])&\n",
    "                  (model.grid.node_y < params['node_spacing']*(params['number_of_node_rows']-2)))\n",
    "\n",
    "# assign area_array and slope_array for ROCK\n",
    "area_array_rock = model.grid.at_node['drainage_area'][plotting_nodes]\n",
    "slope_array_rock = model.grid.at_node['topographic__steepest_slope'][plotting_nodes]\n",
    "# assign area_array and slope_array for TILL\n",
    "area_array_till = model.grid.at_node['drainage_area'][plotting_nodes]\n",
    "slope_array_till = model.grid.at_node['topographic__steepest_slope'][plotting_nodes]\n",
    "\n",
    "# instantiate figure and plot\n",
    "fig = plt.figure(figsize=(6, 3.75))\n",
    "slope_area = plt.subplot()\n",
    "\n",
    "#plot the data for ROCK\n",
    "slope_area.scatter(area_array_rock, slope_array_rock, marker='s', edgecolor='0', color='1', \n",
    "                   label = 'Model BasicRt, Rock')\n",
    "\n",
    "#plot the data for TILL\n",
    "slope_area.scatter(area_array_till, slope_array_till, color='k', \n",
    "                   label = 'Model BasicRt, Till') \n",
    "\n",
    "#make axes log and set limits\n",
    "slope_area.set_xscale('log')\n",
    "slope_area.set_yscale('log')\n",
    "\n",
    "slope_area.set_xlim(9*10**1, 3*10**5)\n",
    "slope_area.set_ylim(1e-5, 1e-1)\n",
    "\n",
    "#set x and y labels\n",
    "slope_area.set_xlabel(r'Drainage area [m$^2$]')\n",
    "slope_area.set_ylabel('Channel slope [-]')\n",
    "slope_area.legend(scatterpoints=1,prop={'size':12})\n",
    "slope_area.tick_params(axis='x', which='major', pad=7)\n",
    "\n",
    "# save out an output figure\n",
    "output_figure = os.path.join('output_figures/maintext_rock_till_slope_area.eps')\n",
    "fig.savefig(output_figure, bbox_inches='tight', dpi=1000) # save figure"
   ]
  },
  {
   "cell_type": "code",
   "execution_count": null,
   "metadata": {
    "collapsed": true
   },
   "outputs": [],
   "source": [
    "#export NetCDF for Paraview image of topography\n",
    "output_file = os.path.join('output_netcdfs/maintext_rock_till.nc')\n",
    "write_netcdf(output_file, model.grid, format='NETCDF3_64BIT', names='topographic__elevation')"
   ]
  },
  {
   "cell_type": "code",
   "execution_count": null,
   "metadata": {},
   "outputs": [],
   "source": [
    "# make a plot of the final steady state topography\n",
    "imshow_grid(model.grid, 'topographic__elevation')"
   ]
  }
 ],
 "metadata": {
  "kernelspec": {
   "display_name": "Python 3",
   "language": "python",
   "name": "python3"
  },
  "language_info": {
   "codemirror_mode": {
    "name": "ipython",
    "version": 3
   },
   "file_extension": ".py",
   "mimetype": "text/x-python",
   "name": "python",
   "nbconvert_exporter": "python",
   "pygments_lexer": "ipython3",
   "version": "3.6.2"
  }
 },
 "nbformat": 4,
 "nbformat_minor": 2
}
