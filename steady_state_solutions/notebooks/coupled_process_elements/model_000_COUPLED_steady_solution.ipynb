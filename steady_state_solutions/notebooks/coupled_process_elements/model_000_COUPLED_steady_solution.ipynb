{
 "cells": [
  {
   "cell_type": "markdown",
   "metadata": {},
   "source": [
    "# Model 000 Basic: Coupled Steady-State Solution"
   ]
  },
  {
   "cell_type": "markdown",
   "metadata": {},
   "source": [
    "This model shows example usage of the Basic model from the TerrainBento package.\n",
    "\n",
    "This model has stream power and linear diffusion of the forms:\n",
    "$$\\frac{d\\eta}{dt}=-KA^mS^n$$\n",
    "and\n",
    "$$\\frac{d\\eta}{dt} = -D\\nabla^2\\eta$$\n",
    "\n",
    "Refer to [REF MANUSCRIPT] for the definition of all symbols. \n",
    "\n",
    "This notebook (a) shows the initialization and running of this model, (b) saves a NetCDF file of the topography, which we will use to make an oblique Paraview image of the landscape, and (c) creates a slope-area plot at steady state."
   ]
  },
  {
   "cell_type": "code",
   "execution_count": 1,
   "metadata": {
    "collapsed": true
   },
   "outputs": [],
   "source": [
    "# import required modules\n",
    "import os\n",
    "import numpy as np\n",
    "\n",
    "import matplotlib.pyplot as plt\n",
    "import matplotlib\n",
    "matplotlib.rcParams.update({'font.size': 20})\n",
    "%matplotlib inline\n",
    "\n",
    "from landlab import imshow_grid\n",
    "\n",
    "from terrainbento import Basic"
   ]
  },
  {
   "cell_type": "code",
   "execution_count": 2,
   "metadata": {
    "collapsed": true
   },
   "outputs": [],
   "source": [
    "# create the parameter dictionary needed to instantiate the model \n",
    "params = {'number_of_node_rows' : 100,\n",
    "          'number_of_node_columns' : 160,\n",
    "          'node_spacing' : 10.0,\n",
    "          'east_boundary_closed' : False,\n",
    "          'north_boundary_closed' : False,\n",
    "          'west_boundary_closed' : False,\n",
    "          'south_boundary_closed' : False,\n",
    "          'dt' : 10.0,\n",
    "          'K_sp' : 0.001,\n",
    "          'm_sp' : 0.5,\n",
    "          'n_sp' : 1.0,\n",
    "          'linear_diffusivity' : 0.2,\n",
    "          'outlet_lowering_rate' : 0.0005,\n",
    "          'output_filename': 'model_000_output'\n",
    "}"
   ]
  },
  {
   "cell_type": "code",
   "execution_count": null,
   "metadata": {
    "collapsed": true
   },
   "outputs": [],
   "source": [
    "# initialize the model by passing the parameter dictionary\n",
    "basic = Basic(params=params)\n",
    "\n",
    "# set a tolerance for determining steady state\n",
    "tolerance = 0.0001"
   ]
  },
  {
   "cell_type": "code",
   "execution_count": null,
   "metadata": {},
   "outputs": [
    {
     "name": "stdout",
     "output_type": "stream",
     "text": [
      "Elapsed time:  1000\n",
      "Maximum Topographic Change/Tolerance:  460.05\n",
      "Elapsed time:  2000\n",
      "Maximum Topographic Change/Tolerance:  290.87\n",
      "Elapsed time:  3000\n",
      "Maximum Topographic Change/Tolerance:  102.61\n",
      "Elapsed time:  4000\n",
      "Maximum Topographic Change/Tolerance:  93.92\n",
      "Elapsed time:  5000\n",
      "Maximum Topographic Change/Tolerance:  322.27\n",
      "Elapsed time:  6000\n",
      "Maximum Topographic Change/Tolerance:  111.97\n",
      "Elapsed time:  7000\n",
      "Maximum Topographic Change/Tolerance:  151.92\n",
      "Elapsed time:  8000\n",
      "Maximum Topographic Change/Tolerance:  466.0\n",
      "Elapsed time:  9000\n",
      "Maximum Topographic Change/Tolerance:  72.99\n",
      "Elapsed time:  10000\n",
      "Maximum Topographic Change/Tolerance:  70.25\n",
      "Elapsed time:  11000\n",
      "Maximum Topographic Change/Tolerance:  42.65\n",
      "Elapsed time:  12000\n",
      "Maximum Topographic Change/Tolerance:  59.78\n",
      "Elapsed time:  13000\n",
      "Maximum Topographic Change/Tolerance:  65.53\n",
      "Elapsed time:  14000\n",
      "Maximum Topographic Change/Tolerance:  68.85\n",
      "Elapsed time:  15000\n",
      "Maximum Topographic Change/Tolerance:  83.14\n",
      "Elapsed time:  16000\n",
      "Maximum Topographic Change/Tolerance:  73.75\n",
      "Elapsed time:  17000\n",
      "Maximum Topographic Change/Tolerance:  71.36\n",
      "Elapsed time:  18000\n",
      "Maximum Topographic Change/Tolerance:  64.59\n",
      "Elapsed time:  19000\n",
      "Maximum Topographic Change/Tolerance:  67.45\n",
      "Elapsed time:  20000\n",
      "Maximum Topographic Change/Tolerance:  45.73\n",
      "Elapsed time:  21000\n",
      "Maximum Topographic Change/Tolerance:  44.02\n",
      "Elapsed time:  22000\n",
      "Maximum Topographic Change/Tolerance:  49.75\n",
      "Elapsed time:  23000\n",
      "Maximum Topographic Change/Tolerance:  42.75\n",
      "Elapsed time:  24000\n",
      "Maximum Topographic Change/Tolerance:  43.45\n",
      "Elapsed time:  25000\n",
      "Maximum Topographic Change/Tolerance:  51.33\n",
      "Elapsed time:  26000\n",
      "Maximum Topographic Change/Tolerance:  41.01\n",
      "Elapsed time:  27000\n",
      "Maximum Topographic Change/Tolerance:  44.13\n",
      "Elapsed time:  28000\n",
      "Maximum Topographic Change/Tolerance:  63.18\n",
      "Elapsed time:  29000\n",
      "Maximum Topographic Change/Tolerance:  43.69\n",
      "Elapsed time:  30000\n",
      "Maximum Topographic Change/Tolerance:  52.76\n"
     ]
    }
   ],
   "source": [
    "# run the model\n",
    "\n",
    "# set dt and initialize the elapsed_time variable\n",
    "dt = 10 # units are in years\n",
    "elapsed_time = 0 \n",
    "\n",
    "# initialize a variable to identify if steady state has been reached\n",
    "keep_running = True\n",
    "\n",
    "# run the model until stead state has been reached. \n",
    "while keep_running == True:\n",
    "    \n",
    "    # save the pre-model-step topography to assess steady state. \n",
    "    pre_topo = basic.grid.at_node['topographic__elevation'][basic.grid.core_nodes]\n",
    "    \n",
    "    # run the model one step\n",
    "    basic.run_one_step(dt)\n",
    "    \n",
    "    # save the topography post model step to assess steady state. \n",
    "    post_topo = basic.grid.at_node['topographic__elevation'][basic.grid.core_nodes]\n",
    "    \n",
    "    # increment elapsed time\n",
    "    elapsed_time += dt\n",
    "    \n",
    "    # assess if steady state has been reached. \n",
    "    if max(abs(pre_topo - post_topo)) <= tolerance: # 1 mm\n",
    "        keep_running = False\n",
    "    \n",
    "    # if time rounds to 1000 years, print out a log message. \n",
    "    if elapsed_time % 1000 == 0:\n",
    "        print('Elapsed time: ', elapsed_time)\n",
    "        print('Maximum Topographic Change/Tolerance: ', np.round(max(abs(pre_topo - post_topo))/tolerance, decimals=2))       "
   ]
  },
  {
   "cell_type": "code",
   "execution_count": null,
   "metadata": {},
   "outputs": [],
   "source": [
    "# MAKE SLOPE-AREA PLOT\n",
    "\n",
    "# assign area_array and slope_array\n",
    "area_array = basic.grid.at_node['drainage_area'][(basic.grid.node_x > 10)&(basic.grid.node_x < 1580)&(basic.grid.node_y >10)&(basic.grid.node_y<980)]\n",
    "slope_array = basic.grid.at_node['topographic__steepest_slope'][(basic.grid.node_x > 10)&(basic.grid.node_x < 1580)&(basic.grid.node_y >10)&(basic.grid.node_y<980)]\n",
    "\n",
    "# instantiate figure and plot\n",
    "fig = plt.figure(figsize=(6, 3.75))\n",
    "slope_area = plt.subplot()\n",
    "\n",
    "# create an array for the detachment-limited analytical solution\n",
    "u = params['outlet_lowering_rate']# m/yr, uplift or baselevel lowering rate\n",
    "k = params['K_sp'] # fluvial erodibility\n",
    "m = params['m_sp'] # discharge exponent\n",
    "n = params['n_sp'] # slope exponent\n",
    "\n",
    "# calculate analytical slope from area field\n",
    "analytical_slope_array = np.power((u / k), 1 / n) * np.power(area_array, -m/n)\n",
    "\n",
    "# plot the analytical solution\n",
    "slope_area.plot(area_array, analytical_slope_array, linestyle='-',\n",
    "                color='grey', linewidth = 1, label = 'Analytical solution')\n",
    "\n",
    "# plot the data\n",
    "slope_area.scatter(area_array, slope_array, marker='o', c='k', \n",
    "                   label = 'Numerical solution') #plot HA data\n",
    "                   \n",
    "# make axes log and set limits\n",
    "slope_area.set_xscale('log')\n",
    "slope_area.set_yscale('log')\n",
    "\n",
    "slope_area.set_xlim(9*10**1, 3*10**5)\n",
    "slope_area.set_ylim(1e-3, 1e-1)\n",
    "\n",
    "# set x and y labels\n",
    "slope_area.set_xlabel(r'Drainage area [m$^2$]')\n",
    "slope_area.set_ylabel('Channel slope [-]')\n",
    "\n",
    "# slope_area.legend(scatterpoints=1,prop={'size':12})\n",
    "slope_area.tick_params(axis='x', which='major', pad=7)\n",
    "\n",
    "# save out an output figure\n",
    "output_figure = os.path.join('output_netcdfs/maintext_basic_streampower_slope_area_rev1.eps')\n",
    "fig.savefig(output_figure, bbox_inches='tight', dpi=1000) #save figure"
   ]
  },
  {
   "cell_type": "code",
   "execution_count": null,
   "metadata": {
    "collapsed": true
   },
   "outputs": [],
   "source": [
    "#export a NetCDF of the final topography for Paraview to use.\n",
    "from landlab.io.netcdf import write_netcdf\n",
    "output_file = os.path.join('output_netcdfs/maintext_basic_stream_power_rev1.nc')\n",
    "write_netcdf(output_file, basic.grid, format='NETCDF3_64BIT', names='topographic__elevation')"
   ]
  },
  {
   "cell_type": "code",
   "execution_count": null,
   "metadata": {},
   "outputs": [],
   "source": [
    "# make a plot of the final steady state topography\n",
    "imshow_grid(basic.grid, 'topographic__elevation')"
   ]
  },
  {
   "cell_type": "code",
   "execution_count": null,
   "metadata": {
    "collapsed": true
   },
   "outputs": [],
   "source": []
  }
 ],
 "metadata": {
  "kernelspec": {
   "display_name": "Python 3",
   "language": "python",
   "name": "python3"
  },
  "language_info": {
   "codemirror_mode": {
    "name": "ipython",
    "version": 3
   },
   "file_extension": ".py",
   "mimetype": "text/x-python",
   "name": "python",
   "nbconvert_exporter": "python",
   "pygments_lexer": "ipython3",
   "version": "3.6.2"
  }
 },
 "nbformat": 4,
 "nbformat_minor": 2
}
