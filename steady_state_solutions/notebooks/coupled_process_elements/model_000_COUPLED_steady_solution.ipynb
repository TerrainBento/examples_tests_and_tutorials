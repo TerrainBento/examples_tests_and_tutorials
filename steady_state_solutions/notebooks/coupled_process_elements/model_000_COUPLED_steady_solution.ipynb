{
 "cells": [
  {
   "cell_type": "markdown",
   "metadata": {},
   "source": [
    "# Model 000 Basic: Coupled Steady-State Solution"
   ]
  },
  {
   "cell_type": "markdown",
   "metadata": {},
   "source": [
    "This model shows example usage of the Basic model from the TerrainBento package.\n",
    "\n",
    "This uses has stream power and linear diffusion and has the following governing equation:\n",
    "\n",
    "$\\frac{\\partial \\eta}{\\partial t} = - KA^{1/2}S + D\\nabla^2 \\eta$\n",
    "\n",
    "Refer to [REF MANUSCRIPT] for the definition of all symbols. \n",
    "\n",
    "This notebook (a) shows the initialization and running of this model, (b) saves a NetCDF file of the topography, which we will use to make an oblique Paraview image of the landscape, and (c) creates a slope-area plot at steady state."
   ]
  },
  {
   "cell_type": "code",
   "execution_count": 1,
   "metadata": {
    "collapsed": true
   },
   "outputs": [],
   "source": [
    "# import required modules\n",
    "import os\n",
    "import numpy as np\n",
    "\n",
    "import matplotlib.pyplot as plt\n",
    "import matplotlib\n",
    "matplotlib.rcParams.update({'font.size': 20})\n",
    "%matplotlib inline\n",
    "\n",
    "from landlab import imshow_grid\n",
    "from landlab.io.netcdf import write_netcdf\n",
    "\n",
    "from terrainbento import Basic"
   ]
  },
  {
   "cell_type": "code",
   "execution_count": 2,
   "metadata": {
    "collapsed": true
   },
   "outputs": [],
   "source": [
    "# create the parameter dictionary needed to instantiate the model \n",
    "# all parameters used are specified in this notebook block\n",
    "\n",
    "params = {'number_of_node_rows' : 100,\n",
    "          'number_of_node_columns' : 160,\n",
    "          'node_spacing' : 10.0, # meters\n",
    "          'east_boundary_closed' : False,\n",
    "          'north_boundary_closed' : False,\n",
    "          'west_boundary_closed' : False,\n",
    "          'south_boundary_closed' : False,\n",
    "          'dt' : 10,\n",
    "          'K_sp' : 0.001,\n",
    "          'm_sp' : 0.5,\n",
    "          'n_sp' : 1.0,\n",
    "          'linear_diffusivity' : 0.2,\n",
    "          'outlet_lowering_rate' : 0.005,\n",
    "          'output_filename': 'model_000_output'\n",
    "}"
   ]
  },
  {
   "cell_type": "code",
   "execution_count": null,
   "metadata": {
    "collapsed": true
   },
   "outputs": [],
   "source": [
    "# initialize the model by passing the parameter dictionary\n",
    "model = Basic(params=params)\n",
    "\n",
    "# set a tolerance for determining steady state\n",
    "tolerance = 0.0001"
   ]
  },
  {
   "cell_type": "code",
   "execution_count": null,
   "metadata": {},
   "outputs": [
    {
     "name": "stdout",
     "output_type": "stream",
     "text": [
      "Elapsed time:  10000\n",
      "Maximum Topographic Change/Tolerance:  756.54\n",
      "Elapsed time:  20000\n",
      "Maximum Topographic Change/Tolerance:  288.63\n",
      "Elapsed time:  30000\n",
      "Maximum Topographic Change/Tolerance:  463.58\n",
      "Elapsed time:  40000\n",
      "Maximum Topographic Change/Tolerance:  390.66\n",
      "Elapsed time:  50000\n",
      "Maximum Topographic Change/Tolerance:  285.73\n",
      "Elapsed time:  60000\n",
      "Maximum Topographic Change/Tolerance:  320.22\n",
      "Elapsed time:  70000\n",
      "Maximum Topographic Change/Tolerance:  430.68\n",
      "Elapsed time:  80000\n",
      "Maximum Topographic Change/Tolerance:  239.87\n",
      "Elapsed time:  90000\n",
      "Maximum Topographic Change/Tolerance:  464.68\n",
      "Elapsed time:  100000\n",
      "Maximum Topographic Change/Tolerance:  142.23\n",
      "Elapsed time:  110000\n",
      "Maximum Topographic Change/Tolerance:  161.34\n",
      "Elapsed time:  120000\n",
      "Maximum Topographic Change/Tolerance:  95.23\n"
     ]
    }
   ],
   "source": [
    "# run the model\n",
    "\n",
    "# set dt and initialize the elapsed_time variable\n",
    "dt = params['dt']\n",
    "elapsed_time = 0 \n",
    "\n",
    "# initialize a variable to identify if steady state has been reached\n",
    "keep_running = True\n",
    "\n",
    "# run the model until stead state has been reached. \n",
    "while keep_running == True:\n",
    "    \n",
    "    # save the pre-model-step topography of the core nodes to assess steady state. \n",
    "    pre_topo = model.grid.at_node['topographic__elevation'][model.grid.core_nodes]\n",
    "    \n",
    "    # run the model one step\n",
    "    model.run_one_step(dt)\n",
    "    \n",
    "    # save the post-model step topography of the core nodes to assess steady state. \n",
    "    post_topo = model.grid.at_node['topographic__elevation'][model.grid.core_nodes]\n",
    "    \n",
    "    # increment elapsed time\n",
    "    elapsed_time += dt\n",
    "    \n",
    "    # assess if steady state has been reached. \n",
    "    if max(abs(pre_topo - post_topo)) <= tolerance: # 1 mm\n",
    "        keep_running = False\n",
    "    \n",
    "    # if time rounds to 10,000 years, print out a log message. \n",
    "    if elapsed_time % 10000 == 0:\n",
    "        print('Elapsed time: ', elapsed_time)\n",
    "        print('Maximum Topographic Change/Tolerance: ', np.round(max(abs(pre_topo - post_topo))/tolerance, decimals=2))       "
   ]
  },
  {
   "cell_type": "code",
   "execution_count": null,
   "metadata": {
    "collapsed": true
   },
   "outputs": [],
   "source": [
    "# MAKE SLOPE-AREA PLOT\n",
    "\n",
    "# assign area_array and slope_array\n",
    "area_array = model.grid.at_node['drainage_area'][(model.grid.node_x > 10)&(model.grid.node_x < 1580)&(model.grid.node_y >10)&(model.grid.node_y<980)]\n",
    "slope_array = model.grid.at_node['topographic__steepest_slope'][(model.grid.node_x > 10)&(model.grid.node_x < 1580)&(model.grid.node_y >10)&(model.grid.node_y<980)]\n",
    "\n",
    "# instantiate figure and plot\n",
    "fig = plt.figure(figsize=(6, 3.75))\n",
    "slope_area = plt.subplot()\n",
    "\n",
    "# create an array for the detachment-limited analytical solution\n",
    "u = params['outlet_lowering_rate']# m/yr, uplift or baselevel lowering rate\n",
    "k = params['K_sp'] # fluvial erodibility\n",
    "m = params['m_sp'] # discharge exponent\n",
    "n = params['n_sp'] # slope exponent\n",
    "\n",
    "# calculate analytical slope from area field\n",
    "analytical_slope_array = np.power((u / k), 1 / n) * np.power(area_array, -m/n)\n",
    "\n",
    "# plot the analytical solution\n",
    "slope_area.plot(area_array, analytical_slope_array, linestyle='-',\n",
    "                color='grey', linewidth = 1, label = 'Analytical solution')\n",
    "\n",
    "# plot the data\n",
    "slope_area.scatter(area_array, slope_array, marker='o', c='k', \n",
    "                   label = 'Numerical solution') \n",
    "                   \n",
    "# make axes log and set limits\n",
    "slope_area.set_xscale('log')\n",
    "slope_area.set_yscale('log')\n",
    "\n",
    "slope_area.set_xlim(9*10**1, 3*10**5)\n",
    "slope_area.set_ylim(1e-3, 1e-1)\n",
    "\n",
    "# set x and y labels\n",
    "slope_area.set_xlabel(r'Drainage area [m$^2$]')\n",
    "slope_area.set_ylabel('Channel slope [-]')\n",
    "\n",
    "# slope_area.legend(scatterpoints=1,prop={'size':12})\n",
    "slope_area.tick_params(axis='x', which='major', pad=7)\n",
    "\n",
    "# save out an output figure\n",
    "output_figure = os.path.join('output_figures/maintext_basic_streampower_slope_area_rev1.eps')\n",
    "fig.savefig(output_figure, bbox_inches='tight', dpi=1000) # save figure"
   ]
  },
  {
   "cell_type": "code",
   "execution_count": null,
   "metadata": {
    "collapsed": true
   },
   "outputs": [],
   "source": [
    "#export a NetCDF of the final topography for Paraview to use.\n",
    "output_file = os.path.join('output_netcdfs/maintext_basic_stream_power_rev1.nc')\n",
    "write_netcdf(output_file, model.grid, format='NETCDF3_64BIT', names='topographic__elevation')"
   ]
  },
  {
   "cell_type": "code",
   "execution_count": null,
   "metadata": {},
   "outputs": [],
   "source": [
    "# make a plot of the final steady state topography\n",
    "imshow_grid(model.grid, 'topographic__elevation')"
   ]
  }
 ],
 "metadata": {
  "kernelspec": {
   "display_name": "Python 3",
   "language": "python",
   "name": "python3"
  },
  "language_info": {
   "codemirror_mode": {
    "name": "ipython",
    "version": 3
   },
   "file_extension": ".py",
   "mimetype": "text/x-python",
   "name": "python",
   "nbconvert_exporter": "python",
   "pygments_lexer": "ipython3",
   "version": "3.6.2"
  }
 },
 "nbformat": 4,
 "nbformat_minor": 2
}
