{
 "cells": [
  {
   "cell_type": "markdown",
   "metadata": {},
   "source": [
    "# Model 400 basicSa"
   ]
  },
  {
   "cell_type": "markdown",
   "metadata": {
    "collapsed": true
   },
   "source": [
    "This model uses basic stream power m=1/2, depth dependent linear diffusion and exponential soil production. Here we test the hillslope flux and soil production components of the model to ensure they match analytical predictions. \n",
    "\n",
    "The soil production function is: \n",
    "$$P=P_0 e^{\\frac{-H}{H^*}}$$\n",
    "\n",
    "where P is the soil production rate as a function of soil depth H, P_0 is the maximum soil production rate, and H* is a characteristic soil production depth. \n",
    "\n",
    "At steady state, the soil production rate, P, must equal the uplift rate, U. Therefore, for a given uplift rate, soil depth will be:\n",
    "\n",
    "$$H = -H^*\\ln{\\frac{U}{P_0}}$$"
   ]
  },
  {
   "cell_type": "markdown",
   "metadata": {},
   "source": [
    "The depth dependent linear flux rule is:\n",
    "    \n",
    "$$q = -\\kappa \\frac{dz}{dx} (1-e^\\frac{-H}{H_0})$$\n",
    "\n",
    "where q is the flux $[L^2/T]$, $\\kappa$ is the diffusivity $[L^2/T]$, dz/dx is the topographic slope, H is the soil thickness, and $H_0$ is a characteristic transport depth. \n",
    "\n",
    "At steady state, $q = Px$, where x is the distance from the divide. Therefore, the topographic slope will be:\n",
    "\n",
    "$$ \\frac{dz}{dx} = \\frac{Ux}{\\kappa (1-e^\\frac{-H}{H_0})}$$\n",
    "\n",
    "where H is the steady state soil thickness. "
   ]
  },
  {
   "cell_type": "code",
   "execution_count": 1,
   "metadata": {},
   "outputs": [],
   "source": [
    "from erosion_model import BasicSa\n",
    "import numpy as np\n",
    "import matplotlib.pyplot as plt\n",
    "from landlab import imshow_grid"
   ]
  },
  {
   "cell_type": "code",
   "execution_count": 2,
   "metadata": {},
   "outputs": [],
   "source": [
    "linear_diffusivity = 1.0\n",
    "soil_transport_decay_depth = 0.1\n",
    "max_soil_production_rate = 0.001\n",
    "soil_production_decay_depth = 0.2\n",
    "uplift_rate = 0.0005\n",
    "dx = 10.0\n",
    "ncols = 1000\n",
    "dt = 10.0"
   ]
  },
  {
   "cell_type": "code",
   "execution_count": 3,
   "metadata": {},
   "outputs": [],
   "source": [
    "#parameter dictionary\n",
    "params = {'number_of_node_rows' : 10,\n",
    "         'number_of_node_columns' : 100,\n",
    "         'node_spacing' : dx,\n",
    "         'east_boundary_closed' : False,\n",
    "         'north_boundary_closed' : True,\n",
    "         'west_boundary_closed' : False,\n",
    "         'south_boundary_closed' :True,\n",
    "         'dt' : dt,\n",
    "         'K_sp' : 0,\n",
    "         'm_sp' : 0.5,\n",
    "         'n_sp' : 1.0,\n",
    "         'linear_diffusivity' : linear_diffusivity,\n",
    "         'outlet_lowering_rate' : uplift_rate,\n",
    "         'output_filename': 'model_400_output',\n",
    "         'soil_transport_decay_depth' : soil_transport_decay_depth,\n",
    "         'max_soil_production_rate' : max_soil_production_rate,\n",
    "         'soil_production_decay_depth' : soil_production_decay_depth,\n",
    "         'initial_soil_thickness' : 0.0}"
   ]
  },
  {
   "cell_type": "code",
   "execution_count": 4,
   "metadata": {},
   "outputs": [],
   "source": [
    "basic = BasicSa(params=params)\n",
    "tolerance = 0.00005\n",
    "soil_tolerance = 0.01\n"
   ]
  },
  {
   "cell_type": "code",
   "execution_count": 5,
   "metadata": {},
   "outputs": [
    {
     "name": "stdout",
     "output_type": "stream",
     "text": [
      "0\n",
      "0.005\n",
      "10000.0\n",
      "0.0049958761933\n",
      "20000.0\n",
      "0.00486566640601\n",
      "30000.0\n",
      "0.00459518536442\n",
      "40000.0\n",
      "0.00427657978474\n",
      "50000.0\n",
      "0.00395743818968\n",
      "60000.0\n",
      "0.00365627020942\n",
      "70000.0\n",
      "0.00337900697004\n",
      "80000.0\n",
      "0.00312609341876\n",
      "90000.0\n",
      "0.00289604185109\n",
      "100000.0\n",
      "0.00268675839973\n",
      "110000.0\n",
      "0.00249608363697\n",
      "120000.0\n",
      "0.00232200070146\n",
      "130000.0\n",
      "0.00216270186383\n",
      "140000.0\n",
      "0.00201659606491\n",
      "150000.0\n",
      "0.00188229339956\n",
      "160000.0\n",
      "0.00175858219107\n",
      "170000.0\n",
      "0.00164440529007\n",
      "180000.0\n",
      "0.0015388382132\n",
      "190000.0\n",
      "0.00144106995592\n",
      "200000.0\n",
      "0.0013503865511\n",
      "210000.0\n",
      "0.00126615714252\n",
      "220000.0\n",
      "0.00118782224772\n",
      "230000.0\n",
      "0.00111488387917\n",
      "240000.0\n",
      "0.00104689722332\n",
      "250000.0\n",
      "0.000983463617374\n",
      "260000.0\n",
      "0.000924224605058\n",
      "270000.0\n",
      "0.000868856889781\n",
      "280000.0\n",
      "0.000817068034834\n",
      "290000.0\n",
      "0.000768592787296\n",
      "300000.0\n",
      "0.000723189923946\n",
      "310000.0\n",
      "0.000680639535602\n",
      "320000.0\n",
      "0.000640740680296\n",
      "330000.0\n",
      "0.000603309348662\n",
      "340000.0\n",
      "0.000568176693577\n",
      "350000.0\n",
      "0.000535187484772\n",
      "360000.0\n",
      "0.000504198755451\n",
      "370000.0\n",
      "0.000475078612951\n",
      "380000.0\n",
      "0.000447705190666\n",
      "390000.0\n",
      "0.000421965721372\n",
      "400000.0\n",
      "0.000397755715497\n",
      "410000.0\n",
      "0.000374978230298\n",
      "420000.0\n",
      "0.000353543218296\n",
      "430000.0\n",
      "0.000333366944176\n",
      "440000.0\n",
      "0.00031437146238\n",
      "450000.0\n",
      "0.000296484147086\n",
      "460000.0\n",
      "0.000279637268818\n",
      "470000.0\n",
      "0.00026376761187\n",
      "480000.0\n",
      "0.000248816127836\n",
      "490000.0\n",
      "0.000234727621219\n",
      "500000.0\n",
      "0.000221450463485\n",
      "510000.0\n",
      "0.000208936332399\n",
      "520000.0\n",
      "0.000197139974077\n",
      "530000.0\n",
      "0.000186018985247\n",
      "540000.0\n",
      "0.000175533613699\n",
      "550000.0\n",
      "0.000165646575041\n",
      "560000.0\n",
      "0.000156322884322\n",
      "570000.0\n",
      "0.00014752970074\n",
      "580000.0\n",
      "0.00013923618468\n",
      "590000.0\n",
      "0.000131413365395\n",
      "600000.0\n",
      "0.00012403401891\n",
      "610000.0\n",
      "0.000117072554744\n",
      "620000.0\n",
      "0.000110504911092\n",
      "630000.0\n",
      "0.000104308457281\n",
      "640000.0\n",
      "9.84619035052e-05\n",
      "650000.0\n",
      "9.29452166076e-05\n",
      "660000.0\n",
      "8.77395417547e-05\n",
      "670000.0\n",
      "8.28271296172e-05\n",
      "680000.0\n",
      "7.81912682299e-05\n",
      "690000.0\n",
      "7.38162196541e-05\n",
      "700000.0\n",
      "6.96871606749e-05\n",
      "710000.0\n",
      "6.57901274792e-05\n",
      "720000.0\n",
      "6.21119638566e-05\n",
      "730000.0\n",
      "5.86402728686e-05\n",
      "740000.0\n",
      "5.53633714446e-05\n",
      "750000.0\n",
      "5.22702479913e-05\n"
     ]
    }
   ],
   "source": [
    "elapsed_time = 0\n",
    "keep_running = True\n",
    "while keep_running == True:\n",
    "    pre_topo = basic.grid.at_node['topographic__elevation'][basic.grid.core_nodes]\n",
    "    basic.run_one_step(dt)\n",
    "    post_topo = basic.grid.at_node['topographic__elevation'][basic.grid.core_nodes]\n",
    "    if elapsed_time % 10000 == 0:\n",
    "        print elapsed_time\n",
    "        print max(abs(pre_topo - post_topo))\n",
    "    elapsed_time += dt\n",
    "    if max(abs(pre_topo - post_topo)) <= tolerance: \n",
    "        keep_running = False"
   ]
  },
  {
   "cell_type": "code",
   "execution_count": 6,
   "metadata": {},
   "outputs": [
    {
     "data": {
      "image/png": "[encoded data removed]",
      "text/plain": [
       "<matplotlib.figure.Figure at 0x10f09b490>"
      ]
     },
     "metadata": {},
     "output_type": "display_data"
    }
   ],
   "source": [
    "%matplotlib inline\n",
    "imshow_grid(basic.grid, 'topographic__elevation')"
   ]
  },
  {
   "cell_type": "code",
   "execution_count": 7,
   "metadata": {},
   "outputs": [
    {
     "data": {
      "image/png": "[encoded data removed]",
      "text/plain": [
       "<matplotlib.figure.Figure at 0x10f2cbd50>"
      ]
     },
     "metadata": {},
     "output_type": "display_data"
    },
    {
     "data": {
      "image/png": "[encoded data removed]",
      "text/plain": [
       "<matplotlib.figure.Figure at 0x10f3eaa50>"
      ]
     },
     "metadata": {},
     "output_type": "display_data"
    },
    {
     "data": {
      "image/png": "[encoded data removed]",
      "text/plain": [
       "<matplotlib.figure.Figure at 0x10f4d2650>"
      ]
     },
     "metadata": {},
     "output_type": "display_data"
    },
    {
     "data": {
      "text/plain": [
       "array([   0.,   10.,   20.,   30.,   40.,   50.,   60.,   70.,   80.,\n",
       "         90.,  100.,  110.,  120.,  130.,  140.,  150.,  160.,  170.,\n",
       "        180.,  190.,  200.,  210.,  220.,  230.,  240.,  250.,  260.,\n",
       "        270.,  280.,  290.,  300.,  310.,  320.,  330.,  340.,  350.,\n",
       "        360.,  370.,  380.,  390.,  400.,  410.,  420.,  430.,  440.,\n",
       "        450.,  460.,  470.,  480.,  490.,  500.,  510.,  520.,  530.,\n",
       "        540.,  550.,  560.,  570.,  580.,  590.,  600.,  610.,  620.,\n",
       "        630.,  640.,  650.,  660.,  670.,  680.,  690.,  700.,  710.,\n",
       "        720.,  730.,  740.,  750.,  760.,  770.,  780.,  790.,  800.,\n",
       "        810.,  820.,  830.,  840.,  850.,  860.,  870.,  880.,  890.,\n",
       "        900.,  910.,  920.,  930.,  940.,  950.,  960.,  970.,  980.,  990.])"
      ]
     },
     "execution_count": 7,
     "metadata": {},
     "output_type": "execute_result"
    }
   ],
   "source": [
    "\n",
    "topo_profile = basic.grid.at_node['topographic__elevation'][basic.grid.node_y == 50] #+ uplift_rate*elapsed_time\n",
    "bedrock_profile = basic.grid.at_node['bedrock__elevation'][basic.grid.node_y == 50]\n",
    "soil_profile = basic.grid.at_node['soil__depth'][basic.grid.node_y == 50]\n",
    "topo_slope = basic.grid.at_node['topographic__steepest_slope'][basic.grid.node_y == 50]\n",
    "domain = np.arange(0, max(basic.grid.node_x + 10.0), 10.0)\n",
    "plt.figure()\n",
    "plt.plot(domain,topo_profile)\n",
    "plt.plot(domain, bedrock_profile)\n",
    "#plt.ylim(0,30)\n",
    "#plt.xlim(0, 100)\n",
    "plt.show()\n",
    "\n",
    "plt.figure()\n",
    "plt.plot(domain,soil_profile)\n",
    "plt.plot(domain, topo_profile-bedrock_profile)\n",
    "#plt.ylim(0,1)\n",
    "#plt.xlim(0, 100)\n",
    "plt.figure()\n",
    "plt.plot(topo_slope)\n",
    "#plt.ylim(0,1)\n",
    "#plt.xlim(0, 100)\n",
    "plt.show()\n",
    "\n",
    "domain"
   ]
  },
  {
   "cell_type": "code",
   "execution_count": 8,
   "metadata": {},
   "outputs": [
    {
     "data": {
      "text/plain": [
       "array([   0.,    1.,    2.,    3.,    4.,    5.,    6.,    7.,    8.,\n",
       "          9.,   10.,   11.,   12.,   13.,   14.,   15.,   16.,   17.,\n",
       "         18.,   19.,   20.,   21.,   22.,   23.,   24.,   25.,   26.,\n",
       "         27.,   28.,   29.,   30.,   31.,   32.,   33.,   34.,   35.,\n",
       "         36.,   37.,   38.,   39.,   40.,   41.,   42.,   43.,   44.,\n",
       "         45.,   46.,   47.,   48.,   49.,   50.,   51.,   52.,   53.,\n",
       "         54.,   55.,   56.,   57.,   58.,   59.,   60.,   61.,   62.,\n",
       "         63.,   64.,   65.,   66.,   67.,   68.,   69.,   70.,   71.,\n",
       "         72.,   73.,   74.,   75.,   76.,   77.,   78.,   79.,   80.,\n",
       "         81.,   82.,   83.,   84.,   85.,   86.,   87.,   88.,   89.,\n",
       "         90.,   91.,   92.,   93.,   94.,   95.,   96.,   97.,   98.,\n",
       "         99.,  100.,  101.,  102.,  103.,  104.,  105.,  106.,  107.,\n",
       "        108.,  109.,  110.,  111.,  112.,  113.,  114.,  115.,  116.,\n",
       "        117.,  118.,  119.,  120.,  121.,  122.,  123.,  124.,  125.,\n",
       "        126.,  127.,  128.,  129.,  130.,  131.,  132.,  133.,  134.,\n",
       "        135.,  136.,  137.,  138.,  139.,  140.,  141.,  142.,  143.,\n",
       "        144.,  145.,  146.,  147.,  148.,  149.,  150.,  151.,  152.,\n",
       "        153.,  154.,  155.,  156.,  157.,  158.,  159.,  160.,  161.,\n",
       "        162.,  163.,  164.,  165.,  166.,  167.,  168.,  169.,  170.,\n",
       "        171.,  172.,  173.,  174.,  175.,  176.,  177.,  178.,  179.,\n",
       "        180.,  181.,  182.,  183.,  184.,  185.,  186.,  187.,  188.,\n",
       "        189.,  190.,  191.,  192.,  193.,  194.,  195.,  196.,  197.,\n",
       "        198.,  199.,  200.,  201.,  202.,  203.,  204.,  205.,  206.,\n",
       "        207.,  208.,  209.,  210.,  211.,  212.,  213.,  214.,  215.,\n",
       "        216.,  217.,  218.,  219.,  220.,  221.,  222.,  223.,  224.,\n",
       "        225.,  226.,  227.,  228.,  229.,  230.,  231.,  232.,  233.,\n",
       "        234.,  235.,  236.,  237.,  238.,  239.,  240.,  241.,  242.,\n",
       "        243.,  244.,  245.,  246.,  247.,  248.,  249.,  250.,  251.,\n",
       "        252.,  253.,  254.,  255.,  256.,  257.,  258.,  259.,  260.,\n",
       "        261.,  262.,  263.,  264.,  265.,  266.,  267.,  268.,  269.,\n",
       "        270.,  271.,  272.,  273.,  274.,  275.,  276.,  277.,  278.,\n",
       "        279.,  280.,  281.,  282.,  283.,  284.,  285.,  286.,  287.,\n",
       "        288.,  289.,  290.,  291.,  292.,  293.,  294.,  295.,  296.,\n",
       "        297.,  298.,  299.,  300.,  301.,  302.,  303.,  304.,  305.,\n",
       "        306.,  307.,  308.,  309.,  310.,  311.,  312.,  313.,  314.,\n",
       "        315.,  316.,  317.,  318.,  319.,  320.,  321.,  322.,  323.,\n",
       "        324.,  325.,  326.,  327.,  328.,  329.,  330.,  331.,  332.,\n",
       "        333.,  334.,  335.,  336.,  337.,  338.,  339.,  340.,  341.,\n",
       "        342.,  343.,  344.,  345.,  346.,  347.,  348.,  349.,  350.,\n",
       "        351.,  352.,  353.,  354.,  355.,  356.,  357.,  358.,  359.,\n",
       "        360.,  361.,  362.,  363.,  364.,  365.,  366.,  367.,  368.,\n",
       "        369.,  370.,  371.,  372.,  373.,  374.,  375.,  376.,  377.,\n",
       "        378.,  379.,  380.,  381.,  382.,  383.,  384.,  385.,  386.,\n",
       "        387.,  388.,  389.,  390.,  391.,  392.,  393.,  394.,  395.,\n",
       "        396.,  397.,  398.,  399.,  400.,  401.,  402.,  403.,  404.,\n",
       "        405.,  406.,  407.,  408.,  409.,  410.,  411.,  412.,  413.,\n",
       "        414.,  415.,  416.,  417.,  418.,  419.,  420.,  421.,  422.,\n",
       "        423.,  424.,  425.,  426.,  427.,  428.,  429.,  430.,  431.,\n",
       "        432.,  433.,  434.,  435.,  436.,  437.,  438.,  439.,  440.,\n",
       "        441.,  442.,  443.,  444.,  445.,  446.,  447.,  448.,  449.,\n",
       "        450.,  451.,  452.,  453.,  454.,  455.,  456.,  457.,  458.,\n",
       "        459.,  460.,  461.,  462.,  463.,  464.,  465.,  466.,  467.,\n",
       "        468.,  469.,  470.,  471.,  472.,  473.,  474.,  475.,  476.,\n",
       "        477.,  478.,  479.,  480.,  481.,  482.,  483.,  484.,  485.,\n",
       "        486.,  487.,  488.,  489.,  490.,  491.,  492.,  493.,  494.,\n",
       "        495.,  496.,  497.,  498.,  499.,  500.,  501.,  502.,  503.,\n",
       "        504.,  505.,  506.,  507.,  508.,  509.,  510.,  511.,  512.,\n",
       "        513.,  514.,  515.,  516.,  517.,  518.,  519.,  520.,  521.,\n",
       "        522.,  523.,  524.,  525.,  526.,  527.,  528.,  529.,  530.,\n",
       "        531.,  532.,  533.,  534.,  535.,  536.,  537.,  538.,  539.,\n",
       "        540.,  541.,  542.,  543.,  544.,  545.,  546.,  547.,  548.,\n",
       "        549.,  550.,  551.,  552.,  553.,  554.,  555.,  556.,  557.,\n",
       "        558.,  559.,  560.,  561.,  562.,  563.,  564.,  565.,  566.,\n",
       "        567.,  568.,  569.,  570.,  571.,  572.,  573.,  574.,  575.,\n",
       "        576.,  577.,  578.,  579.,  580.,  581.,  582.,  583.,  584.,\n",
       "        585.,  586.,  587.,  588.,  589.,  590.,  591.,  592.,  593.,\n",
       "        594.,  595.,  596.,  597.,  598.,  599.,  600.,  601.,  602.,\n",
       "        603.,  604.,  605.,  606.,  607.,  608.,  609.,  610.,  611.,\n",
       "        612.,  613.,  614.,  615.,  616.,  617.,  618.,  619.,  620.,\n",
       "        621.,  622.,  623.,  624.,  625.,  626.,  627.,  628.,  629.,\n",
       "        630.,  631.,  632.,  633.,  634.,  635.,  636.,  637.,  638.,\n",
       "        639.,  640.,  641.,  642.,  643.,  644.,  645.,  646.,  647.,\n",
       "        648.,  649.,  650.,  651.,  652.,  653.,  654.,  655.,  656.,\n",
       "        657.,  658.,  659.,  660.,  661.,  662.,  663.,  664.,  665.,\n",
       "        666.,  667.,  668.,  669.,  670.,  671.,  672.,  673.,  674.,\n",
       "        675.,  676.,  677.,  678.,  679.,  680.,  681.,  682.,  683.,\n",
       "        684.,  685.,  686.,  687.,  688.,  689.,  690.,  691.,  692.,\n",
       "        693.,  694.,  695.,  696.,  697.,  698.,  699.,  700.,  701.,\n",
       "        702.,  703.,  704.,  705.,  706.,  707.,  708.,  709.,  710.,\n",
       "        711.,  712.,  713.,  714.,  715.,  716.,  717.,  718.,  719.,\n",
       "        720.,  721.,  722.,  723.,  724.,  725.,  726.,  727.,  728.,\n",
       "        729.,  730.,  731.,  732.,  733.,  734.,  735.,  736.,  737.,\n",
       "        738.,  739.,  740.,  741.,  742.,  743.,  744.,  745.,  746.,\n",
       "        747.,  748.,  749.,  750.,  751.,  752.,  753.,  754.,  755.,\n",
       "        756.,  757.,  758.,  759.,  760.,  761.,  762.,  763.,  764.,\n",
       "        765.,  766.,  767.,  768.,  769.,  770.,  771.,  772.,  773.,\n",
       "        774.,  775.,  776.,  777.,  778.,  779.,  780.,  781.,  782.,\n",
       "        783.,  784.,  785.,  786.,  787.,  788.,  789.,  790.,  791.,\n",
       "        792.,  793.,  794.,  795.,  796.,  797.,  798.,  799.,  800.,\n",
       "        801.,  802.,  803.,  804.,  805.,  806.,  807.,  808.,  809.,\n",
       "        810.,  811.,  812.,  813.,  814.,  815.,  816.,  817.,  818.,\n",
       "        819.,  820.,  821.,  822.,  823.,  824.,  825.,  826.,  827.,\n",
       "        828.,  829.,  830.,  831.,  832.,  833.,  834.,  835.,  836.,\n",
       "        837.,  838.,  839.,  840.,  841.,  842.,  843.,  844.,  845.,\n",
       "        846.,  847.,  848.,  849.,  850.,  851.,  852.,  853.,  854.,\n",
       "        855.,  856.,  857.,  858.,  859.,  860.,  861.,  862.,  863.,\n",
       "        864.,  865.,  866.,  867.,  868.,  869.,  870.,  871.,  872.,\n",
       "        873.,  874.,  875.,  876.,  877.,  878.,  879.,  880.,  881.,\n",
       "        882.,  883.,  884.,  885.,  886.,  887.,  888.,  889.,  890.,\n",
       "        891.,  892.,  893.,  894.,  895.,  896.,  897.,  898.,  899.,\n",
       "        900.,  901.,  902.,  903.,  904.,  905.,  906.,  907.,  908.,\n",
       "        909.,  910.,  911.,  912.,  913.,  914.,  915.,  916.,  917.,\n",
       "        918.,  919.,  920.,  921.,  922.,  923.,  924.,  925.,  926.,\n",
       "        927.,  928.,  929.,  930.,  931.,  932.,  933.,  934.,  935.,\n",
       "        936.,  937.,  938.,  939.,  940.,  941.,  942.,  943.,  944.,\n",
       "        945.,  946.,  947.,  948.,  949.,  950.,  951.,  952.,  953.,\n",
       "        954.,  955.,  956.,  957.,  958.,  959.,  960.,  961.,  962.,\n",
       "        963.,  964.,  965.,  966.,  967.,  968.,  969.,  970.,  971.,\n",
       "        972.,  973.,  974.,  975.,  976.,  977.,  978.,  979.,  980.,\n",
       "        981.,  982.,  983.,  984.,  985.,  986.,  987.,  988.,  989.,  990.])"
      ]
     },
     "execution_count": 8,
     "metadata": {},
     "output_type": "execute_result"
    }
   ],
   "source": [
    "np.arange(0, max(basic.grid.node_x + 1.0), 1.0)"
   ]
  },
  {
   "cell_type": "code",
   "execution_count": 9,
   "metadata": {},
   "outputs": [
    {
     "data": {
      "text/plain": [
       "[<matplotlib.lines.Line2D at 0x10f406c90>]"
      ]
     },
     "execution_count": 9,
     "metadata": {},
     "output_type": "execute_result"
    },
    {
     "data": {
      "image/png": "[encoded data removed]",
      "text/plain": [
       "<matplotlib.figure.Figure at 0x10f406d50>"
      ]
     },
     "metadata": {},
     "output_type": "display_data"
    }
   ],
   "source": [
    "x = np.arange(-max(domain)/2., max(domain)/2. + 10., 10.)\n",
    "steady_domain = np.arange(-max(domain)/2., max(domain)/2. + 10., 10.)\n",
    "\n",
    "steady_H = -soil_production_decay_depth*np.log(uplift_rate/max_soil_production_rate)\n",
    "steady_z_profile_firsthalf = (steady_domain[0:len(domain)/2])**2*uplift_rate/(linear_diffusivity*2*(1-np.exp(-steady_H/soil_transport_decay_depth)))-(uplift_rate*(ncols/2)**2)/(2*linear_diffusivity*(1-np.exp(-steady_H/soil_transport_decay_depth)))\n",
    "steady_z_profile_secondhalf = -(steady_domain[len(domain)/2:])**2*uplift_rate/(linear_diffusivity*2*(1-np.exp(-steady_H/soil_transport_decay_depth)))+(uplift_rate*(ncols/2)**2)/(2*linear_diffusivity*(1-np.exp(-steady_H/soil_transport_decay_depth)))\n",
    "\n",
    "\n",
    "\n",
    "steady_z_profile = np.append([-steady_z_profile_firsthalf],[steady_z_profile_secondhalf])\n",
    "steady_z_profile = steady_z_profile - np.min(steady_z_profile)\n",
    "\n",
    "#steady_domain = np.append([-domain[len(domain)/2:0]],[domain[0:len(domain)/2]])\n",
    "\n",
    "%matplotlib inline\n",
    "plt.plot(steady_domain, topo_profile)\n",
    "plt.plot(steady_domain,steady_z_profile)"
   ]
  },
  {
   "cell_type": "code",
   "execution_count": 10,
   "metadata": {},
   "outputs": [
    {
     "data": {
      "text/plain": [
       "0.13862943611198905"
      ]
     },
     "execution_count": 10,
     "metadata": {},
     "output_type": "execute_result"
    }
   ],
   "source": [
    "steady_H"
   ]
  },
  {
   "cell_type": "code",
   "execution_count": 18,
   "metadata": {},
   "outputs": [
    {
     "data": {
      "image/png": "[encoded data removed]",
      "text/plain": [
       "<matplotlib.figure.Figure at 0x10f21a050>"
      ]
     },
     "metadata": {},
     "output_type": "display_data"
    }
   ],
   "source": [
    "import matplotlib\n",
    "from matplotlib import ticker\n",
    "#plotting param\n",
    "matplotlib.rcParams.update({'font.size': 20})\n",
    "\n",
    "\n",
    "##instantiate figure and plot\n",
    "fig = plt.figure(figsize=(6, 3.75))\n",
    "hillslope = plt.subplot()\n",
    "\n",
    "#plotting param\n",
    "matplotlib.rcParams.update({'font.size': 20})\n",
    "\n",
    "#parameters\n",
    "uplift_rate = 0.0005\n",
    "hillslope_diffusivity = 1.0\n",
    "\n",
    "#plot the actual profile\n",
    "domain = np.arange(0, max(basic.grid.node_x + dx), dx)\n",
    "x = np.arange(-max(domain) / 2., max(domain) / 2. + dx, dx)\n",
    "\n",
    "hillslope.plot(domain/1000 , topo_profile, marker='o', c='k', linewidth = 0, markerfacecolor='None', label = 'Numerical Solution')\n",
    "\n",
    "#plot the theoretical profile\n",
    "\n",
    "plt.plot((x + max(x)) / 1000, steady_z_profile , linestyle='-', c='grey', linewidth = 2, label = 'Analytical Solution')\n",
    "\n",
    "#axis labels\n",
    "hillslope.set_xlabel('Distance [km]')\n",
    "hillslope.set_ylabel('Elevation [m]')\n",
    "\n",
    "#legend\n",
    "hillslope.legend(scatterpoints = 1, prop={'size':12})\n",
    "\n",
    "#save figure\n",
    "fig.savefig('depth_dependent_topo.eps',bbox_inches='tight', dpi=300)\n"
   ]
  },
  {
   "cell_type": "code",
   "execution_count": 16,
   "metadata": {},
   "outputs": [
    {
     "data": {
      "text/plain": [
       "array([   0.,   10.,   20.,   30.,   40.,   50.,   60.,   70.,   80.,\n",
       "         90.,  100.,  110.,  120.,  130.,  140.,  150.,  160.,  170.,\n",
       "        180.,  190.,  200.,  210.,  220.,  230.,  240.,  250.,  260.,\n",
       "        270.,  280.,  290.,  300.,  310.,  320.,  330.,  340.,  350.,\n",
       "        360.,  370.,  380.,  390.,  400.,  410.,  420.,  430.,  440.,\n",
       "        450.,  460.,  470.,  480.,  490.,  500.,  510.,  520.,  530.,\n",
       "        540.,  550.,  560.,  570.,  580.,  590.,  600.,  610.,  620.,\n",
       "        630.,  640.,  650.,  660.,  670.,  680.,  690.,  700.,  710.,\n",
       "        720.,  730.,  740.,  750.,  760.,  770.,  780.,  790.,  800.,\n",
       "        810.,  820.,  830.,  840.,  850.,  860.,  870.,  880.,  890.,\n",
       "        900.,  910.,  920.,  930.,  940.,  950.,  960.,  970.,  980.,  990.])"
      ]
     },
     "execution_count": 16,
     "metadata": {},
     "output_type": "execute_result"
    }
   ],
   "source": [
    "domain"
   ]
  },
  {
   "cell_type": "code",
   "execution_count": null,
   "metadata": {},
   "outputs": [],
   "source": []
  }
 ],
 "metadata": {
  "kernelspec": {
   "display_name": "Python 2",
   "language": "python",
   "name": "python2"
  },
  "language_info": {
   "codemirror_mode": {
    "name": "ipython",
    "version": 2
   },
   "file_extension": ".py",
   "mimetype": "text/x-python",
   "name": "python",
   "nbconvert_exporter": "python",
   "pygments_lexer": "ipython2",
   "version": "2.7.14"
  }
 },
 "nbformat": 4,
 "nbformat_minor": 2
}
