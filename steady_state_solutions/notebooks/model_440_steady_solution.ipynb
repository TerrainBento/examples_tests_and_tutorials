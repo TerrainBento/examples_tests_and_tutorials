{
 "cells": [
  {
   "cell_type": "code",
   "execution_count": 1,
   "metadata": {},
   "outputs": [],
   "source": [
    "import numpy as np\n",
    "from terrainbento import BasicChSa\n",
    "import matplotlib.pyplot as plt\n",
    "from landlab import imshow_grid"
   ]
  },
  {
   "cell_type": "code",
   "execution_count": 2,
   "metadata": {},
   "outputs": [],
   "source": [
    "linear_diffusivity = 1.0\n",
    "slope_crit = 0.3\n",
    "nterms = 11\n",
    "uplift_rate = 0.0005\n",
    "node_spacing = 10.0\n",
    "max_soil_production_rate = 1e-3\n",
    "soil_production_decay_depth = 0.2\n",
    "soil_transport_decay_depth = 0.2\n",
    "h_star = 0.1\n",
    "p = np.zeros(2*nterms-1)\n",
    "dt = 1.0"
   ]
  },
  {
   "cell_type": "markdown",
   "metadata": {},
   "source": [
    "Let's say the nodes are numbered from 0 to 100, 50 being the top of the hillslope. That means the flux at node 90 needs to be able to transport all of the material from the crest to its own node (we use the second penultimate node to avoid boundary complications). Since node spacing is 10.0, this means that the flux at the last node should be: "
   ]
  },
  {
   "cell_type": "code",
   "execution_count": 3,
   "metadata": {},
   "outputs": [],
   "source": [
    "#x = (99-50)*10 + 5\n",
    "x = 490\n",
    "qs = uplift_rate*x"
   ]
  },
  {
   "cell_type": "code",
   "execution_count": 4,
   "metadata": {},
   "outputs": [
    {
     "data": {
      "text/plain": [
       "0.245"
      ]
     },
     "execution_count": 4,
     "metadata": {},
     "output_type": "execute_result"
    }
   ],
   "source": [
    "qs"
   ]
  },
  {
   "cell_type": "markdown",
   "metadata": {},
   "source": [
    "Since this is a depth-dependent model, we can calculate the expected soil depth for a given uplift rate:"
   ]
  },
  {
   "cell_type": "code",
   "execution_count": 5,
   "metadata": {},
   "outputs": [
    {
     "data": {
      "text/plain": [
       "0.13862943611198905"
      ]
     },
     "execution_count": 5,
     "metadata": {},
     "output_type": "execute_result"
    }
   ],
   "source": [
    "steady_H = -soil_production_decay_depth*np.log(uplift_rate/max_soil_production_rate)\n",
    "steady_H"
   ]
  },
  {
   "cell_type": "markdown",
   "metadata": {},
   "source": [
    "Since $qs = KS(1+(\\frac{S}{Sc})^2 +...+ \\frac{S}{Sc}^{2(n-1)})$, we can bring qs to the right side of the equation and get $ 0 = -qs + KS*(1-e^{-H/h*})*(1+(\\frac{S}{Sc})^2 +...+ \\frac{S}{Sc}^{2(n-1)})$. We need to define the coefficients of the polynomial. First looking at the higher order terms:"
   ]
  },
  {
   "cell_type": "code",
   "execution_count": 6,
   "metadata": {},
   "outputs": [],
   "source": [
    "for i in range(1,nterms+1):\n",
    "      p[2*i-2] = linear_diffusivity*(1-np.exp(-steady_H/soil_transport_decay_depth))*(1/(slope_crit**(2*(i-1))))"
   ]
  },
  {
   "cell_type": "code",
   "execution_count": 7,
   "metadata": {},
   "outputs": [],
   "source": [
    "p = np.fliplr([p])[0]"
   ]
  },
  {
   "cell_type": "code",
   "execution_count": 8,
   "metadata": {},
   "outputs": [
    {
     "data": {
      "text/plain": [
       "array([  1.43398600e+10,   0.00000000e+00,   1.29058740e+09,\n",
       "         0.00000000e+00,   1.16152866e+08,   0.00000000e+00,\n",
       "         1.04537579e+07,   0.00000000e+00,   9.40838212e+05,\n",
       "         0.00000000e+00,   8.46754390e+04,   0.00000000e+00,\n",
       "         7.62078951e+03,   0.00000000e+00,   6.85871056e+02,\n",
       "         0.00000000e+00,   6.17283951e+01,   0.00000000e+00,\n",
       "         5.55555556e+00,   0.00000000e+00,   5.00000000e-01])"
      ]
     },
     "execution_count": 8,
     "metadata": {},
     "output_type": "execute_result"
    }
   ],
   "source": [
    "p"
   ]
  },
  {
   "cell_type": "code",
   "execution_count": 9,
   "metadata": {},
   "outputs": [],
   "source": [
    "p = np.append(p,qs)"
   ]
  },
  {
   "cell_type": "code",
   "execution_count": 10,
   "metadata": {},
   "outputs": [
    {
     "data": {
      "text/plain": [
       "array([ 0.29354301+0.07608549j,  0.29354301-0.07608549j,\n",
       "        0.26740488+0.15421134j,  0.26740488-0.15421134j,\n",
       "        0.21750160+0.22489098j,  0.21750160-0.22489098j,\n",
       "        0.14731595+0.27903263j,  0.14731595-0.27903263j,\n",
       "        0.06325132+0.31056136j,  0.06325132-0.31056136j,\n",
       "       -0.02697138+0.31607306j, -0.02697138-0.31607306j,\n",
       "       -0.11508529+0.29473901j, -0.11508529-0.29473901j,\n",
       "       -0.19296338+0.2482119j , -0.19296338-0.2482119j ,\n",
       "       -0.25323462+0.18032674j, -0.25323462-0.18032674j,\n",
       "       -0.28976641+0.09627099j, -0.28976641-0.09627099j, -0.22199136+0.j        ])"
      ]
     },
     "execution_count": 10,
     "metadata": {},
     "output_type": "execute_result"
    }
   ],
   "source": [
    "p_roots = np.roots(p)\n",
    "p_roots"
   ]
  },
  {
   "cell_type": "code",
   "execution_count": 11,
   "metadata": {},
   "outputs": [
    {
     "name": "stdout",
     "output_type": "stream",
     "text": [
      "-0.221991362829\n"
     ]
    }
   ],
   "source": [
    "steady_S = np.real(p_roots[-1])\n",
    "print(steady_S)"
   ]
  },
  {
   "cell_type": "code",
   "execution_count": 12,
   "metadata": {},
   "outputs": [
    {
     "name": "stdout",
     "output_type": "stream",
     "text": [
      "0.221991362829\n"
     ]
    }
   ],
   "source": [
    "steady_S = abs(steady_S)\n",
    "print(steady_S)"
   ]
  },
  {
   "cell_type": "markdown",
   "metadata": {},
   "source": [
    "Now run the erosion model and test against this steady state prediction. "
   ]
  },
  {
   "cell_type": "code",
   "execution_count": 13,
   "metadata": {},
   "outputs": [],
   "source": [
    "#parameter dictionary\n",
    "params = {'number_of_node_rows' : 10,\n",
    "         'number_of_node_columns' : 100,\n",
    "         'node_spacing' : 10.0,\n",
    "         'east_boundary_closed' : False,\n",
    "         'north_boundary_closed' : True,\n",
    "         'west_boundary_closed' : False,\n",
    "         'south_boundary_closed' :True,\n",
    "         'dt' : dt,\n",
    "         'K_sp' : 0,\n",
    "         'm_sp' : 0.5,\n",
    "         'n_sp' : 1.0,\n",
    "         'linear_diffusivity' : linear_diffusivity,\n",
    "         'slope_crit' : slope_crit,\n",
    "         'max_soil_production_rate' : max_soil_production_rate,\n",
    "         'soil_production_decay_depth' : soil_production_decay_depth,\n",
    "         'soil_transport_decay_depth' : soil_transport_decay_depth,\n",
    "         'outlet_lowering_rate' : uplift_rate,\n",
    "         'initial_soil_thickness' : 0.0,\n",
    "         'output_filename': 'model_040_output',}"
   ]
  },
  {
   "cell_type": "code",
   "execution_count": 14,
   "metadata": {},
   "outputs": [],
   "source": [
    "basic = BasicChSa(params=params)\n",
    "tolerance = 0.000001\n",
    "\n"
   ]
  },
  {
   "cell_type": "code",
   "execution_count": 15,
   "metadata": {},
   "outputs": [
    {
     "name": "stdout",
     "output_type": "stream",
     "text": [
      "0\n",
      "0.0005\n",
      "10000.0\n",
      "0.000499841559099\n",
      "20000.0\n",
      "0.00049051719067\n",
      "30000.0\n",
      "0.0004708919243\n",
      "40000.0\n",
      "0.000447430444375\n",
      "50000.0\n",
      "0.000422525964158\n",
      "60000.0\n",
      "0.000397226289213\n",
      "70000.0\n",
      "0.000372393048551\n",
      "80000.0\n",
      "0.000348265107405\n",
      "90000.0\n",
      "0.000324925544248\n",
      "100000.0\n",
      "0.000302409135465\n",
      "110000.0\n",
      "0.000280735223058\n",
      "120000.0\n",
      "0.000259921830782\n",
      "130000.0\n",
      "0.000239990144124\n",
      "140000.0\n",
      "0.000220964342006\n",
      "150000.0\n",
      "0.000202869407438\n",
      "160000.0\n",
      "0.000185728322812\n",
      "170000.0\n",
      "0.000169559407802\n",
      "180000.0\n",
      "0.000154374189137\n",
      "190000.0\n",
      "0.000140175967097\n",
      "200000.0\n",
      "0.000126959102097\n",
      "210000.0\n",
      "0.000114708956914\n",
      "220000.0\n",
      "0.00010340238002\n",
      "230000.0\n",
      "9.30085938222e-05\n",
      "240000.0\n",
      "8.34903502636e-05\n",
      "250000.0\n",
      "7.48052283939e-05\n",
      "260000.0\n",
      "6.69069687973e-05\n",
      "270000.0\n",
      "5.97467630996e-05\n",
      "280000.0\n",
      "5.32744406883e-05\n",
      "290000.0\n",
      "4.74395152139e-05\n",
      "300000.0\n",
      "4.21920723142e-05\n",
      "310000.0\n",
      "3.74834930454e-05\n",
      "320000.0\n",
      "3.3267018722e-05\n",
      "330000.0\n",
      "2.94981690416e-05\n",
      "340000.0\n",
      "2.61350301258e-05\n",
      "350000.0\n",
      "2.31384307909e-05\n",
      "360000.0\n",
      "2.04720257386e-05\n",
      "370000.0\n",
      "1.8102303784e-05\n",
      "380000.0\n",
      "1.59985374211e-05\n",
      "390000.0\n",
      "1.41326882641e-05\n",
      "400000.0\n",
      "1.24792811533e-05\n",
      "410000.0\n",
      "1.10152568027e-05\n",
      "420000.0\n",
      "9.71981194198e-06\n",
      "430000.0\n",
      "8.57423343348e-06\n",
      "440000.0\n",
      "7.56173169236e-06\n",
      "450000.0\n",
      "6.66727706289e-06\n",
      "460000.0\n",
      "5.8774424474e-06\n",
      "470000.0\n",
      "5.18025346707e-06\n",
      "480000.0\n",
      "4.56504801605e-06\n",
      "490000.0\n",
      "4.02234542207e-06\n",
      "500000.0\n",
      "3.54372573952e-06\n",
      "510000.0\n",
      "3.12171906103e-06\n",
      "520000.0\n",
      "2.7497045636e-06\n",
      "530000.0\n",
      "2.42181879173e-06\n",
      "540000.0\n",
      "2.13287286499e-06\n",
      "550000.0\n",
      "1.87827779996e-06\n",
      "560000.0\n",
      "1.65397746343e-06\n",
      "570000.0\n",
      "1.45638844629e-06\n",
      "580000.0\n",
      "1.28234646013e-06\n",
      "590000.0\n",
      "1.12905824778e-06\n"
     ]
    }
   ],
   "source": [
    "elapsed_time = 0\n",
    "keep_running = True\n",
    "while keep_running == True:\n",
    "    \n",
    "    pre_topo = basic.grid.at_node['topographic__elevation'][basic.grid.core_nodes]\n",
    "   \n",
    "    basic.run_one_step(dt)\n",
    "    \n",
    "    #slope1 = basic.grid.at_node['topographic__steepest_slope'][101]\n",
    "    #slope2 = basic.grid.at_node['topographic__steepest_slope'][189]\n",
    "    \n",
    "    post_topo = basic.grid.at_node['topographic__elevation'][basic.grid.core_nodes]\n",
    "    \n",
    "      \n",
    "    if elapsed_time % 10000 == 0:\n",
    "        print(elapsed_time)\n",
    "        #print slope1-steady_S\n",
    "        #print basic.grid.at_node['soil__depth'][189]\n",
    "        #print basic.grid.at_node['soil__depth'][15]\n",
    "        print(max(abs(pre_topo - post_topo)))\n",
    "    elapsed_time += dt\n",
    "    \n",
    "    #if abs((slope1-steady_S)) <= tolerance and abs((slope2-steady_S)) <= tolerance:\n",
    "     #   keep_running = False\n",
    "    if max(abs(pre_topo - post_topo)) <= tolerance: \n",
    "        keep_running = False"
   ]
  },
  {
   "cell_type": "markdown",
   "metadata": {},
   "source": [
    "Check that slopes at edges match expectation"
   ]
  },
  {
   "cell_type": "code",
   "execution_count": 32,
   "metadata": {},
   "outputs": [
    {
     "data": {
      "text/plain": [
       "-0.014156513671079896"
      ]
     },
     "execution_count": 32,
     "metadata": {},
     "output_type": "execute_result"
    }
   ],
   "source": [
    "slope1 = basic.grid.at_node['topographic__steepest_slope'][101]\n",
    "slope2 = basic.grid.at_node['topographic__steepest_slope'][189]\n",
    "\n",
    "slope1 - steady_S\n",
    "slope2 - steady_S"
   ]
  },
  {
   "cell_type": "code",
   "execution_count": 17,
   "metadata": {},
   "outputs": [
    {
     "data": {
      "image/png": "[encoded data removed]",
      "text/plain": [
       "<matplotlib.figure.Figure at 0x1c1839c250>"
      ]
     },
     "metadata": {},
     "output_type": "display_data"
    }
   ],
   "source": [
    "%matplotlib inline\n",
    "imshow_grid(basic.grid, 'topographic__elevation')"
   ]
  },
  {
   "cell_type": "code",
   "execution_count": 18,
   "metadata": {},
   "outputs": [
    {
     "data": {
      "text/plain": [
       "0.22193476471006895"
      ]
     },
     "execution_count": 18,
     "metadata": {},
     "output_type": "execute_result"
    }
   ],
   "source": [
    "slope1"
   ]
  },
  {
   "cell_type": "code",
   "execution_count": 19,
   "metadata": {},
   "outputs": [
    {
     "data": {
      "image/png": "[encoded data removed]",
      "text/plain": [
       "<matplotlib.figure.Figure at 0x1c1843e9d0>"
      ]
     },
     "metadata": {},
     "output_type": "display_data"
    }
   ],
   "source": [
    "%matplotlib inline\n",
    "imshow_grid(basic.grid, 'topographic__elevation')"
   ]
  },
  {
   "cell_type": "code",
   "execution_count": 20,
   "metadata": {},
   "outputs": [
    {
     "data": {
      "text/plain": [
       "100"
      ]
     },
     "execution_count": 20,
     "metadata": {},
     "output_type": "execute_result"
    },
    {
     "data": {
      "image/png": "[encoded data removed]",
      "text/plain": [
       "<matplotlib.figure.Figure at 0x1c18779d10>"
      ]
     },
     "metadata": {},
     "output_type": "display_data"
    }
   ],
   "source": [
    "topo_profile = basic.grid.at_node['topographic__elevation'][basic.grid.node_y == 10] + uplift_rate*elapsed_time\n",
    "domain = np.arange(0, max(basic.grid.node_x + 10.0), 10.0)\n",
    "plt.plot(domain,topo_profile)\n",
    "len(topo_profile)"
   ]
  },
  {
   "cell_type": "code",
   "execution_count": 28,
   "metadata": {},
   "outputs": [
    {
     "data": {
      "text/plain": [
       "array([ 0.        ,  0.        ,  0.        ,  0.        ,  0.        ,\n",
       "        0.        ,  0.        ,  0.        ,  0.        ,  0.        ,\n",
       "        0.        ,  0.        ,  0.        ,  0.        ,  0.        ,\n",
       "        0.        ,  0.        ,  0.        ,  0.        ,  0.        ,\n",
       "        0.        ,  0.        ,  0.        ,  0.        ,  0.        ,\n",
       "        0.        ,  0.        ,  0.        ,  0.        ,  0.        ,\n",
       "        0.        ,  0.        ,  0.        ,  0.        ,  0.        ,\n",
       "        0.        ,  0.        ,  0.        ,  0.        ,  0.        ,\n",
       "        0.        ,  0.        ,  0.        ,  0.        ,  0.        ,\n",
       "        0.        ,  0.        ,  0.        ,  0.        ,  0.        ,\n",
       "        0.        ,  0.        ,  0.        ,  0.        ,  0.        ,\n",
       "        0.        ,  0.        ,  0.        ,  0.        ,  0.        ,\n",
       "        0.        ,  0.        ,  0.        ,  0.        ,  0.        ,\n",
       "        0.        ,  0.        ,  0.        ,  0.        ,  0.        ,\n",
       "        0.        ,  0.        ,  0.        ,  0.        ,  0.        ,\n",
       "        0.        ,  0.        ,  0.        ,  0.        ,  0.        ,\n",
       "        0.        ,  0.        ,  0.        ,  0.        ,  0.        ,\n",
       "        0.        ,  0.        ,  0.        ,  0.        ,  0.        ,\n",
       "        0.        ,  0.        ,  0.        ,  0.        ,  0.        ,\n",
       "        0.        ,  0.        ,  0.        ,  0.        ,  0.        ,\n",
       "        0.        ,  0.22193476,  0.2205741 ,  0.21916802,  0.21771415,\n",
       "        0.21621   ,  0.2146529 ,  0.21303998,  0.21136821,  0.20963432,\n",
       "        0.20783485,  0.20596607,  0.204024  ,  0.20200438,  0.19990264,\n",
       "        0.1977139 ,  0.1954329 ,  0.19305402,  0.19057122,  0.18797803,\n",
       "        0.18526749,  0.18243215,  0.179464  ,  0.17635447,  0.17309436,\n",
       "        0.16967386,  0.16608245,  0.16230893,  0.15834141,  0.15416728,\n",
       "        0.14977325,  0.1451454 ,  0.14026923,  0.13512987,  0.12971215,\n",
       "        0.12400097,  0.11798159,  0.1116401 ,  0.10496402,  0.09794301,\n",
       "        0.09056973,  0.08284086,  0.07475816,  0.06632964,  0.05757064,\n",
       "        0.04850471,  0.03916425,  0.02959053,  0.0198332 ,  0.00994902,\n",
       "        0.00994902,  0.0198332 ,  0.02959053,  0.03916425,  0.04850471,\n",
       "        0.05757064,  0.06632964,  0.07475816,  0.08284086,  0.09056973,\n",
       "        0.09794301,  0.10496402,  0.1116401 ,  0.11798159,  0.12400097,\n",
       "        0.12971215,  0.13512987,  0.14026923,  0.1451454 ,  0.14977325,\n",
       "        0.15416728,  0.15834141,  0.16230893,  0.16608245,  0.16967386,\n",
       "        0.17309436,  0.17635447,  0.179464  ,  0.18243215,  0.18526749,\n",
       "        0.18797803,  0.19057122,  0.19305402,  0.1954329 ,  0.1977139 ,\n",
       "        0.19990264,  0.20200438,  0.204024  ,  0.20596607,  0.20783485,\n",
       "        0.20963432,  0.21136821,  0.21303998,  0.2146529 ,  0.21621   ,\n",
       "        0.21771415,  0.21916802,  0.2205741 ,  0.22193476,  0.        ,\n",
       "        0.        ,  0.22193476,  0.2205741 ,  0.21916802,  0.21771415,\n",
       "        0.21621   ,  0.2146529 ,  0.21303998,  0.21136821,  0.20963432,\n",
       "        0.20783485,  0.20596607,  0.204024  ,  0.20200438,  0.19990264,\n",
       "        0.1977139 ,  0.1954329 ,  0.19305402,  0.19057122,  0.18797803,\n",
       "        0.18526749,  0.18243215,  0.179464  ,  0.17635447,  0.17309436,\n",
       "        0.16967386,  0.16608245,  0.16230893,  0.15834141,  0.15416728,\n",
       "        0.14977325,  0.1451454 ,  0.14026923,  0.13512987,  0.12971215,\n",
       "        0.12400097,  0.11798159,  0.1116401 ,  0.10496402,  0.09794301,\n",
       "        0.09056973,  0.08284086,  0.07475816,  0.06632964,  0.05757064,\n",
       "        0.04850471,  0.03916425,  0.02959053,  0.0198332 ,  0.00994902,\n",
       "        0.00994902,  0.0198332 ,  0.02959053,  0.03916425,  0.04850471,\n",
       "        0.05757064,  0.06632964,  0.07475816,  0.08284086,  0.09056973,\n",
       "        0.09794301,  0.10496402,  0.1116401 ,  0.11798159,  0.12400097,\n",
       "        0.12971215,  0.13512987,  0.14026923,  0.1451454 ,  0.14977325,\n",
       "        0.15416728,  0.15834141,  0.16230893,  0.16608245,  0.16967386,\n",
       "        0.17309436,  0.17635447,  0.179464  ,  0.18243215,  0.18526749,\n",
       "        0.18797803,  0.19057122,  0.19305402,  0.1954329 ,  0.1977139 ,\n",
       "        0.19990264,  0.20200438,  0.204024  ,  0.20596607,  0.20783485,\n",
       "        0.20963432,  0.21136821,  0.21303998,  0.2146529 ,  0.21621   ,\n",
       "        0.21771415,  0.21916802,  0.2205741 ,  0.22193476,  0.        ,\n",
       "        0.        ,  0.22193476,  0.2205741 ,  0.21916802,  0.21771415,\n",
       "        0.21621   ,  0.2146529 ,  0.21303998,  0.21136821,  0.20963432,\n",
       "        0.20783485,  0.20596607,  0.204024  ,  0.20200438,  0.19990264,\n",
       "        0.1977139 ,  0.1954329 ,  0.19305402,  0.19057122,  0.18797803,\n",
       "        0.18526749,  0.18243215,  0.179464  ,  0.17635447,  0.17309436,\n",
       "        0.16967386,  0.16608245,  0.16230893,  0.15834141,  0.15416728,\n",
       "        0.14977325,  0.1451454 ,  0.14026923,  0.13512987,  0.12971215,\n",
       "        0.12400097,  0.11798159,  0.1116401 ,  0.10496402,  0.09794301,\n",
       "        0.09056973,  0.08284086,  0.07475816,  0.06632964,  0.05757064,\n",
       "        0.04850471,  0.03916425,  0.02959053,  0.0198332 ,  0.00994902,\n",
       "        0.00994902,  0.0198332 ,  0.02959053,  0.03916425,  0.04850471,\n",
       "        0.05757064,  0.06632964,  0.07475816,  0.08284086,  0.09056973,\n",
       "        0.09794301,  0.10496402,  0.1116401 ,  0.11798159,  0.12400097,\n",
       "        0.12971215,  0.13512987,  0.14026923,  0.1451454 ,  0.14977325,\n",
       "        0.15416728,  0.15834141,  0.16230893,  0.16608245,  0.16967386,\n",
       "        0.17309436,  0.17635447,  0.179464  ,  0.18243215,  0.18526749,\n",
       "        0.18797803,  0.19057122,  0.19305402,  0.1954329 ,  0.1977139 ,\n",
       "        0.19990264,  0.20200438,  0.204024  ,  0.20596607,  0.20783485,\n",
       "        0.20963432,  0.21136821,  0.21303998,  0.2146529 ,  0.21621   ,\n",
       "        0.21771415,  0.21916802,  0.2205741 ,  0.22193476,  0.        ,\n",
       "        0.        ,  0.22193476,  0.2205741 ,  0.21916802,  0.21771415,\n",
       "        0.21621   ,  0.2146529 ,  0.21303998,  0.21136821,  0.20963432,\n",
       "        0.20783485,  0.20596607,  0.204024  ,  0.20200438,  0.19990264,\n",
       "        0.1977139 ,  0.1954329 ,  0.19305402,  0.19057122,  0.18797803,\n",
       "        0.18526749,  0.18243215,  0.179464  ,  0.17635447,  0.17309436,\n",
       "        0.16967386,  0.16608245,  0.16230893,  0.15834141,  0.15416728,\n",
       "        0.14977325,  0.1451454 ,  0.14026923,  0.13512987,  0.12971215,\n",
       "        0.12400097,  0.11798159,  0.1116401 ,  0.10496402,  0.09794301,\n",
       "        0.09056973,  0.08284086,  0.07475816,  0.06632964,  0.05757064,\n",
       "        0.04850471,  0.03916425,  0.02959053,  0.0198332 ,  0.00994902,\n",
       "        0.00994902,  0.0198332 ,  0.02959053,  0.03916425,  0.04850471,\n",
       "        0.05757064,  0.06632964,  0.07475816,  0.08284086,  0.09056973,\n",
       "        0.09794301,  0.10496402,  0.1116401 ,  0.11798159,  0.12400097,\n",
       "        0.12971215,  0.13512987,  0.14026923,  0.1451454 ,  0.14977325,\n",
       "        0.15416728,  0.15834141,  0.16230893,  0.16608245,  0.16967386,\n",
       "        0.17309436,  0.17635447,  0.179464  ,  0.18243215,  0.18526749,\n",
       "        0.18797803,  0.19057122,  0.19305402,  0.1954329 ,  0.1977139 ,\n",
       "        0.19990264,  0.20200438,  0.204024  ,  0.20596607,  0.20783485,\n",
       "        0.20963432,  0.21136821,  0.21303998,  0.2146529 ,  0.21621   ,\n",
       "        0.21771415,  0.21916802,  0.2205741 ,  0.22193476,  0.        ,\n",
       "        0.        ,  0.22193476,  0.2205741 ,  0.21916802,  0.21771415,\n",
       "        0.21621   ,  0.2146529 ,  0.21303998,  0.21136821,  0.20963432,\n",
       "        0.20783485,  0.20596607,  0.204024  ,  0.20200438,  0.19990264,\n",
       "        0.1977139 ,  0.1954329 ,  0.19305402,  0.19057122,  0.18797803,\n",
       "        0.18526749,  0.18243215,  0.179464  ,  0.17635447,  0.17309436,\n",
       "        0.16967386,  0.16608245,  0.16230893,  0.15834141,  0.15416728,\n",
       "        0.14977325,  0.1451454 ,  0.14026923,  0.13512987,  0.12971215,\n",
       "        0.12400097,  0.11798159,  0.1116401 ,  0.10496402,  0.09794301,\n",
       "        0.09056973,  0.08284086,  0.07475816,  0.06632964,  0.05757064,\n",
       "        0.04850471,  0.03916425,  0.02959053,  0.0198332 ,  0.00994902,\n",
       "        0.00994902,  0.0198332 ,  0.02959053,  0.03916425,  0.04850471,\n",
       "        0.05757064,  0.06632964,  0.07475816,  0.08284086,  0.09056973,\n",
       "        0.09794301,  0.10496402,  0.1116401 ,  0.11798159,  0.12400097,\n",
       "        0.12971215,  0.13512987,  0.14026923,  0.1451454 ,  0.14977325,\n",
       "        0.15416728,  0.15834141,  0.16230893,  0.16608245,  0.16967386,\n",
       "        0.17309436,  0.17635447,  0.179464  ,  0.18243215,  0.18526749,\n",
       "        0.18797803,  0.19057122,  0.19305402,  0.1954329 ,  0.1977139 ,\n",
       "        0.19990264,  0.20200438,  0.204024  ,  0.20596607,  0.20783485,\n",
       "        0.20963432,  0.21136821,  0.21303998,  0.2146529 ,  0.21621   ,\n",
       "        0.21771415,  0.21916802,  0.2205741 ,  0.22193476,  0.        ,\n",
       "        0.        ,  0.22193476,  0.2205741 ,  0.21916802,  0.21771415,\n",
       "        0.21621   ,  0.2146529 ,  0.21303998,  0.21136821,  0.20963432,\n",
       "        0.20783485,  0.20596607,  0.204024  ,  0.20200438,  0.19990264,\n",
       "        0.1977139 ,  0.1954329 ,  0.19305402,  0.19057122,  0.18797803,\n",
       "        0.18526749,  0.18243215,  0.179464  ,  0.17635447,  0.17309436,\n",
       "        0.16967386,  0.16608245,  0.16230893,  0.15834141,  0.15416728,\n",
       "        0.14977325,  0.1451454 ,  0.14026923,  0.13512987,  0.12971215,\n",
       "        0.12400097,  0.11798159,  0.1116401 ,  0.10496402,  0.09794301,\n",
       "        0.09056973,  0.08284086,  0.07475816,  0.06632964,  0.05757064,\n",
       "        0.04850471,  0.03916425,  0.02959053,  0.0198332 ,  0.00994902,\n",
       "        0.00994902,  0.0198332 ,  0.02959053,  0.03916425,  0.04850471,\n",
       "        0.05757064,  0.06632964,  0.07475816,  0.08284086,  0.09056973,\n",
       "        0.09794301,  0.10496402,  0.1116401 ,  0.11798159,  0.12400097,\n",
       "        0.12971215,  0.13512987,  0.14026923,  0.1451454 ,  0.14977325,\n",
       "        0.15416728,  0.15834141,  0.16230893,  0.16608245,  0.16967386,\n",
       "        0.17309436,  0.17635447,  0.179464  ,  0.18243215,  0.18526749,\n",
       "        0.18797803,  0.19057122,  0.19305402,  0.1954329 ,  0.1977139 ,\n",
       "        0.19990264,  0.20200438,  0.204024  ,  0.20596607,  0.20783485,\n",
       "        0.20963432,  0.21136821,  0.21303998,  0.2146529 ,  0.21621   ,\n",
       "        0.21771415,  0.21916802,  0.2205741 ,  0.22193476,  0.        ,\n",
       "        0.        ,  0.22193476,  0.2205741 ,  0.21916802,  0.21771415,\n",
       "        0.21621   ,  0.2146529 ,  0.21303998,  0.21136821,  0.20963432,\n",
       "        0.20783485,  0.20596607,  0.204024  ,  0.20200438,  0.19990264,\n",
       "        0.1977139 ,  0.1954329 ,  0.19305402,  0.19057122,  0.18797803,\n",
       "        0.18526749,  0.18243215,  0.179464  ,  0.17635447,  0.17309436,\n",
       "        0.16967386,  0.16608245,  0.16230893,  0.15834141,  0.15416728,\n",
       "        0.14977325,  0.1451454 ,  0.14026923,  0.13512987,  0.12971215,\n",
       "        0.12400097,  0.11798159,  0.1116401 ,  0.10496402,  0.09794301,\n",
       "        0.09056973,  0.08284086,  0.07475816,  0.06632964,  0.05757064,\n",
       "        0.04850471,  0.03916425,  0.02959053,  0.0198332 ,  0.00994902,\n",
       "        0.00994902,  0.0198332 ,  0.02959053,  0.03916425,  0.04850471,\n",
       "        0.05757064,  0.06632964,  0.07475816,  0.08284086,  0.09056973,\n",
       "        0.09794301,  0.10496402,  0.1116401 ,  0.11798159,  0.12400097,\n",
       "        0.12971215,  0.13512987,  0.14026923,  0.1451454 ,  0.14977325,\n",
       "        0.15416728,  0.15834141,  0.16230893,  0.16608245,  0.16967386,\n",
       "        0.17309436,  0.17635447,  0.179464  ,  0.18243215,  0.18526749,\n",
       "        0.18797803,  0.19057122,  0.19305402,  0.1954329 ,  0.1977139 ,\n",
       "        0.19990264,  0.20200438,  0.204024  ,  0.20596607,  0.20783485,\n",
       "        0.20963432,  0.21136821,  0.21303998,  0.2146529 ,  0.21621   ,\n",
       "        0.21771415,  0.21916802,  0.2205741 ,  0.22193476,  0.        ,\n",
       "        0.        ,  0.22193476,  0.2205741 ,  0.21916802,  0.21771415,\n",
       "        0.21621   ,  0.2146529 ,  0.21303998,  0.21136821,  0.20963432,\n",
       "        0.20783485,  0.20596607,  0.204024  ,  0.20200438,  0.19990264,\n",
       "        0.1977139 ,  0.1954329 ,  0.19305402,  0.19057122,  0.18797803,\n",
       "        0.18526749,  0.18243215,  0.179464  ,  0.17635447,  0.17309436,\n",
       "        0.16967386,  0.16608245,  0.16230893,  0.15834141,  0.15416728,\n",
       "        0.14977325,  0.1451454 ,  0.14026923,  0.13512987,  0.12971215,\n",
       "        0.12400097,  0.11798159,  0.1116401 ,  0.10496402,  0.09794301,\n",
       "        0.09056973,  0.08284086,  0.07475816,  0.06632964,  0.05757064,\n",
       "        0.04850471,  0.03916425,  0.02959053,  0.0198332 ,  0.00994902,\n",
       "        0.00994902,  0.0198332 ,  0.02959053,  0.03916425,  0.04850471,\n",
       "        0.05757064,  0.06632964,  0.07475816,  0.08284086,  0.09056973,\n",
       "        0.09794301,  0.10496402,  0.1116401 ,  0.11798159,  0.12400097,\n",
       "        0.12971215,  0.13512987,  0.14026923,  0.1451454 ,  0.14977325,\n",
       "        0.15416728,  0.15834141,  0.16230893,  0.16608245,  0.16967386,\n",
       "        0.17309436,  0.17635447,  0.179464  ,  0.18243215,  0.18526749,\n",
       "        0.18797803,  0.19057122,  0.19305402,  0.1954329 ,  0.1977139 ,\n",
       "        0.19990264,  0.20200438,  0.204024  ,  0.20596607,  0.20783485,\n",
       "        0.20963432,  0.21136821,  0.21303998,  0.2146529 ,  0.21621   ,\n",
       "        0.21771415,  0.21916802,  0.2205741 ,  0.22193476,  0.        ,\n",
       "        0.        ,  0.        ,  0.        ,  0.        ,  0.        ,\n",
       "        0.        ,  0.        ,  0.        ,  0.        ,  0.        ,\n",
       "        0.        ,  0.        ,  0.        ,  0.        ,  0.        ,\n",
       "        0.        ,  0.        ,  0.        ,  0.        ,  0.        ,\n",
       "        0.        ,  0.        ,  0.        ,  0.        ,  0.        ,\n",
       "        0.        ,  0.        ,  0.        ,  0.        ,  0.        ,\n",
       "        0.        ,  0.        ,  0.        ,  0.        ,  0.        ,\n",
       "        0.        ,  0.        ,  0.        ,  0.        ,  0.        ,\n",
       "        0.        ,  0.        ,  0.        ,  0.        ,  0.        ,\n",
       "        0.        ,  0.        ,  0.        ,  0.        ,  0.        ,\n",
       "        0.        ,  0.        ,  0.        ,  0.        ,  0.        ,\n",
       "        0.        ,  0.        ,  0.        ,  0.        ,  0.        ,\n",
       "        0.        ,  0.        ,  0.        ,  0.        ,  0.        ,\n",
       "        0.        ,  0.        ,  0.        ,  0.        ,  0.        ,\n",
       "        0.        ,  0.        ,  0.        ,  0.        ,  0.        ,\n",
       "        0.        ,  0.        ,  0.        ,  0.        ,  0.        ,\n",
       "        0.        ,  0.        ,  0.        ,  0.        ,  0.        ,\n",
       "        0.        ,  0.        ,  0.        ,  0.        ,  0.        ,\n",
       "        0.        ,  0.        ,  0.        ,  0.        ,  0.        ,\n",
       "        0.        ,  0.        ,  0.        ,  0.        ,  0.        ])"
      ]
     },
     "execution_count": 28,
     "metadata": {},
     "output_type": "execute_result"
    }
   ],
   "source": [
    "basic.grid.at_node['topographic__steepest_slope']"
   ]
  },
  {
   "cell_type": "code",
   "execution_count": 22,
   "metadata": {},
   "outputs": [
    {
     "data": {
      "text/plain": [
       "599534.0"
      ]
     },
     "execution_count": 22,
     "metadata": {},
     "output_type": "execute_result"
    }
   ],
   "source": [
    "elapsed_time"
   ]
  },
  {
   "cell_type": "code",
   "execution_count": 23,
   "metadata": {},
   "outputs": [
    {
     "data": {
      "text/plain": [
       "array([ 0.        ,  0.        ,  0.        ,  0.        ,  0.        ,\n",
       "        0.        ,  0.        ,  0.        ,  0.        ,  0.        ,\n",
       "        0.        ,  0.        ,  0.        ,  0.        ,  0.        ,\n",
       "        0.        ,  0.        ,  0.        ,  0.        ,  0.        ,\n",
       "        0.        ,  0.        ,  0.        ,  0.        ,  0.        ,\n",
       "        0.        ,  0.        ,  0.        ,  0.        ,  0.        ,\n",
       "        0.        ,  0.        ,  0.        ,  0.        ,  0.        ,\n",
       "        0.        ,  0.        ,  0.        ,  0.        ,  0.        ,\n",
       "        0.        ,  0.        ,  0.        ,  0.        ,  0.        ,\n",
       "        0.        ,  0.        ,  0.        ,  0.        ,  0.        ,\n",
       "        0.        ,  0.        ,  0.        ,  0.        ,  0.        ,\n",
       "        0.        ,  0.        ,  0.        ,  0.        ,  0.        ,\n",
       "        0.        ,  0.        ,  0.        ,  0.        ,  0.        ,\n",
       "        0.        ,  0.        ,  0.        ,  0.        ,  0.        ,\n",
       "        0.        ,  0.        ,  0.        ,  0.        ,  0.        ,\n",
       "        0.        ,  0.        ,  0.        ,  0.        ,  0.        ,\n",
       "        0.        ,  0.        ,  0.        ,  0.        ,  0.        ,\n",
       "        0.        ,  0.        ,  0.        ,  0.        ,  0.        ,\n",
       "        0.        ,  0.        ,  0.        ,  0.        ,  0.        ,\n",
       "        0.        ,  0.        ,  0.        ,  0.        ,  0.        ,\n",
       "        0.        ,  0.13863234,  0.13863539,  0.13863859,  0.13864196,\n",
       "        0.13864549,  0.1386492 ,  0.1386531 ,  0.1386572 ,  0.13866151,\n",
       "        0.13866604,  0.1386708 ,  0.1386758 ,  0.13868105,  0.13868658,\n",
       "        0.13869238,  0.13869849,  0.1387049 ,  0.13871164,  0.13871871,\n",
       "        0.13872615,  0.13873395,  0.13874214,  0.13875072,  0.13875972,\n",
       "        0.13876915,  0.13877901,  0.13878931,  0.13880006,  0.13881126,\n",
       "        0.1388229 ,  0.13883497,  0.13884745,  0.13886032,  0.13887354,\n",
       "        0.13888704,  0.13890076,  0.1389146 ,  0.13892847,  0.13894222,\n",
       "        0.1389557 ,  0.13896874,  0.13898114,  0.13899268,  0.13900313,\n",
       "        0.13901228,  0.13901991,  0.13902581,  0.13902984,  0.13903188,\n",
       "        0.13903188,  0.13902984,  0.13902581,  0.13901991,  0.13901228,\n",
       "        0.13900313,  0.13899268,  0.13898114,  0.13896874,  0.1389557 ,\n",
       "        0.13894222,  0.13892847,  0.1389146 ,  0.13890076,  0.13888704,\n",
       "        0.13887354,  0.13886032,  0.13884745,  0.13883497,  0.1388229 ,\n",
       "        0.13881126,  0.13880006,  0.13878931,  0.13877901,  0.13876915,\n",
       "        0.13875972,  0.13875072,  0.13874214,  0.13873395,  0.13872615,\n",
       "        0.13871871,  0.13871164,  0.1387049 ,  0.13869849,  0.13869238,\n",
       "        0.13868658,  0.13868105,  0.1386758 ,  0.1386708 ,  0.13866604,\n",
       "        0.13866151,  0.1386572 ,  0.1386531 ,  0.1386492 ,  0.13864549,\n",
       "        0.13864196,  0.13863859,  0.13863539,  0.13863234,  0.        ,\n",
       "        0.        ,  0.13863234,  0.13863539,  0.13863859,  0.13864196,\n",
       "        0.13864549,  0.1386492 ,  0.1386531 ,  0.1386572 ,  0.13866151,\n",
       "        0.13866604,  0.1386708 ,  0.1386758 ,  0.13868105,  0.13868658,\n",
       "        0.13869238,  0.13869849,  0.1387049 ,  0.13871164,  0.13871871,\n",
       "        0.13872615,  0.13873395,  0.13874214,  0.13875072,  0.13875972,\n",
       "        0.13876915,  0.13877901,  0.13878931,  0.13880006,  0.13881126,\n",
       "        0.1388229 ,  0.13883497,  0.13884745,  0.13886032,  0.13887354,\n",
       "        0.13888704,  0.13890076,  0.1389146 ,  0.13892847,  0.13894222,\n",
       "        0.1389557 ,  0.13896874,  0.13898114,  0.13899268,  0.13900313,\n",
       "        0.13901228,  0.13901991,  0.13902581,  0.13902984,  0.13903188,\n",
       "        0.13903188,  0.13902984,  0.13902581,  0.13901991,  0.13901228,\n",
       "        0.13900313,  0.13899268,  0.13898114,  0.13896874,  0.1389557 ,\n",
       "        0.13894222,  0.13892847,  0.1389146 ,  0.13890076,  0.13888704,\n",
       "        0.13887354,  0.13886032,  0.13884745,  0.13883497,  0.1388229 ,\n",
       "        0.13881126,  0.13880006,  0.13878931,  0.13877901,  0.13876915,\n",
       "        0.13875972,  0.13875072,  0.13874214,  0.13873395,  0.13872615,\n",
       "        0.13871871,  0.13871164,  0.1387049 ,  0.13869849,  0.13869238,\n",
       "        0.13868658,  0.13868105,  0.1386758 ,  0.1386708 ,  0.13866604,\n",
       "        0.13866151,  0.1386572 ,  0.1386531 ,  0.1386492 ,  0.13864549,\n",
       "        0.13864196,  0.13863859,  0.13863539,  0.13863234,  0.        ,\n",
       "        0.        ,  0.13863234,  0.13863539,  0.13863859,  0.13864196,\n",
       "        0.13864549,  0.1386492 ,  0.1386531 ,  0.1386572 ,  0.13866151,\n",
       "        0.13866604,  0.1386708 ,  0.1386758 ,  0.13868105,  0.13868658,\n",
       "        0.13869238,  0.13869849,  0.1387049 ,  0.13871164,  0.13871871,\n",
       "        0.13872615,  0.13873395,  0.13874214,  0.13875072,  0.13875972,\n",
       "        0.13876915,  0.13877901,  0.13878931,  0.13880006,  0.13881126,\n",
       "        0.1388229 ,  0.13883497,  0.13884745,  0.13886032,  0.13887354,\n",
       "        0.13888704,  0.13890076,  0.1389146 ,  0.13892847,  0.13894222,\n",
       "        0.1389557 ,  0.13896874,  0.13898114,  0.13899268,  0.13900313,\n",
       "        0.13901228,  0.13901991,  0.13902581,  0.13902984,  0.13903188,\n",
       "        0.13903188,  0.13902984,  0.13902581,  0.13901991,  0.13901228,\n",
       "        0.13900313,  0.13899268,  0.13898114,  0.13896874,  0.1389557 ,\n",
       "        0.13894222,  0.13892847,  0.1389146 ,  0.13890076,  0.13888704,\n",
       "        0.13887354,  0.13886032,  0.13884745,  0.13883497,  0.1388229 ,\n",
       "        0.13881126,  0.13880006,  0.13878931,  0.13877901,  0.13876915,\n",
       "        0.13875972,  0.13875072,  0.13874214,  0.13873395,  0.13872615,\n",
       "        0.13871871,  0.13871164,  0.1387049 ,  0.13869849,  0.13869238,\n",
       "        0.13868658,  0.13868105,  0.1386758 ,  0.1386708 ,  0.13866604,\n",
       "        0.13866151,  0.1386572 ,  0.1386531 ,  0.1386492 ,  0.13864549,\n",
       "        0.13864196,  0.13863859,  0.13863539,  0.13863234,  0.        ,\n",
       "        0.        ,  0.13863234,  0.13863539,  0.13863859,  0.13864196,\n",
       "        0.13864549,  0.1386492 ,  0.1386531 ,  0.1386572 ,  0.13866151,\n",
       "        0.13866604,  0.1386708 ,  0.1386758 ,  0.13868105,  0.13868658,\n",
       "        0.13869238,  0.13869849,  0.1387049 ,  0.13871164,  0.13871871,\n",
       "        0.13872615,  0.13873395,  0.13874214,  0.13875072,  0.13875972,\n",
       "        0.13876915,  0.13877901,  0.13878931,  0.13880006,  0.13881126,\n",
       "        0.1388229 ,  0.13883497,  0.13884745,  0.13886032,  0.13887354,\n",
       "        0.13888704,  0.13890076,  0.1389146 ,  0.13892847,  0.13894222,\n",
       "        0.1389557 ,  0.13896874,  0.13898114,  0.13899268,  0.13900313,\n",
       "        0.13901228,  0.13901991,  0.13902581,  0.13902984,  0.13903188,\n",
       "        0.13903188,  0.13902984,  0.13902581,  0.13901991,  0.13901228,\n",
       "        0.13900313,  0.13899268,  0.13898114,  0.13896874,  0.1389557 ,\n",
       "        0.13894222,  0.13892847,  0.1389146 ,  0.13890076,  0.13888704,\n",
       "        0.13887354,  0.13886032,  0.13884745,  0.13883497,  0.1388229 ,\n",
       "        0.13881126,  0.13880006,  0.13878931,  0.13877901,  0.13876915,\n",
       "        0.13875972,  0.13875072,  0.13874214,  0.13873395,  0.13872615,\n",
       "        0.13871871,  0.13871164,  0.1387049 ,  0.13869849,  0.13869238,\n",
       "        0.13868658,  0.13868105,  0.1386758 ,  0.1386708 ,  0.13866604,\n",
       "        0.13866151,  0.1386572 ,  0.1386531 ,  0.1386492 ,  0.13864549,\n",
       "        0.13864196,  0.13863859,  0.13863539,  0.13863234,  0.        ,\n",
       "        0.        ,  0.13863234,  0.13863539,  0.13863859,  0.13864196,\n",
       "        0.13864549,  0.1386492 ,  0.1386531 ,  0.1386572 ,  0.13866151,\n",
       "        0.13866604,  0.1386708 ,  0.1386758 ,  0.13868105,  0.13868658,\n",
       "        0.13869238,  0.13869849,  0.1387049 ,  0.13871164,  0.13871871,\n",
       "        0.13872615,  0.13873395,  0.13874214,  0.13875072,  0.13875972,\n",
       "        0.13876915,  0.13877901,  0.13878931,  0.13880006,  0.13881126,\n",
       "        0.1388229 ,  0.13883497,  0.13884745,  0.13886032,  0.13887354,\n",
       "        0.13888704,  0.13890076,  0.1389146 ,  0.13892847,  0.13894222,\n",
       "        0.1389557 ,  0.13896874,  0.13898114,  0.13899268,  0.13900313,\n",
       "        0.13901228,  0.13901991,  0.13902581,  0.13902984,  0.13903188,\n",
       "        0.13903188,  0.13902984,  0.13902581,  0.13901991,  0.13901228,\n",
       "        0.13900313,  0.13899268,  0.13898114,  0.13896874,  0.1389557 ,\n",
       "        0.13894222,  0.13892847,  0.1389146 ,  0.13890076,  0.13888704,\n",
       "        0.13887354,  0.13886032,  0.13884745,  0.13883497,  0.1388229 ,\n",
       "        0.13881126,  0.13880006,  0.13878931,  0.13877901,  0.13876915,\n",
       "        0.13875972,  0.13875072,  0.13874214,  0.13873395,  0.13872615,\n",
       "        0.13871871,  0.13871164,  0.1387049 ,  0.13869849,  0.13869238,\n",
       "        0.13868658,  0.13868105,  0.1386758 ,  0.1386708 ,  0.13866604,\n",
       "        0.13866151,  0.1386572 ,  0.1386531 ,  0.1386492 ,  0.13864549,\n",
       "        0.13864196,  0.13863859,  0.13863539,  0.13863234,  0.        ,\n",
       "        0.        ,  0.13863234,  0.13863539,  0.13863859,  0.13864196,\n",
       "        0.13864549,  0.1386492 ,  0.1386531 ,  0.1386572 ,  0.13866151,\n",
       "        0.13866604,  0.1386708 ,  0.1386758 ,  0.13868105,  0.13868658,\n",
       "        0.13869238,  0.13869849,  0.1387049 ,  0.13871164,  0.13871871,\n",
       "        0.13872615,  0.13873395,  0.13874214,  0.13875072,  0.13875972,\n",
       "        0.13876915,  0.13877901,  0.13878931,  0.13880006,  0.13881126,\n",
       "        0.1388229 ,  0.13883497,  0.13884745,  0.13886032,  0.13887354,\n",
       "        0.13888704,  0.13890076,  0.1389146 ,  0.13892847,  0.13894222,\n",
       "        0.1389557 ,  0.13896874,  0.13898114,  0.13899268,  0.13900313,\n",
       "        0.13901228,  0.13901991,  0.13902581,  0.13902984,  0.13903188,\n",
       "        0.13903188,  0.13902984,  0.13902581,  0.13901991,  0.13901228,\n",
       "        0.13900313,  0.13899268,  0.13898114,  0.13896874,  0.1389557 ,\n",
       "        0.13894222,  0.13892847,  0.1389146 ,  0.13890076,  0.13888704,\n",
       "        0.13887354,  0.13886032,  0.13884745,  0.13883497,  0.1388229 ,\n",
       "        0.13881126,  0.13880006,  0.13878931,  0.13877901,  0.13876915,\n",
       "        0.13875972,  0.13875072,  0.13874214,  0.13873395,  0.13872615,\n",
       "        0.13871871,  0.13871164,  0.1387049 ,  0.13869849,  0.13869238,\n",
       "        0.13868658,  0.13868105,  0.1386758 ,  0.1386708 ,  0.13866604,\n",
       "        0.13866151,  0.1386572 ,  0.1386531 ,  0.1386492 ,  0.13864549,\n",
       "        0.13864196,  0.13863859,  0.13863539,  0.13863234,  0.        ,\n",
       "        0.        ,  0.13863234,  0.13863539,  0.13863859,  0.13864196,\n",
       "        0.13864549,  0.1386492 ,  0.1386531 ,  0.1386572 ,  0.13866151,\n",
       "        0.13866604,  0.1386708 ,  0.1386758 ,  0.13868105,  0.13868658,\n",
       "        0.13869238,  0.13869849,  0.1387049 ,  0.13871164,  0.13871871,\n",
       "        0.13872615,  0.13873395,  0.13874214,  0.13875072,  0.13875972,\n",
       "        0.13876915,  0.13877901,  0.13878931,  0.13880006,  0.13881126,\n",
       "        0.1388229 ,  0.13883497,  0.13884745,  0.13886032,  0.13887354,\n",
       "        0.13888704,  0.13890076,  0.1389146 ,  0.13892847,  0.13894222,\n",
       "        0.1389557 ,  0.13896874,  0.13898114,  0.13899268,  0.13900313,\n",
       "        0.13901228,  0.13901991,  0.13902581,  0.13902984,  0.13903188,\n",
       "        0.13903188,  0.13902984,  0.13902581,  0.13901991,  0.13901228,\n",
       "        0.13900313,  0.13899268,  0.13898114,  0.13896874,  0.1389557 ,\n",
       "        0.13894222,  0.13892847,  0.1389146 ,  0.13890076,  0.13888704,\n",
       "        0.13887354,  0.13886032,  0.13884745,  0.13883497,  0.1388229 ,\n",
       "        0.13881126,  0.13880006,  0.13878931,  0.13877901,  0.13876915,\n",
       "        0.13875972,  0.13875072,  0.13874214,  0.13873395,  0.13872615,\n",
       "        0.13871871,  0.13871164,  0.1387049 ,  0.13869849,  0.13869238,\n",
       "        0.13868658,  0.13868105,  0.1386758 ,  0.1386708 ,  0.13866604,\n",
       "        0.13866151,  0.1386572 ,  0.1386531 ,  0.1386492 ,  0.13864549,\n",
       "        0.13864196,  0.13863859,  0.13863539,  0.13863234,  0.        ,\n",
       "        0.        ,  0.13863234,  0.13863539,  0.13863859,  0.13864196,\n",
       "        0.13864549,  0.1386492 ,  0.1386531 ,  0.1386572 ,  0.13866151,\n",
       "        0.13866604,  0.1386708 ,  0.1386758 ,  0.13868105,  0.13868658,\n",
       "        0.13869238,  0.13869849,  0.1387049 ,  0.13871164,  0.13871871,\n",
       "        0.13872615,  0.13873395,  0.13874214,  0.13875072,  0.13875972,\n",
       "        0.13876915,  0.13877901,  0.13878931,  0.13880006,  0.13881126,\n",
       "        0.1388229 ,  0.13883497,  0.13884745,  0.13886032,  0.13887354,\n",
       "        0.13888704,  0.13890076,  0.1389146 ,  0.13892847,  0.13894222,\n",
       "        0.1389557 ,  0.13896874,  0.13898114,  0.13899268,  0.13900313,\n",
       "        0.13901228,  0.13901991,  0.13902581,  0.13902984,  0.13903188,\n",
       "        0.13903188,  0.13902984,  0.13902581,  0.13901991,  0.13901228,\n",
       "        0.13900313,  0.13899268,  0.13898114,  0.13896874,  0.1389557 ,\n",
       "        0.13894222,  0.13892847,  0.1389146 ,  0.13890076,  0.13888704,\n",
       "        0.13887354,  0.13886032,  0.13884745,  0.13883497,  0.1388229 ,\n",
       "        0.13881126,  0.13880006,  0.13878931,  0.13877901,  0.13876915,\n",
       "        0.13875972,  0.13875072,  0.13874214,  0.13873395,  0.13872615,\n",
       "        0.13871871,  0.13871164,  0.1387049 ,  0.13869849,  0.13869238,\n",
       "        0.13868658,  0.13868105,  0.1386758 ,  0.1386708 ,  0.13866604,\n",
       "        0.13866151,  0.1386572 ,  0.1386531 ,  0.1386492 ,  0.13864549,\n",
       "        0.13864196,  0.13863859,  0.13863539,  0.13863234,  0.        ,\n",
       "        0.        ,  0.        ,  0.        ,  0.        ,  0.        ,\n",
       "        0.        ,  0.        ,  0.        ,  0.        ,  0.        ,\n",
       "        0.        ,  0.        ,  0.        ,  0.        ,  0.        ,\n",
       "        0.        ,  0.        ,  0.        ,  0.        ,  0.        ,\n",
       "        0.        ,  0.        ,  0.        ,  0.        ,  0.        ,\n",
       "        0.        ,  0.        ,  0.        ,  0.        ,  0.        ,\n",
       "        0.        ,  0.        ,  0.        ,  0.        ,  0.        ,\n",
       "        0.        ,  0.        ,  0.        ,  0.        ,  0.        ,\n",
       "        0.        ,  0.        ,  0.        ,  0.        ,  0.        ,\n",
       "        0.        ,  0.        ,  0.        ,  0.        ,  0.        ,\n",
       "        0.        ,  0.        ,  0.        ,  0.        ,  0.        ,\n",
       "        0.        ,  0.        ,  0.        ,  0.        ,  0.        ,\n",
       "        0.        ,  0.        ,  0.        ,  0.        ,  0.        ,\n",
       "        0.        ,  0.        ,  0.        ,  0.        ,  0.        ,\n",
       "        0.        ,  0.        ,  0.        ,  0.        ,  0.        ,\n",
       "        0.        ,  0.        ,  0.        ,  0.        ,  0.        ,\n",
       "        0.        ,  0.        ,  0.        ,  0.        ,  0.        ,\n",
       "        0.        ,  0.        ,  0.        ,  0.        ,  0.        ,\n",
       "        0.        ,  0.        ,  0.        ,  0.        ,  0.        ,\n",
       "        0.        ,  0.        ,  0.        ,  0.        ,  0.        ])"
      ]
     },
     "execution_count": 23,
     "metadata": {},
     "output_type": "execute_result"
    }
   ],
   "source": [
    "basic.grid.at_node['soil__depth']"
   ]
  },
  {
   "cell_type": "code",
   "execution_count": 24,
   "metadata": {},
   "outputs": [
    {
     "ename": "SyntaxError",
     "evalue": "EOL while scanning string literal (<ipython-input-24-afd96a51828d>, line 1)",
     "output_type": "error",
     "traceback": [
      "\u001b[0;36m  File \u001b[0;32m\"<ipython-input-24-afd96a51828d>\"\u001b[0;36m, line \u001b[0;32m1\u001b[0m\n\u001b[0;31m    diff = max(abs(basic.grid.at_node['topographic__elevation'][basic.grid.core_nodes] - basic.grid.at_node['topographic__elevation][basic.grid.core_nodes]))\u001b[0m\n\u001b[0m                                                                                                                                                            ^\u001b[0m\n\u001b[0;31mSyntaxError\u001b[0m\u001b[0;31m:\u001b[0m EOL while scanning string literal\n"
     ]
    }
   ],
   "source": [
    "diff = max(abs(basic.grid.at_node['topographic__elevation'][basic.grid.core_nodes] - basic.grid.at_node['topographic__elevation][basic.grid.core_nodes]))\n",
    "   "
   ]
  },
  {
   "cell_type": "code",
   "execution_count": null,
   "metadata": {},
   "outputs": [],
   "source": [
    "import matplotlib\n",
    "from matplotlib import ticker\n",
    "#plotting param\n",
    "matplotlib.rcParams.update({'font.size': 20})\n",
    "\n",
    "\n",
    "##instantiate figure and plot\n",
    "fig = plt.figure(figsize=(6, 3.75))\n",
    "hillslope = plt.subplot()\n",
    "\n",
    "#plotting param\n",
    "matplotlib.rcParams.update({'font.size': 20})\n",
    "\n",
    "#parameters\n",
    "uplift_rate = 0.0005\n",
    "hillslope_diffusivity = 1.0\n",
    "\n",
    "#plot the actual profile\n",
    "domain = np.arange(0, max(basic.grid.node_x + dx), dx)\n",
    "x = np.arange(-max(domain) / 2., max(domain) / 2. + dx, dx)\n",
    "\n",
    "hillslope.plot(domain/1000 , topo_profile, marker='o', c='k', linewidth = 0, markerfacecolor='None', label = 'Numerical Solution')\n",
    "\n",
    "#plot the theoretical profile\n",
    "\n",
    "#plt.plot((x + max(x)) / 1000, steady_z_profile , linestyle='-', c='grey', linewidth = 2, label = 'Analytical Solution')\n",
    "\n",
    "#axis labels\n",
    "hillslope.set_xlabel('Distance [km]')\n",
    "hillslope.set_ylabel('Elevation [m]')\n",
    "\n",
    "#legend\n",
    "#hillslope.legend(scatterpoints = 1, prop={'size':12})\n",
    "\n",
    "#save figure\n",
    "fig.savefig('cubic_depth_dependent_topo.eps',bbox_inches='tight', dpi=300)\n"
   ]
  },
  {
   "cell_type": "code",
   "execution_count": null,
   "metadata": {},
   "outputs": [],
   "source": []
  }
 ],
 "metadata": {
  "kernelspec": {
   "display_name": "Python 2",
   "language": "python",
   "name": "python2"
  },
  "language_info": {
   "codemirror_mode": {
    "name": "ipython",
    "version": 2
   },
   "file_extension": ".py",
   "mimetype": "text/x-python",
   "name": "python",
   "nbconvert_exporter": "python",
   "pygments_lexer": "ipython2",
   "version": "2.7.14"
  }
 },
 "nbformat": 4,
 "nbformat_minor": 2
}
