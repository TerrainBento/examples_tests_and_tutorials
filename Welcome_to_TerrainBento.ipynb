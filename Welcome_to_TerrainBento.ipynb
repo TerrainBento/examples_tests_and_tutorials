{
 "cells": [
  {
   "cell_type": "markdown",
   "metadata": {},
   "source": [
    "# Welcome to TerrainBento\n",
    "\n",
    "You have just cloned the `examples_test_and_tutorials` repository for the TerrainBento multi-model package. Congratulations! \n",
    "\n",
    "If you are interested in reading about the details of TerrainBento, this package is described in the following OpenAccess manuscript [LINK TO MANUSCRIPT].\n",
    "\n",
    "The documentation for the package is provided [here](http://terrainbento.readthedocs.io/en/latest/).\n",
    "\n",
    "If you are interested in the source code, you can find it [on GitHub](). If there is a feature that TerrainBento does not have that you are interested in, if you have a clarificaiton question, or if you find an error, please make an [Issue on GitHub]() so we can improve the package. \n",
    "\n",
    "This notebook exists to provide a hyperlinked guide to the supporting examples, tests, and tutorials we have created in support of this package. \n",
    "\n",
    "## Introduction\n",
    "\n",
    "TerrainBento was designed to make it easy to create comparable models in Earth surface dynamics. The package has 28 model programs and a model base class that makes it possible to make additional models within the same framework. \n",
    "\n",
    "The simplest model, called Basic evolves topography using stream power and linear diffusion. It has the following governing equation:\n",
    "\n",
    "$\\frac{\\partial \\eta}{\\partial t} = - KA^{1/2}S + D\\nabla^2 \\eta$\n",
    "\n",
    "Other models modify Basic by adding or changing a process component. \n",
    "\n",
    "## Example usage\n",
    "\n",
    "General introduction, \n",
    "\n",
    "Introduction to boundary condition handlers\n",
    "\n",
    "Introdution to output writers\n",
    "\n",
    "\n",
    "## Example Coupled Models\n",
    "\n",
    "This section provides links to five notebooks that show the usage of five example models provided in TerrainBento. In each of these notebooks we provide the governing equation(s) for the model, initialize and run the model, make a slope-area plot, save a NetCDF of the final topography, and plot a image of the final topography. \n",
    "\n",
    "1) [Basic](steady_state_solutions/notebooks/coupled_process_elements/model_000_COUPLED_steady_solution.ipynb)\n",
    "\n",
    "2) [BasicVm](steady_state_solutions/notebooks/coupled_process_elements/model_001_COUPLED_steady_solution.ipynb) which permits the drainage area exponent to change\n",
    "\n",
    "3) [BasicCh](steady_state_solutions/notebooks/coupled_process_elements/model_040_COUPLED_steady_solution.ipynb) which uses a non-linear hillslope erosion and transport law\n",
    "\n",
    "4) [BasicVs](steady_state_solutions/notebooks/coupled_process_elements/model_200_COUPLED_steady_solution.ipynb) which uses variable source area hydrology\n",
    "\n",
    "5) [BasisRt](steady_state_solutions/notebooks/coupled_process_elements/model_800_COUPLED_steady_solution.ipynb) which allows for two lithologies with different K values\n"
   ]
  }
 ],
 "metadata": {
  "kernelspec": {
   "display_name": "Python 3",
   "language": "python",
   "name": "python3"
  },
  "language_info": {
   "codemirror_mode": {
    "name": "ipython",
    "version": 3
   },
   "file_extension": ".py",
   "mimetype": "text/x-python",
   "name": "python",
   "nbconvert_exporter": "python",
   "pygments_lexer": "ipython3",
   "version": "3.6.2"
  }
 },
 "nbformat": 4,
 "nbformat_minor": 2
}
